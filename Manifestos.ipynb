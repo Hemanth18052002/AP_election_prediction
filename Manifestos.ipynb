{
 "cells": [
  {
   "cell_type": "code",
   "execution_count": 1,
   "id": "fac9c25c",
   "metadata": {},
   "outputs": [],
   "source": [
    "import pandas as pd\n",
    "import numpy as np\n",
    "import matplotlib.pyplot as plt"
   ]
  },
  {
   "cell_type": "markdown",
   "id": "886babb4",
   "metadata": {},
   "source": [
    "# READING THE DATA SET"
   ]
  },
  {
   "cell_type": "code",
   "execution_count": 3,
   "id": "86fa4a60",
   "metadata": {},
   "outputs": [],
   "source": [
    "ysrcp_train = pd.read_csv(r\"dataset\\manifestios\\ysrcp_mani_train.csv\")\n",
    "tdp_train   = pd.read_csv(r\"dataset\\manifestos\\tdp_mani_train.csv\")"
   ]
  },
  {
   "cell_type": "markdown",
   "id": "b59699ac",
   "metadata": {},
   "source": [
    "# DATA ANALYSIS"
   ]
  },
  {
   "cell_type": "markdown",
   "id": "24fbad56",
   "metadata": {},
   "source": [
    "### YSRCP"
   ]
  },
  {
   "cell_type": "code",
   "execution_count": 4,
   "id": "df27bc63",
   "metadata": {},
   "outputs": [
    {
     "data": {
      "text/html": [
       "<div>\n",
       "<style scoped>\n",
       "    .dataframe tbody tr th:only-of-type {\n",
       "        vertical-align: middle;\n",
       "    }\n",
       "\n",
       "    .dataframe tbody tr th {\n",
       "        vertical-align: top;\n",
       "    }\n",
       "\n",
       "    .dataframe thead th {\n",
       "        text-align: right;\n",
       "    }\n",
       "</style>\n",
       "<table border=\"1\" class=\"dataframe\">\n",
       "  <thead>\n",
       "    <tr style=\"text-align: right;\">\n",
       "      <th></th>\n",
       "      <th>Unnamed: 0</th>\n",
       "      <th>Comments</th>\n",
       "      <th>Emotion</th>\n",
       "    </tr>\n",
       "  </thead>\n",
       "  <tbody>\n",
       "    <tr>\n",
       "      <th>0</th>\n",
       "      <td>0</td>\n",
       "      <td>vidyadeevana pada is a moga padai keech</td>\n",
       "      <td>Negative</td>\n",
       "    </tr>\n",
       "    <tr>\n",
       "      <th>1</th>\n",
       "      <td>1</td>\n",
       "      <td>yet the vasathi deevena amount not released bu...</td>\n",
       "      <td>Positive</td>\n",
       "    </tr>\n",
       "    <tr>\n",
       "      <th>2</th>\n",
       "      <td>2</td>\n",
       "      <td>thanks for vidya deewana</td>\n",
       "      <td>Positive</td>\n",
       "    </tr>\n",
       "    <tr>\n",
       "      <th>3</th>\n",
       "      <td>3</td>\n",
       "      <td>it is a waste of time and pressure on students...</td>\n",
       "      <td>Negative</td>\n",
       "    </tr>\n",
       "    <tr>\n",
       "      <th>4</th>\n",
       "      <td>4</td>\n",
       "      <td>think ones</td>\n",
       "      <td>Positive</td>\n",
       "    </tr>\n",
       "  </tbody>\n",
       "</table>\n",
       "</div>"
      ],
      "text/plain": [
       "   Unnamed: 0                                           Comments   Emotion\n",
       "0           0            vidyadeevana pada is a moga padai keech  Negative\n",
       "1           1  yet the vasathi deevena amount not released bu...  Positive\n",
       "2           2                           thanks for vidya deewana  Positive\n",
       "3           3  it is a waste of time and pressure on students...  Negative\n",
       "4           4                                         think ones  Positive"
      ]
     },
     "execution_count": 4,
     "metadata": {},
     "output_type": "execute_result"
    }
   ],
   "source": [
    "ysrcp_train.head()"
   ]
  },
  {
   "cell_type": "code",
   "execution_count": 5,
   "id": "d7299dbb",
   "metadata": {},
   "outputs": [
    {
     "data": {
      "text/html": [
       "<div>\n",
       "<style scoped>\n",
       "    .dataframe tbody tr th:only-of-type {\n",
       "        vertical-align: middle;\n",
       "    }\n",
       "\n",
       "    .dataframe tbody tr th {\n",
       "        vertical-align: top;\n",
       "    }\n",
       "\n",
       "    .dataframe thead th {\n",
       "        text-align: right;\n",
       "    }\n",
       "</style>\n",
       "<table border=\"1\" class=\"dataframe\">\n",
       "  <thead>\n",
       "    <tr style=\"text-align: right;\">\n",
       "      <th></th>\n",
       "      <th>Unnamed: 0</th>\n",
       "    </tr>\n",
       "  </thead>\n",
       "  <tbody>\n",
       "    <tr>\n",
       "      <th>count</th>\n",
       "      <td>3020.000000</td>\n",
       "    </tr>\n",
       "    <tr>\n",
       "      <th>mean</th>\n",
       "      <td>1618.477815</td>\n",
       "    </tr>\n",
       "    <tr>\n",
       "      <th>std</th>\n",
       "      <td>923.274786</td>\n",
       "    </tr>\n",
       "    <tr>\n",
       "      <th>min</th>\n",
       "      <td>0.000000</td>\n",
       "    </tr>\n",
       "    <tr>\n",
       "      <th>25%</th>\n",
       "      <td>821.750000</td>\n",
       "    </tr>\n",
       "    <tr>\n",
       "      <th>50%</th>\n",
       "      <td>1624.500000</td>\n",
       "    </tr>\n",
       "    <tr>\n",
       "      <th>75%</th>\n",
       "      <td>2427.250000</td>\n",
       "    </tr>\n",
       "    <tr>\n",
       "      <th>max</th>\n",
       "      <td>3210.000000</td>\n",
       "    </tr>\n",
       "  </tbody>\n",
       "</table>\n",
       "</div>"
      ],
      "text/plain": [
       "        Unnamed: 0\n",
       "count  3020.000000\n",
       "mean   1618.477815\n",
       "std     923.274786\n",
       "min       0.000000\n",
       "25%     821.750000\n",
       "50%    1624.500000\n",
       "75%    2427.250000\n",
       "max    3210.000000"
      ]
     },
     "execution_count": 5,
     "metadata": {},
     "output_type": "execute_result"
    }
   ],
   "source": [
    "ysrcp_train.describe()"
   ]
  },
  {
   "cell_type": "code",
   "execution_count": 6,
   "id": "0b90091c",
   "metadata": {},
   "outputs": [
    {
     "name": "stdout",
     "output_type": "stream",
     "text": [
      "<class 'pandas.core.frame.DataFrame'>\n",
      "RangeIndex: 3020 entries, 0 to 3019\n",
      "Data columns (total 3 columns):\n",
      " #   Column      Non-Null Count  Dtype \n",
      "---  ------      --------------  ----- \n",
      " 0   Unnamed: 0  3020 non-null   int64 \n",
      " 1   Comments    3019 non-null   object\n",
      " 2   Emotion     3020 non-null   object\n",
      "dtypes: int64(1), object(2)\n",
      "memory usage: 70.9+ KB\n"
     ]
    }
   ],
   "source": [
    "ysrcp_train.info()"
   ]
  },
  {
   "cell_type": "code",
   "execution_count": 7,
   "id": "c62eac51",
   "metadata": {},
   "outputs": [
    {
     "data": {
      "text/plain": [
       "Index(['Unnamed: 0', 'Comments', 'Emotion'], dtype='object')"
      ]
     },
     "execution_count": 7,
     "metadata": {},
     "output_type": "execute_result"
    }
   ],
   "source": [
    "ysrcp_train.columns"
   ]
  },
  {
   "cell_type": "code",
   "execution_count": 8,
   "id": "fded95c3",
   "metadata": {},
   "outputs": [
    {
     "data": {
      "text/plain": [
       "(3020, 3)"
      ]
     },
     "execution_count": 8,
     "metadata": {},
     "output_type": "execute_result"
    }
   ],
   "source": [
    "ysrcp_train.shape"
   ]
  },
  {
   "cell_type": "markdown",
   "id": "33754a19",
   "metadata": {},
   "source": [
    "### TDP"
   ]
  },
  {
   "cell_type": "code",
   "execution_count": 9,
   "id": "c30aa613",
   "metadata": {},
   "outputs": [
    {
     "data": {
      "text/html": [
       "<div>\n",
       "<style scoped>\n",
       "    .dataframe tbody tr th:only-of-type {\n",
       "        vertical-align: middle;\n",
       "    }\n",
       "\n",
       "    .dataframe tbody tr th {\n",
       "        vertical-align: top;\n",
       "    }\n",
       "\n",
       "    .dataframe thead th {\n",
       "        text-align: right;\n",
       "    }\n",
       "</style>\n",
       "<table border=\"1\" class=\"dataframe\">\n",
       "  <thead>\n",
       "    <tr style=\"text-align: right;\">\n",
       "      <th></th>\n",
       "      <th>Unnamed: 0</th>\n",
       "      <th>Comments</th>\n",
       "      <th>Emotion</th>\n",
       "    </tr>\n",
       "  </thead>\n",
       "  <tbody>\n",
       "    <tr>\n",
       "      <th>0</th>\n",
       "      <td>0</td>\n",
       "      <td>yes brother in our village landless persons al...</td>\n",
       "      <td>Negative</td>\n",
       "    </tr>\n",
       "    <tr>\n",
       "      <th>1</th>\n",
       "      <td>1</td>\n",
       "      <td>sir me nanna perumeeda vunna polamki vesuntaru...</td>\n",
       "      <td>Negative</td>\n",
       "    </tr>\n",
       "    <tr>\n",
       "      <th>2</th>\n",
       "      <td>2</td>\n",
       "      <td>bro(\"\"\" vote for note\"\"\" )new scheme</td>\n",
       "      <td>Positive</td>\n",
       "    </tr>\n",
       "    <tr>\n",
       "      <th>3</th>\n",
       "      <td>3</td>\n",
       "      <td>pls complaint to ec and take this matter very ...</td>\n",
       "      <td>Negative</td>\n",
       "    </tr>\n",
       "    <tr>\n",
       "      <th>4</th>\n",
       "      <td>4</td>\n",
       "      <td>well said bro people who believes that cbn is ...</td>\n",
       "      <td>Negative</td>\n",
       "    </tr>\n",
       "  </tbody>\n",
       "</table>\n",
       "</div>"
      ],
      "text/plain": [
       "   Unnamed: 0                                           Comments   Emotion\n",
       "0           0  yes brother in our village landless persons al...  Negative\n",
       "1           1  sir me nanna perumeeda vunna polamki vesuntaru...  Negative\n",
       "2           2               bro(\"\"\" vote for note\"\"\" )new scheme  Positive\n",
       "3           3  pls complaint to ec and take this matter very ...  Negative\n",
       "4           4  well said bro people who believes that cbn is ...  Negative"
      ]
     },
     "execution_count": 9,
     "metadata": {},
     "output_type": "execute_result"
    }
   ],
   "source": [
    "tdp_train.head()"
   ]
  },
  {
   "cell_type": "code",
   "execution_count": 10,
   "id": "aa56e724",
   "metadata": {},
   "outputs": [
    {
     "data": {
      "text/html": [
       "<div>\n",
       "<style scoped>\n",
       "    .dataframe tbody tr th:only-of-type {\n",
       "        vertical-align: middle;\n",
       "    }\n",
       "\n",
       "    .dataframe tbody tr th {\n",
       "        vertical-align: top;\n",
       "    }\n",
       "\n",
       "    .dataframe thead th {\n",
       "        text-align: right;\n",
       "    }\n",
       "</style>\n",
       "<table border=\"1\" class=\"dataframe\">\n",
       "  <thead>\n",
       "    <tr style=\"text-align: right;\">\n",
       "      <th></th>\n",
       "      <th>Unnamed: 0</th>\n",
       "    </tr>\n",
       "  </thead>\n",
       "  <tbody>\n",
       "    <tr>\n",
       "      <th>count</th>\n",
       "      <td>4816.000000</td>\n",
       "    </tr>\n",
       "    <tr>\n",
       "      <th>mean</th>\n",
       "      <td>2407.500000</td>\n",
       "    </tr>\n",
       "    <tr>\n",
       "      <th>std</th>\n",
       "      <td>1390.403778</td>\n",
       "    </tr>\n",
       "    <tr>\n",
       "      <th>min</th>\n",
       "      <td>0.000000</td>\n",
       "    </tr>\n",
       "    <tr>\n",
       "      <th>25%</th>\n",
       "      <td>1203.750000</td>\n",
       "    </tr>\n",
       "    <tr>\n",
       "      <th>50%</th>\n",
       "      <td>2407.500000</td>\n",
       "    </tr>\n",
       "    <tr>\n",
       "      <th>75%</th>\n",
       "      <td>3611.250000</td>\n",
       "    </tr>\n",
       "    <tr>\n",
       "      <th>max</th>\n",
       "      <td>4815.000000</td>\n",
       "    </tr>\n",
       "  </tbody>\n",
       "</table>\n",
       "</div>"
      ],
      "text/plain": [
       "        Unnamed: 0\n",
       "count  4816.000000\n",
       "mean   2407.500000\n",
       "std    1390.403778\n",
       "min       0.000000\n",
       "25%    1203.750000\n",
       "50%    2407.500000\n",
       "75%    3611.250000\n",
       "max    4815.000000"
      ]
     },
     "execution_count": 10,
     "metadata": {},
     "output_type": "execute_result"
    }
   ],
   "source": [
    "tdp_train.describe()"
   ]
  },
  {
   "cell_type": "code",
   "execution_count": 11,
   "id": "8639e9e2",
   "metadata": {},
   "outputs": [
    {
     "name": "stdout",
     "output_type": "stream",
     "text": [
      "<class 'pandas.core.frame.DataFrame'>\n",
      "RangeIndex: 4816 entries, 0 to 4815\n",
      "Data columns (total 3 columns):\n",
      " #   Column      Non-Null Count  Dtype \n",
      "---  ------      --------------  ----- \n",
      " 0   Unnamed: 0  4816 non-null   int64 \n",
      " 1   Comments    4815 non-null   object\n",
      " 2   Emotion     4816 non-null   object\n",
      "dtypes: int64(1), object(2)\n",
      "memory usage: 113.0+ KB\n"
     ]
    }
   ],
   "source": [
    "tdp_train.info()"
   ]
  },
  {
   "cell_type": "code",
   "execution_count": 12,
   "id": "b36495cb",
   "metadata": {},
   "outputs": [
    {
     "data": {
      "text/plain": [
       "Index(['Unnamed: 0', 'Comments', 'Emotion'], dtype='object')"
      ]
     },
     "execution_count": 12,
     "metadata": {},
     "output_type": "execute_result"
    }
   ],
   "source": [
    "tdp_train.columns"
   ]
  },
  {
   "cell_type": "code",
   "execution_count": 13,
   "id": "d2175b5f",
   "metadata": {},
   "outputs": [
    {
     "data": {
      "text/plain": [
       "(4816, 3)"
      ]
     },
     "execution_count": 13,
     "metadata": {},
     "output_type": "execute_result"
    }
   ],
   "source": [
    "tdp_train.shape"
   ]
  },
  {
   "cell_type": "markdown",
   "id": "cceaa012",
   "metadata": {},
   "source": [
    "# CHECKING FOR NULL VALUES"
   ]
  },
  {
   "cell_type": "markdown",
   "id": "17f4bb55",
   "metadata": {},
   "source": [
    "### YSRCP"
   ]
  },
  {
   "cell_type": "code",
   "execution_count": 14,
   "id": "3e72e987",
   "metadata": {},
   "outputs": [
    {
     "data": {
      "text/plain": [
       "Unnamed: 0    0\n",
       "Comments      1\n",
       "Emotion       0\n",
       "dtype: int64"
      ]
     },
     "execution_count": 14,
     "metadata": {},
     "output_type": "execute_result"
    }
   ],
   "source": [
    "ysrcp_train.isnull().sum()"
   ]
  },
  {
   "cell_type": "code",
   "execution_count": 15,
   "id": "c91cea5f",
   "metadata": {},
   "outputs": [],
   "source": [
    "ysrcp_train.dropna(inplace = True)"
   ]
  },
  {
   "cell_type": "code",
   "execution_count": 16,
   "id": "71c26b06",
   "metadata": {},
   "outputs": [
    {
     "data": {
      "text/plain": [
       "Unnamed: 0    0\n",
       "Comments      0\n",
       "Emotion       0\n",
       "dtype: int64"
      ]
     },
     "execution_count": 16,
     "metadata": {},
     "output_type": "execute_result"
    }
   ],
   "source": [
    "ysrcp_train.isnull().sum()"
   ]
  },
  {
   "cell_type": "markdown",
   "id": "8469346d",
   "metadata": {},
   "source": [
    "### TDP"
   ]
  },
  {
   "cell_type": "code",
   "execution_count": 17,
   "id": "7ad346f2",
   "metadata": {},
   "outputs": [
    {
     "data": {
      "text/plain": [
       "Unnamed: 0    0\n",
       "Comments      1\n",
       "Emotion       0\n",
       "dtype: int64"
      ]
     },
     "execution_count": 17,
     "metadata": {},
     "output_type": "execute_result"
    }
   ],
   "source": [
    "tdp_train.isnull().sum()"
   ]
  },
  {
   "cell_type": "code",
   "execution_count": 18,
   "id": "787a408e",
   "metadata": {},
   "outputs": [],
   "source": [
    "tdp_train.dropna(inplace=True)"
   ]
  },
  {
   "cell_type": "code",
   "execution_count": 19,
   "id": "d2e362e3",
   "metadata": {},
   "outputs": [
    {
     "data": {
      "text/plain": [
       "Unnamed: 0    0\n",
       "Comments      0\n",
       "Emotion       0\n",
       "dtype: int64"
      ]
     },
     "execution_count": 19,
     "metadata": {},
     "output_type": "execute_result"
    }
   ],
   "source": [
    "tdp_train.isnull().sum()"
   ]
  },
  {
   "cell_type": "markdown",
   "id": "273acbce",
   "metadata": {},
   "source": [
    "# CHECKING FOR DUPLICTAES"
   ]
  },
  {
   "cell_type": "markdown",
   "id": "4cf5f0ce",
   "metadata": {},
   "source": [
    "### YSRCP"
   ]
  },
  {
   "cell_type": "code",
   "execution_count": 20,
   "id": "14f98f16",
   "metadata": {},
   "outputs": [
    {
     "data": {
      "text/plain": [
       "0"
      ]
     },
     "execution_count": 20,
     "metadata": {},
     "output_type": "execute_result"
    }
   ],
   "source": [
    "ysrcp_train.duplicated().sum()"
   ]
  },
  {
   "cell_type": "markdown",
   "id": "c838c91b",
   "metadata": {},
   "source": [
    "### TDP"
   ]
  },
  {
   "cell_type": "code",
   "execution_count": 21,
   "id": "9a448449",
   "metadata": {},
   "outputs": [
    {
     "data": {
      "text/plain": [
       "0"
      ]
     },
     "execution_count": 21,
     "metadata": {},
     "output_type": "execute_result"
    }
   ],
   "source": [
    "tdp_train.duplicated().sum()"
   ]
  },
  {
   "cell_type": "markdown",
   "id": "f71d3a5f",
   "metadata": {},
   "source": [
    "## DATA VISUALIZATION"
   ]
  },
  {
   "cell_type": "markdown",
   "id": "396c4c88",
   "metadata": {},
   "source": [
    "### YSRCP"
   ]
  },
  {
   "cell_type": "code",
   "execution_count": 22,
   "id": "3625ef63",
   "metadata": {},
   "outputs": [
    {
     "data": {
      "image/png": "[encoded data removed]",
      "text/plain": [
       "<Figure size 432x288 with 1 Axes>"
      ]
     },
     "metadata": {},
     "output_type": "display_data"
    }
   ],
   "source": [
    "ysrcp_dic = {}\n",
    "for i in ysrcp_train['Emotion']:\n",
    "    if i in ysrcp_dic:\n",
    "        ysrcp_dic[i] = ysrcp_dic[i] + 1\n",
    "    else:\n",
    "        ysrcp_dic[i] = 1\n",
    "plt.pie(ysrcp_dic.values(),labels=ysrcp_dic.keys(),autopct='%.2f%%')\n",
    "plt.title(\"Party Y Manifestos 2019\")\n",
    "plt.show()"
   ]
  },
  {
   "cell_type": "markdown",
   "id": "47a01c5d",
   "metadata": {},
   "source": [
    "### TDP"
   ]
  },
  {
   "cell_type": "code",
   "execution_count": 23,
   "id": "aaedf047",
   "metadata": {},
   "outputs": [
    {
     "data": {
      "image/png": "[encoded data removed]",
      "text/plain": [
       "<Figure size 432x288 with 1 Axes>"
      ]
     },
     "metadata": {},
     "output_type": "display_data"
    }
   ],
   "source": [
    "tdp_dic = {}\n",
    "for i in tdp_train['Emotion']:\n",
    "    if i in tdp_dic:\n",
    "        tdp_dic[i] = tdp_dic[i] + 1\n",
    "    else:\n",
    "        tdp_dic[i] = 1\n",
    "plt.pie(tdp_dic.values(),labels=tdp_dic.keys(),autopct='%.2f%%')\n",
    "plt.title(\"Party T Manifestos 2019\")\n",
    "plt.show()"
   ]
  },
  {
   "cell_type": "code",
   "execution_count": 23,
   "id": "a37ea816",
   "metadata": {},
   "outputs": [],
   "source": [
    "num_ysrcp_emotion = []\n",
    "for i in ysrcp_train['Emotion']:\n",
    "    if i=='Positive':\n",
    "        num_ysrcp_emotion.append(1.0)\n",
    "    elif i=='Negative':\n",
    "        num_ysrcp_emotion.append(0.0)\n",
    "    else:\n",
    "        num_ysrcp_emotion.append(2.0)\n",
    "ysrcp_train['num_emotion'] = num_ysrcp_emotion"
   ]
  },
  {
   "cell_type": "code",
   "execution_count": 24,
   "id": "b1c01777",
   "metadata": {},
   "outputs": [],
   "source": [
    "num_tdp_emotion = []\n",
    "for i in tdp_train['Emotion']:\n",
    "    if i=='Positive':\n",
    "        num_tdp_emotion.append(1.0)\n",
    "    elif i=='Negative':\n",
    "        num_tdp_emotion.append(0.0)\n",
    "    else:\n",
    "        num_tdp_emotion.append(2.0)\n",
    "tdp_train['num_emotion'] = num_tdp_emotion"
   ]
  },
  {
   "cell_type": "markdown",
   "id": "8beec69a",
   "metadata": {},
   "source": [
    "## DATA PREPROCESSING"
   ]
  },
  {
   "cell_type": "code",
   "execution_count": 25,
   "id": "6bb0662e",
   "metadata": {},
   "outputs": [
    {
     "name": "stderr",
     "output_type": "stream",
     "text": [
      "C:\\Users\\posah\\anacondap\\lib\\site-packages\\scipy\\__init__.py:146: UserWarning: A NumPy version >=1.16.5 and <1.23.0 is required for this version of SciPy (detected version 1.26.0\n",
      "  warnings.warn(f\"A NumPy version >={np_minversion} and <{np_maxversion}\"\n"
     ]
    }
   ],
   "source": [
    "import re\n",
    "import numpy as np\n",
    "import nltk\n",
    "from nltk import word_tokenize\n",
    "from nltk.stem import WordNetLemmatizer\n",
    "from nltk.corpus import stopwords"
   ]
  },
  {
   "cell_type": "code",
   "execution_count": 26,
   "id": "73fa5862",
   "metadata": {},
   "outputs": [],
   "source": [
    "lm = WordNetLemmatizer()\n",
    "sw = stopwords.words('English')"
   ]
  },
  {
   "cell_type": "code",
   "execution_count": 27,
   "id": "e15a64e9",
   "metadata": {},
   "outputs": [
    {
     "name": "stdout",
     "output_type": "stream",
     "text": [
      "DONE\n",
      "Maximum length of sentence :  241\n",
      "Maximum number of words :  7211\n"
     ]
    }
   ],
   "source": [
    "ysrcp_comments = []\n",
    "ysrcp_max_len = 0\n",
    "ysrcp_unique = set()\n",
    "for i in ysrcp_train['Comments']:\n",
    "    p = re.sub(r'http\\S+|www\\S+|@\\w+', ' ', i)\n",
    "    p = re.sub(r'[^a-z]',' ',p)\n",
    "    p = re.sub('[.+|,+]',' ',p)\n",
    "    p = word_tokenize(p)\n",
    "    p = [k for k in p if k not in sw]\n",
    "    p = [lm.lemmatize(k) for k in p]\n",
    "    ysrcp_unique = ysrcp_unique | set(p)\n",
    "    ysrcp_max_len = max(len(p),ysrcp_max_len)\n",
    "    p = ' '.join(p)\n",
    "    if p=='':\n",
    "        ysrcp_comments.append(np.nan)\n",
    "    else:\n",
    "        ysrcp_comments.append(p)\n",
    "print('DONE')\n",
    "print(\"Maximum length of sentence : \",ysrcp_max_len)\n",
    "ysrcp_n_words = len(ysrcp_unique)\n",
    "print(\"Maximum number of words : \",ysrcp_n_words)"
   ]
  },
  {
   "cell_type": "code",
   "execution_count": 28,
   "id": "1d2a8a83",
   "metadata": {},
   "outputs": [],
   "source": [
    "ysrcp_train['pre_pro_comm'] = ysrcp_comments"
   ]
  },
  {
   "cell_type": "code",
   "execution_count": 29,
   "id": "47686e09",
   "metadata": {},
   "outputs": [
    {
     "data": {
      "text/plain": [
       "Unnamed: 0       0\n",
       "Comments         0\n",
       "Emotion          0\n",
       "num_emotion      0\n",
       "pre_pro_comm    13\n",
       "dtype: int64"
      ]
     },
     "execution_count": 29,
     "metadata": {},
     "output_type": "execute_result"
    }
   ],
   "source": [
    "ysrcp_train.isnull().sum()"
   ]
  },
  {
   "cell_type": "code",
   "execution_count": 30,
   "id": "4b16bd40",
   "metadata": {},
   "outputs": [],
   "source": [
    "ysrcp_train.dropna(inplace = True)"
   ]
  },
  {
   "cell_type": "code",
   "execution_count": 31,
   "id": "d948f6c9",
   "metadata": {},
   "outputs": [
    {
     "data": {
      "text/plain": [
       "Unnamed: 0      0\n",
       "Comments        0\n",
       "Emotion         0\n",
       "num_emotion     0\n",
       "pre_pro_comm    0\n",
       "dtype: int64"
      ]
     },
     "execution_count": 31,
     "metadata": {},
     "output_type": "execute_result"
    }
   ],
   "source": [
    "ysrcp_train.isnull().sum()"
   ]
  },
  {
   "cell_type": "code",
   "execution_count": 32,
   "id": "43e8c32a",
   "metadata": {},
   "outputs": [
    {
     "data": {
      "text/plain": [
       "(3006, 5)"
      ]
     },
     "execution_count": 32,
     "metadata": {},
     "output_type": "execute_result"
    }
   ],
   "source": [
    "ysrcp_train.shape"
   ]
  },
  {
   "cell_type": "markdown",
   "id": "91f9b699",
   "metadata": {},
   "source": [
    "### TDP"
   ]
  },
  {
   "cell_type": "code",
   "execution_count": 33,
   "id": "01416573",
   "metadata": {},
   "outputs": [
    {
     "name": "stdout",
     "output_type": "stream",
     "text": [
      "DONE\n",
      "Maximum length of sentence :  153\n",
      "Maximum number of words :  8838\n"
     ]
    }
   ],
   "source": [
    "tdp_comments = []\n",
    "tdp_max_len = 0\n",
    "tdp_unique = set()\n",
    "for i in tdp_train['Comments']:\n",
    "    p = re.sub(r'http\\S+|www\\S+|@\\w+', ' ', i)\n",
    "    p = re.sub(r'[^a-z]',' ',p)\n",
    "    p = re.sub('[.+|,+]',' ',p)\n",
    "    p = word_tokenize(p)\n",
    "    p = [i for i in p if i not in sw]\n",
    "    p = [lm.lemmatize(i) for i in p]\n",
    "    tdp_unique = tdp_unique | set(p)\n",
    "    tdp_max_len = max(len(p),tdp_max_len)\n",
    "    p = ' '.join(p)\n",
    "    p = re.sub(' +',' ',p)\n",
    "    if p=='':\n",
    "        tdp_comments.append(np.nan)\n",
    "    else:\n",
    "        tdp_comments.append(p)\n",
    "print('DONE')\n",
    "print(\"Maximum length of sentence : \",tdp_max_len)\n",
    "tdp_n_words = len(tdp_unique)\n",
    "print(\"Maximum number of words : \",tdp_n_words)"
   ]
  },
  {
   "cell_type": "code",
   "execution_count": 34,
   "id": "30841be4",
   "metadata": {},
   "outputs": [],
   "source": [
    "tdp_train['pre_pro_comm'] = tdp_comments"
   ]
  },
  {
   "cell_type": "code",
   "execution_count": 35,
   "id": "966d3c6c",
   "metadata": {},
   "outputs": [
    {
     "data": {
      "text/plain": [
       "Unnamed: 0       0\n",
       "Comments         0\n",
       "Emotion          0\n",
       "num_emotion      0\n",
       "pre_pro_comm    52\n",
       "dtype: int64"
      ]
     },
     "execution_count": 35,
     "metadata": {},
     "output_type": "execute_result"
    }
   ],
   "source": [
    "tdp_train.isnull().sum()"
   ]
  },
  {
   "cell_type": "code",
   "execution_count": 36,
   "id": "8155bcf7",
   "metadata": {},
   "outputs": [],
   "source": [
    "tdp_train.dropna(inplace = True)"
   ]
  },
  {
   "cell_type": "code",
   "execution_count": 37,
   "id": "d342c1bb",
   "metadata": {},
   "outputs": [
    {
     "data": {
      "text/plain": [
       "Unnamed: 0      0\n",
       "Comments        0\n",
       "Emotion         0\n",
       "num_emotion     0\n",
       "pre_pro_comm    0\n",
       "dtype: int64"
      ]
     },
     "execution_count": 37,
     "metadata": {},
     "output_type": "execute_result"
    }
   ],
   "source": [
    "tdp_train.isnull().sum()"
   ]
  },
  {
   "cell_type": "code",
   "execution_count": 38,
   "id": "fb423d71",
   "metadata": {},
   "outputs": [
    {
     "data": {
      "text/plain": [
       "(4763, 5)"
      ]
     },
     "execution_count": 38,
     "metadata": {},
     "output_type": "execute_result"
    }
   ],
   "source": [
    "tdp_train.shape"
   ]
  },
  {
   "cell_type": "markdown",
   "id": "66989aa1",
   "metadata": {},
   "source": [
    "# Transforming the words into vectors using tf-idf"
   ]
  },
  {
   "cell_type": "code",
   "execution_count": 39,
   "id": "af6074c4",
   "metadata": {},
   "outputs": [],
   "source": [
    "from sklearn.feature_extraction.text import TfidfVectorizer"
   ]
  },
  {
   "cell_type": "code",
   "execution_count": 40,
   "id": "b8d029e4",
   "metadata": {},
   "outputs": [],
   "source": [
    "tf_idf = TfidfVectorizer()"
   ]
  },
  {
   "cell_type": "markdown",
   "id": "70dd6ca7",
   "metadata": {},
   "source": [
    "### YSRCP"
   ]
  },
  {
   "cell_type": "code",
   "execution_count": 41,
   "id": "a8b5c34d",
   "metadata": {},
   "outputs": [
    {
     "name": "stdout",
     "output_type": "stream",
     "text": [
      "[[0. 0. 0. ... 0. 0. 0.]\n",
      " [0. 0. 0. ... 0. 0. 0.]\n",
      " [0. 0. 0. ... 0. 0. 0.]\n",
      " ...\n",
      " [0. 0. 0. ... 0. 0. 0.]\n",
      " [0. 0. 0. ... 0. 0. 0.]\n",
      " [0. 0. 0. ... 0. 0. 0.]]\n"
     ]
    }
   ],
   "source": [
    "ysrcp_features = tf_idf.fit_transform(ysrcp_train['pre_pro_comm']).toarray()\n",
    "print(ysrcp_features)"
   ]
  },
  {
   "cell_type": "markdown",
   "id": "72bf903e",
   "metadata": {},
   "source": [
    "### TDP"
   ]
  },
  {
   "cell_type": "code",
   "execution_count": 42,
   "id": "d4b6649a",
   "metadata": {},
   "outputs": [
    {
     "name": "stdout",
     "output_type": "stream",
     "text": [
      "[[0. 0. 0. ... 0. 0. 0.]\n",
      " [0. 0. 0. ... 0. 0. 0.]\n",
      " [0. 0. 0. ... 0. 0. 0.]\n",
      " ...\n",
      " [0. 0. 0. ... 0. 0. 0.]\n",
      " [0. 0. 0. ... 0. 0. 0.]\n",
      " [0. 0. 0. ... 0. 0. 0.]]\n"
     ]
    }
   ],
   "source": [
    "tdp_features = tf_idf.fit_transform(tdp_train['pre_pro_comm']).toarray()\n",
    "print(tdp_features)"
   ]
  },
  {
   "cell_type": "markdown",
   "id": "3e7f46a4",
   "metadata": {},
   "source": [
    "# X & Y ARRAY"
   ]
  },
  {
   "cell_type": "markdown",
   "id": "2f4211ba",
   "metadata": {},
   "source": [
    "### YSRCP"
   ]
  },
  {
   "cell_type": "code",
   "execution_count": 43,
   "id": "9853f527",
   "metadata": {},
   "outputs": [
    {
     "name": "stdout",
     "output_type": "stream",
     "text": [
      "(3006, 7195) (3006,)\n",
      "<class 'numpy.ndarray'> <class 'pandas.core.series.Series'>\n"
     ]
    }
   ],
   "source": [
    "ysrcp_x = ysrcp_features\n",
    "ysrcp_y = ysrcp_train.iloc[:,-2]\n",
    "print(ysrcp_x.shape,ysrcp_y.shape)\n",
    "print(type(ysrcp_x),type(ysrcp_y))"
   ]
  },
  {
   "cell_type": "code",
   "execution_count": 44,
   "id": "315c1027",
   "metadata": {},
   "outputs": [
    {
     "data": {
      "text/plain": [
       "array([[0., 0., 0., ..., 0., 0., 0.],\n",
       "       [0., 0., 0., ..., 0., 0., 0.],\n",
       "       [0., 0., 0., ..., 0., 0., 0.],\n",
       "       ...,\n",
       "       [0., 0., 0., ..., 0., 0., 0.],\n",
       "       [0., 0., 0., ..., 0., 0., 0.],\n",
       "       [0., 0., 0., ..., 0., 0., 0.]])"
      ]
     },
     "execution_count": 44,
     "metadata": {},
     "output_type": "execute_result"
    }
   ],
   "source": [
    "ysrcp_x"
   ]
  },
  {
   "cell_type": "code",
   "execution_count": 45,
   "id": "804ce5a0",
   "metadata": {},
   "outputs": [
    {
     "data": {
      "text/plain": [
       "0       0.0\n",
       "1       1.0\n",
       "2       1.0\n",
       "3       0.0\n",
       "4       1.0\n",
       "       ... \n",
       "3015    1.0\n",
       "3016    1.0\n",
       "3017    0.0\n",
       "3018    1.0\n",
       "3019    0.0\n",
       "Name: num_emotion, Length: 3006, dtype: float64"
      ]
     },
     "execution_count": 45,
     "metadata": {},
     "output_type": "execute_result"
    }
   ],
   "source": [
    "ysrcp_y"
   ]
  },
  {
   "cell_type": "markdown",
   "id": "dec30822",
   "metadata": {},
   "source": [
    "### TDP"
   ]
  },
  {
   "cell_type": "code",
   "execution_count": 46,
   "id": "a74dcb9c",
   "metadata": {},
   "outputs": [
    {
     "name": "stdout",
     "output_type": "stream",
     "text": [
      "(4763, 8817) (4763,)\n",
      "<class 'numpy.ndarray'> <class 'pandas.core.series.Series'>\n"
     ]
    }
   ],
   "source": [
    "tdp_x = tdp_features\n",
    "tdp_y = tdp_train.iloc[:,-2]\n",
    "print(tdp_x.shape,tdp_y.shape)\n",
    "print(type(tdp_x),type(tdp_y))"
   ]
  },
  {
   "cell_type": "code",
   "execution_count": 47,
   "id": "0d10a959",
   "metadata": {},
   "outputs": [
    {
     "data": {
      "text/plain": [
       "array([[0., 0., 0., ..., 0., 0., 0.],\n",
       "       [0., 0., 0., ..., 0., 0., 0.],\n",
       "       [0., 0., 0., ..., 0., 0., 0.],\n",
       "       ...,\n",
       "       [0., 0., 0., ..., 0., 0., 0.],\n",
       "       [0., 0., 0., ..., 0., 0., 0.],\n",
       "       [0., 0., 0., ..., 0., 0., 0.]])"
      ]
     },
     "execution_count": 47,
     "metadata": {},
     "output_type": "execute_result"
    }
   ],
   "source": [
    "tdp_x"
   ]
  },
  {
   "cell_type": "code",
   "execution_count": 48,
   "id": "a0abd299",
   "metadata": {},
   "outputs": [
    {
     "data": {
      "text/plain": [
       "0       0.0\n",
       "1       0.0\n",
       "2       1.0\n",
       "3       0.0\n",
       "4       0.0\n",
       "       ... \n",
       "4811    1.0\n",
       "4812    0.0\n",
       "4813    1.0\n",
       "4814    0.0\n",
       "4815    1.0\n",
       "Name: num_emotion, Length: 4763, dtype: float64"
      ]
     },
     "execution_count": 48,
     "metadata": {},
     "output_type": "execute_result"
    }
   ],
   "source": [
    "tdp_y"
   ]
  },
  {
   "cell_type": "markdown",
   "id": "57ee49ee",
   "metadata": {},
   "source": [
    "# Spliting data into training and testing"
   ]
  },
  {
   "cell_type": "code",
   "execution_count": 49,
   "id": "f241e427",
   "metadata": {},
   "outputs": [],
   "source": [
    "from sklearn.model_selection import train_test_split"
   ]
  },
  {
   "cell_type": "markdown",
   "id": "8cd2ffa9",
   "metadata": {},
   "source": [
    "### YSRCP"
   ]
  },
  {
   "cell_type": "code",
   "execution_count": 50,
   "id": "0a1bd523",
   "metadata": {},
   "outputs": [],
   "source": [
    "ysrcp_x_train,ysrcp_x_test,ysrcp_y_train,ysrcp_y_test = \\\n",
    "        train_test_split(ysrcp_x,ysrcp_y,test_size=0.25,random_state=42)"
   ]
  },
  {
   "cell_type": "code",
   "execution_count": 51,
   "id": "4f9dda07",
   "metadata": {},
   "outputs": [
    {
     "name": "stdout",
     "output_type": "stream",
     "text": [
      "[[0. 0. 0. ... 0. 0. 0.]\n",
      " [0. 0. 0. ... 0. 0. 0.]\n",
      " [0. 0. 0. ... 0. 0. 0.]\n",
      " ...\n",
      " [0. 0. 0. ... 0. 0. 0.]\n",
      " [0. 0. 0. ... 0. 0. 0.]\n",
      " [0. 0. 0. ... 0. 0. 0.]]\n",
      "[[0. 0. 0. ... 0. 0. 0.]\n",
      " [0. 0. 0. ... 0. 0. 0.]\n",
      " [0. 0. 0. ... 0. 0. 0.]\n",
      " ...\n",
      " [0. 0. 0. ... 0. 0. 0.]\n",
      " [0. 0. 0. ... 0. 0. 0.]\n",
      " [0. 0. 0. ... 0. 0. 0.]]\n"
     ]
    }
   ],
   "source": [
    "print(ysrcp_x_train)\n",
    "print(ysrcp_x_test)"
   ]
  },
  {
   "cell_type": "code",
   "execution_count": 52,
   "id": "861908ce",
   "metadata": {},
   "outputs": [
    {
     "name": "stdout",
     "output_type": "stream",
     "text": [
      "2249    0.0\n",
      "788     0.0\n",
      "1601    1.0\n",
      "266     1.0\n",
      "816     2.0\n",
      "       ... \n",
      "1649    1.0\n",
      "1102    0.0\n",
      "1137    1.0\n",
      "1303    1.0\n",
      "867     0.0\n",
      "Name: num_emotion, Length: 2254, dtype: float64 751     0.0\n",
      "684     0.0\n",
      "2300    1.0\n",
      "2498    1.0\n",
      "949     1.0\n",
      "       ... \n",
      "2065    1.0\n",
      "2001    1.0\n",
      "104     1.0\n",
      "320     1.0\n",
      "2224    1.0\n",
      "Name: num_emotion, Length: 752, dtype: float64\n"
     ]
    }
   ],
   "source": [
    "print(ysrcp_y_train,ysrcp_y_test)"
   ]
  },
  {
   "cell_type": "code",
   "execution_count": 53,
   "id": "1bea6d53",
   "metadata": {},
   "outputs": [
    {
     "name": "stdout",
     "output_type": "stream",
     "text": [
      "(2254, 7195) (752, 7195)\n",
      "(2254,) (752,)\n"
     ]
    }
   ],
   "source": [
    "print(ysrcp_x_train.shape,ysrcp_x_test.shape)\n",
    "print(ysrcp_y_train.shape,ysrcp_y_test.shape)"
   ]
  },
  {
   "cell_type": "markdown",
   "id": "1676bf17",
   "metadata": {},
   "source": [
    "### TDP"
   ]
  },
  {
   "cell_type": "code",
   "execution_count": 54,
   "id": "347a29d9",
   "metadata": {},
   "outputs": [],
   "source": [
    "tdp_x_train,tdp_x_test,tdp_y_train,tdp_y_test = \\\n",
    "        train_test_split(tdp_x,tdp_y,test_size=0.25,random_state=42)"
   ]
  },
  {
   "cell_type": "code",
   "execution_count": 55,
   "id": "81232eb0",
   "metadata": {},
   "outputs": [
    {
     "name": "stdout",
     "output_type": "stream",
     "text": [
      "[[0. 0. 0. ... 0. 0. 0.]\n",
      " [0. 0. 0. ... 0. 0. 0.]\n",
      " [0. 0. 0. ... 0. 0. 0.]\n",
      " ...\n",
      " [0. 0. 0. ... 0. 0. 0.]\n",
      " [0. 0. 0. ... 0. 0. 0.]\n",
      " [0. 0. 0. ... 0. 0. 0.]]\n",
      "[[0. 0. 0. ... 0. 0. 0.]\n",
      " [0. 0. 0. ... 0. 0. 0.]\n",
      " [0. 0. 0. ... 0. 0. 0.]\n",
      " ...\n",
      " [0. 0. 0. ... 0. 0. 0.]\n",
      " [0. 0. 0. ... 0. 0. 0.]\n",
      " [0. 0. 0. ... 0. 0. 0.]]\n"
     ]
    }
   ],
   "source": [
    "print(tdp_x_train)\n",
    "print(tdp_x_test)"
   ]
  },
  {
   "cell_type": "code",
   "execution_count": 56,
   "id": "733db2e6",
   "metadata": {},
   "outputs": [
    {
     "name": "stdout",
     "output_type": "stream",
     "text": [
      "2841    1.0\n",
      "820     1.0\n",
      "1002    1.0\n",
      "4611    0.0\n",
      "2532    1.0\n",
      "       ... \n",
      "4476    0.0\n",
      "471     0.0\n",
      "3138    1.0\n",
      "3819    0.0\n",
      "873     1.0\n",
      "Name: num_emotion, Length: 3572, dtype: float64 840     0.0\n",
      "1089    1.0\n",
      "1267    1.0\n",
      "3612    0.0\n",
      "1455    0.0\n",
      "       ... \n",
      "1879    1.0\n",
      "2013    2.0\n",
      "2348    1.0\n",
      "2259    0.0\n",
      "1917    1.0\n",
      "Name: num_emotion, Length: 1191, dtype: float64\n"
     ]
    }
   ],
   "source": [
    "print(tdp_y_train,tdp_y_test)"
   ]
  },
  {
   "cell_type": "markdown",
   "id": "15660e6d",
   "metadata": {},
   "source": [
    "# MODEL TRAINING"
   ]
  },
  {
   "cell_type": "markdown",
   "id": "d6d3aae1",
   "metadata": {},
   "source": [
    "### YSRCP"
   ]
  },
  {
   "cell_type": "markdown",
   "id": "2ce002cb",
   "metadata": {},
   "source": [
    "1. `Multinomial Naive Bayes`"
   ]
  },
  {
   "cell_type": "code",
   "execution_count": 57,
   "id": "6a59528d",
   "metadata": {},
   "outputs": [
    {
     "data": {
      "text/plain": [
       "MultinomialNB()"
      ]
     },
     "execution_count": 57,
     "metadata": {},
     "output_type": "execute_result"
    }
   ],
   "source": [
    "from sklearn.naive_bayes import MultinomialNB\n",
    "ysrcp_mnb = MultinomialNB()\n",
    "ysrcp_mnb.fit(ysrcp_x_train,ysrcp_y_train)"
   ]
  },
  {
   "cell_type": "code",
   "execution_count": 58,
   "id": "7a2779cb",
   "metadata": {},
   "outputs": [
    {
     "data": {
      "text/plain": [
       "array([1., 1., 1., 0., 0., 1., 0., 0., 0., 1., 1., 0., 0., 1., 0., 0., 0.,\n",
       "       0., 0., 1., 0., 1., 0., 0., 0., 1., 1., 1., 0., 0., 1., 1., 1., 1.,\n",
       "       0., 0., 1., 1., 0., 0., 0., 0., 0., 0., 0., 1., 0., 0., 0., 1., 0.,\n",
       "       1., 0., 0., 1., 0., 0., 1., 0., 1., 0., 1., 0., 1., 0., 0., 1., 1.,\n",
       "       1., 0., 1., 1., 0., 0., 0., 1., 0., 1., 1., 0., 0., 0., 0., 1., 0.,\n",
       "       0., 0., 0., 0., 1., 0., 1., 0., 0., 0., 0., 0., 1., 1., 1., 0., 1.,\n",
       "       1., 1., 1., 1., 1., 1., 0., 0., 0., 1., 0., 0., 0., 1., 0., 1., 0.,\n",
       "       1., 1., 1., 0., 1., 1., 1., 0., 0., 0., 0., 0., 0., 1., 0., 1., 0.,\n",
       "       0., 0., 1., 0., 0., 0., 0., 0., 0., 1., 0., 0., 1., 0., 1., 1., 0.,\n",
       "       0., 0., 0., 0., 1., 1., 0., 1., 1., 0., 0., 1., 0., 1., 1., 1., 1.,\n",
       "       1., 1., 1., 0., 1., 1., 0., 1., 1., 0., 1., 0., 0., 1., 0., 0., 0.,\n",
       "       0., 1., 0., 0., 0., 1., 1., 0., 1., 1., 1., 0., 1., 0., 0., 0., 1.,\n",
       "       0., 0., 1., 0., 0., 1., 0., 0., 0., 1., 0., 0., 0., 1., 1., 0., 0.,\n",
       "       0., 1., 0., 0., 0., 1., 1., 0., 1., 1., 0., 1., 0., 0., 0., 0., 0.,\n",
       "       1., 1., 1., 0., 1., 0., 1., 0., 1., 0., 1., 0., 0., 0., 1., 0., 0.,\n",
       "       0., 0., 1., 1., 0., 0., 0., 1., 0., 0., 0., 0., 1., 0., 1., 0., 0.,\n",
       "       1., 1., 0., 0., 0., 1., 0., 0., 0., 1., 1., 0., 1., 1., 1., 1., 0.,\n",
       "       0., 1., 1., 0., 0., 0., 0., 0., 1., 1., 1., 1., 0., 1., 1., 0., 0.,\n",
       "       0., 1., 1., 0., 0., 1., 1., 0., 0., 0., 0., 0., 0., 0., 1., 0., 1.,\n",
       "       1., 0., 1., 1., 0., 0., 0., 0., 1., 1., 1., 1., 0., 0., 0., 0., 1.,\n",
       "       0., 1., 0., 1., 0., 0., 0., 0., 0., 0., 1., 0., 0., 1., 0., 1., 0.,\n",
       "       0., 0., 1., 1., 1., 1., 0., 1., 1., 0., 1., 0., 1., 0., 0., 0., 1.,\n",
       "       0., 0., 0., 0., 0., 1., 1., 1., 0., 0., 0., 0., 1., 0., 1., 0., 0.,\n",
       "       0., 0., 0., 1., 0., 1., 0., 1., 1., 0., 0., 0., 0., 0., 0., 1., 1.,\n",
       "       1., 1., 0., 0., 1., 0., 1., 0., 1., 0., 0., 0., 1., 1., 1., 0., 1.,\n",
       "       0., 1., 1., 0., 0., 0., 0., 0., 0., 0., 0., 1., 0., 1., 1., 0., 1.,\n",
       "       1., 1., 0., 0., 0., 0., 0., 0., 0., 0., 1., 0., 0., 0., 0., 0., 1.,\n",
       "       0., 0., 1., 0., 0., 1., 1., 1., 0., 0., 1., 0., 0., 1., 0., 0., 1.,\n",
       "       0., 1., 0., 0., 0., 0., 0., 0., 1., 0., 0., 0., 0., 1., 1., 0., 0.,\n",
       "       0., 0., 0., 1., 1., 0., 1., 0., 1., 1., 0., 1., 0., 0., 1., 0., 0.,\n",
       "       0., 0., 0., 1., 0., 0., 0., 0., 0., 0., 0., 0., 1., 0., 1., 0., 1.,\n",
       "       1., 1., 1., 0., 1., 1., 1., 1., 0., 1., 0., 0., 0., 0., 1., 1., 0.,\n",
       "       1., 1., 1., 1., 0., 1., 0., 0., 1., 0., 0., 0., 1., 0., 0., 0., 0.,\n",
       "       1., 0., 1., 0., 1., 0., 1., 0., 1., 0., 0., 0., 1., 0., 0., 0., 0.,\n",
       "       1., 1., 1., 1., 1., 0., 1., 0., 1., 0., 0., 1., 0., 0., 0., 1., 1.,\n",
       "       0., 0., 1., 1., 0., 0., 1., 0., 0., 0., 0., 0., 1., 0., 1., 0., 1.,\n",
       "       0., 0., 0., 1., 0., 0., 0., 0., 1., 0., 0., 0., 0., 0., 1., 1., 1.,\n",
       "       0., 0., 0., 0., 0., 1., 0., 0., 1., 0., 0., 1., 1., 0., 0., 0., 0.,\n",
       "       0., 0., 0., 0., 0., 0., 1., 0., 0., 1., 0., 0., 0., 0., 0., 0., 1.,\n",
       "       1., 1., 0., 1., 0., 1., 0., 1., 0., 0., 0., 0., 1., 0., 0., 1., 1.,\n",
       "       1., 0., 0., 1., 0., 0., 0., 1., 1., 1., 1., 1., 1., 1., 1., 0., 0.,\n",
       "       1., 0., 0., 0., 1., 0., 0., 1., 1., 0., 0., 0., 0., 0., 1., 0., 1.,\n",
       "       0., 0., 0., 1., 0., 0., 0., 1., 1., 0., 0., 0., 0., 1., 0., 0., 0.,\n",
       "       0., 1., 0., 1., 1., 0., 0., 0., 1., 0., 1., 0., 0., 0., 1., 0., 0.,\n",
       "       1., 0., 1., 1.])"
      ]
     },
     "execution_count": 58,
     "metadata": {},
     "output_type": "execute_result"
    }
   ],
   "source": [
    "ysrcp_mnb_pred = ysrcp_mnb.predict(ysrcp_x_test)\n",
    "ysrcp_mnb_pred"
   ]
  },
  {
   "cell_type": "code",
   "execution_count": 59,
   "id": "9f1f32f0",
   "metadata": {},
   "outputs": [
    {
     "name": "stdout",
     "output_type": "stream",
     "text": [
      "Training score :  0.8451641526175687\n",
      "Testing score  :  0.636968085106383\n"
     ]
    }
   ],
   "source": [
    "print('Training score : ',ysrcp_mnb.score(ysrcp_x_train,ysrcp_y_train))\n",
    "print('Testing score  : ',ysrcp_mnb.score(ysrcp_x_test,ysrcp_y_test))"
   ]
  },
  {
   "cell_type": "code",
   "execution_count": 60,
   "id": "e02dc3b2",
   "metadata": {},
   "outputs": [],
   "source": [
    "from sklearn.metrics import precision_score, recall_score, f1_score, accuracy_score"
   ]
  },
  {
   "cell_type": "code",
   "execution_count": 61,
   "id": "0a5cb317",
   "metadata": {},
   "outputs": [
    {
     "name": "stdout",
     "output_type": "stream",
     "text": [
      "Accuracy by MNB  :  0.636968085106383\n",
      "Precision by MNB :  0.4239472154056904\n",
      "Recall by MNB    :  0.4408884580708035\n",
      "F1 score by MNB  :  0.4300924035509581\n"
     ]
    }
   ],
   "source": [
    "ysrcp_mnb_acc = accuracy_score(ysrcp_y_test,ysrcp_mnb_pred)\n",
    "ysrcp_mnb_pr  = precision_score(ysrcp_y_test,ysrcp_mnb_pred,average='macro',zero_division=0.0)\n",
    "ysrcp_mnb_rec = recall_score(ysrcp_y_test,ysrcp_mnb_pred,average='macro',zero_division=0.0)\n",
    "ysrcp_mnb_f1  = f1_score(ysrcp_y_test,ysrcp_mnb_pred,average='macro',zero_division=0.0)\n",
    "print('Accuracy by MNB  : ', ysrcp_mnb_acc)\n",
    "print('Precision by MNB : ', ysrcp_mnb_pr)\n",
    "print('Recall by MNB    : ', ysrcp_mnb_rec)\n",
    "print('F1 score by MNB  : ', ysrcp_mnb_f1)"
   ]
  },
  {
   "cell_type": "code",
   "execution_count": 62,
   "id": "ff564c01",
   "metadata": {},
   "outputs": [],
   "source": [
    "from sklearn.metrics import classification_report, confusion_matrix"
   ]
  },
  {
   "cell_type": "code",
   "execution_count": 63,
   "id": "414de55d",
   "metadata": {},
   "outputs": [
    {
     "name": "stdout",
     "output_type": "stream",
     "text": [
      "[[291  92   0]\n",
      " [146 188   0]\n",
      " [ 17  18   0]]\n",
      "              precision    recall  f1-score   support\n",
      "\n",
      "         0.0       0.64      0.76      0.70       383\n",
      "         1.0       0.63      0.56      0.59       334\n",
      "         2.0       0.00      0.00      0.00        35\n",
      "\n",
      "    accuracy                           0.64       752\n",
      "   macro avg       0.42      0.44      0.43       752\n",
      "weighted avg       0.61      0.64      0.62       752\n",
      "\n"
     ]
    },
    {
     "name": "stderr",
     "output_type": "stream",
     "text": [
      "C:\\Users\\posah\\anacondap\\lib\\site-packages\\sklearn\\metrics\\_classification.py:1318: UndefinedMetricWarning: Precision and F-score are ill-defined and being set to 0.0 in labels with no predicted samples. Use `zero_division` parameter to control this behavior.\n",
      "  _warn_prf(average, modifier, msg_start, len(result))\n",
      "C:\\Users\\posah\\anacondap\\lib\\site-packages\\sklearn\\metrics\\_classification.py:1318: UndefinedMetricWarning: Precision and F-score are ill-defined and being set to 0.0 in labels with no predicted samples. Use `zero_division` parameter to control this behavior.\n",
      "  _warn_prf(average, modifier, msg_start, len(result))\n",
      "C:\\Users\\posah\\anacondap\\lib\\site-packages\\sklearn\\metrics\\_classification.py:1318: UndefinedMetricWarning: Precision and F-score are ill-defined and being set to 0.0 in labels with no predicted samples. Use `zero_division` parameter to control this behavior.\n",
      "  _warn_prf(average, modifier, msg_start, len(result))\n"
     ]
    }
   ],
   "source": [
    "print(confusion_matrix(ysrcp_y_test,ysrcp_mnb_pred))\n",
    "print(classification_report(ysrcp_y_test,ysrcp_mnb_pred))"
   ]
  },
  {
   "cell_type": "markdown",
   "id": "f7ea4c05",
   "metadata": {},
   "source": [
    "2. `Gaussian Navies Bayes`"
   ]
  },
  {
   "cell_type": "code",
   "execution_count": 64,
   "id": "831d97bf",
   "metadata": {},
   "outputs": [],
   "source": [
    "from sklearn.naive_bayes import GaussianNB"
   ]
  },
  {
   "cell_type": "code",
   "execution_count": 65,
   "id": "2a6550d0",
   "metadata": {},
   "outputs": [
    {
     "data": {
      "text/plain": [
       "GaussianNB()"
      ]
     },
     "execution_count": 65,
     "metadata": {},
     "output_type": "execute_result"
    }
   ],
   "source": [
    "ysrcp_gnb = GaussianNB()\n",
    "ysrcp_gnb.fit(ysrcp_x_train,ysrcp_y_train)"
   ]
  },
  {
   "cell_type": "code",
   "execution_count": 66,
   "id": "ba92e893",
   "metadata": {},
   "outputs": [
    {
     "data": {
      "text/plain": [
       "array([0., 0., 2., 0., 2., 1., 0., 1., 0., 0., 2., 1., 2., 0., 1., 0., 0.,\n",
       "       0., 1., 1., 0., 1., 1., 1., 2., 1., 1., 0., 0., 0., 1., 1., 1., 1.,\n",
       "       1., 1., 1., 0., 0., 1., 0., 0., 0., 2., 1., 0., 1., 1., 2., 2., 1.,\n",
       "       2., 0., 2., 1., 2., 1., 1., 0., 1., 0., 1., 0., 1., 0., 1., 1., 1.,\n",
       "       2., 0., 1., 0., 2., 2., 2., 0., 2., 0., 0., 0., 0., 0., 1., 0., 1.,\n",
       "       1., 0., 0., 1., 1., 0., 1., 0., 2., 2., 0., 2., 1., 1., 0., 0., 1.,\n",
       "       1., 0., 2., 2., 2., 1., 2., 1., 0., 1., 1., 0., 2., 1., 0., 2., 0.,\n",
       "       1., 1., 1., 1., 1., 2., 1., 0., 1., 1., 1., 0., 0., 1., 1., 1., 0.,\n",
       "       0., 1., 2., 0., 1., 0., 0., 0., 2., 1., 1., 0., 1., 0., 2., 1., 1.,\n",
       "       2., 1., 0., 0., 1., 1., 1., 2., 1., 0., 0., 1., 1., 0., 1., 2., 2.,\n",
       "       1., 1., 0., 2., 1., 1., 1., 1., 1., 0., 1., 0., 1., 0., 2., 0., 1.,\n",
       "       1., 1., 1., 2., 0., 1., 1., 1., 2., 1., 1., 1., 1., 0., 0., 0., 1.,\n",
       "       0., 0., 1., 1., 1., 2., 0., 1., 0., 1., 0., 0., 1., 1., 2., 0., 0.,\n",
       "       0., 0., 2., 0., 0., 2., 2., 0., 1., 1., 1., 2., 1., 2., 0., 0., 1.,\n",
       "       2., 1., 2., 2., 2., 2., 2., 2., 1., 1., 1., 0., 0., 0., 1., 2., 1.,\n",
       "       1., 1., 1., 1., 1., 1., 0., 1., 1., 2., 0., 2., 2., 0., 1., 2., 0.,\n",
       "       2., 2., 1., 0., 0., 1., 1., 0., 1., 1., 1., 1., 1., 0., 1., 2., 2.,\n",
       "       0., 0., 0., 0., 1., 1., 0., 0., 1., 1., 1., 0., 2., 2., 1., 0., 0.,\n",
       "       0., 0., 2., 1., 2., 2., 0., 0., 0., 1., 2., 1., 1., 0., 1., 2., 1.,\n",
       "       2., 1., 1., 1., 1., 0., 0., 0., 1., 0., 1., 1., 0., 1., 0., 1., 0.,\n",
       "       0., 1., 1., 1., 2., 0., 1., 0., 0., 0., 2., 1., 0., 2., 1., 1., 0.,\n",
       "       2., 0., 1., 1., 0., 0., 1., 1., 1., 2., 1., 0., 1., 0., 2., 1., 1.,\n",
       "       0., 1., 2., 0., 0., 2., 1., 0., 1., 0., 0., 2., 2., 0., 0., 0., 1.,\n",
       "       0., 1., 1., 1., 0., 1., 1., 1., 1., 1., 2., 0., 0., 0., 1., 1., 1.,\n",
       "       1., 2., 0., 1., 0., 2., 1., 1., 1., 0., 1., 0., 1., 1., 0., 1., 1.,\n",
       "       0., 2., 1., 2., 1., 0., 0., 0., 1., 0., 0., 1., 0., 1., 2., 1., 1.,\n",
       "       1., 1., 0., 0., 0., 1., 1., 0., 1., 1., 2., 2., 0., 2., 2., 2., 1.,\n",
       "       0., 0., 2., 0., 1., 0., 1., 1., 2., 2., 2., 0., 2., 2., 1., 0., 0.,\n",
       "       0., 0., 0., 0., 0., 2., 0., 0., 1., 0., 2., 0., 2., 2., 2., 0., 0.,\n",
       "       1., 0., 1., 1., 2., 0., 2., 0., 1., 1., 0., 1., 0., 1., 2., 0., 1.,\n",
       "       0., 0., 2., 2., 0., 0., 1., 1., 0., 2., 2., 0., 0., 0., 1., 0., 2.,\n",
       "       2., 2., 1., 1., 1., 1., 1., 1., 0., 1., 1., 0., 2., 0., 0., 1., 1.,\n",
       "       0., 0., 2., 0., 1., 2., 2., 2., 0., 0., 0., 0., 1., 1., 1., 2., 0.,\n",
       "       1., 1., 1., 0., 1., 0., 1., 0., 1., 1., 2., 1., 1., 0., 2., 2., 1.,\n",
       "       1., 2., 0., 1., 2., 0., 2., 0., 0., 0., 1., 1., 1., 1., 0., 1., 0.,\n",
       "       0., 1., 1., 2., 0., 0., 2., 2., 1., 1., 0., 1., 0., 1., 1., 1., 0.,\n",
       "       1., 2., 0., 1., 0., 0., 1., 0., 1., 0., 1., 0., 0., 0., 1., 1., 2.,\n",
       "       0., 1., 0., 1., 1., 1., 0., 1., 1., 2., 1., 2., 0., 0., 0., 0., 2.,\n",
       "       1., 2., 1., 2., 1., 0., 2., 0., 0., 1., 1., 1., 1., 2., 2., 2., 1.,\n",
       "       1., 2., 0., 1., 0., 1., 2., 1., 0., 0., 2., 0., 1., 0., 1., 2., 1.,\n",
       "       1., 1., 2., 1., 0., 1., 1., 1., 1., 1., 1., 1., 1., 0., 1., 0., 2.,\n",
       "       1., 0., 1., 2., 2., 1., 0., 1., 2., 0., 0., 0., 0., 0., 0., 1., 0.,\n",
       "       0., 1., 1., 0., 0., 1., 1., 1., 1., 1., 0., 0., 0., 1., 0., 2., 0.,\n",
       "       0., 2., 0., 1., 0., 0., 0., 0., 1., 2., 2., 0., 1., 0., 1., 0., 0.,\n",
       "       2., 2., 1., 1.])"
      ]
     },
     "execution_count": 66,
     "metadata": {},
     "output_type": "execute_result"
    }
   ],
   "source": [
    "ysrcp_gnb_pred = ysrcp_gnb.predict(ysrcp_x_test)\n",
    "ysrcp_gnb_pred"
   ]
  },
  {
   "cell_type": "code",
   "execution_count": 67,
   "id": "3fd0d3c6",
   "metadata": {},
   "outputs": [
    {
     "name": "stdout",
     "output_type": "stream",
     "text": [
      "Training Score :  0.8061224489795918\n",
      "Testing Score  :  0.4640957446808511\n"
     ]
    }
   ],
   "source": [
    "print(\"Training Score : \",ysrcp_gnb.score(ysrcp_x_train,ysrcp_y_train))\n",
    "print(\"Testing Score  : \",ysrcp_gnb.score(ysrcp_x_test,ysrcp_y_test))"
   ]
  },
  {
   "cell_type": "code",
   "execution_count": 68,
   "id": "5678a55a",
   "metadata": {},
   "outputs": [
    {
     "name": "stdout",
     "output_type": "stream",
     "text": [
      "Accuracy by MNB  :  0.4640957446808511\n",
      "Precision by MNB :  0.39913690600428037\n",
      "Recall by MNB    :  0.3939101282701289\n",
      "F1 score by MNB  :  0.3736042213382415\n"
     ]
    }
   ],
   "source": [
    "ysrcp_gnb_acc = accuracy_score(ysrcp_y_test,ysrcp_gnb_pred)\n",
    "ysrcp_gnb_pr  = precision_score(ysrcp_y_test,ysrcp_gnb_pred,average='macro')\n",
    "ysrcp_gnb_rec = recall_score(ysrcp_y_test,ysrcp_gnb_pred,average='macro')\n",
    "ysrcp_gnb_f1  = f1_score(ysrcp_y_test,ysrcp_gnb_pred,average='macro')\n",
    "print('Accuracy by MNB  : ', ysrcp_gnb_acc)\n",
    "print('Precision by MNB : ', ysrcp_gnb_pr)\n",
    "print('Recall by MNB    : ', ysrcp_gnb_rec)\n",
    "print('F1 score by MNB  : ', ysrcp_gnb_f1)"
   ]
  },
  {
   "cell_type": "code",
   "execution_count": 69,
   "id": "aaf2e968",
   "metadata": {},
   "outputs": [
    {
     "name": "stdout",
     "output_type": "stream",
     "text": [
      "[[177 147  59]\n",
      " [ 86 164  84]\n",
      " [ 15  12   8]]\n",
      "              precision    recall  f1-score   support\n",
      "\n",
      "         0.0       0.64      0.46      0.54       383\n",
      "         1.0       0.51      0.49      0.50       334\n",
      "         2.0       0.05      0.23      0.09        35\n",
      "\n",
      "    accuracy                           0.46       752\n",
      "   macro avg       0.40      0.39      0.37       752\n",
      "weighted avg       0.55      0.46      0.50       752\n",
      "\n"
     ]
    }
   ],
   "source": [
    "print(confusion_matrix(ysrcp_y_test,ysrcp_gnb_pred))\n",
    "print(classification_report(ysrcp_y_test,ysrcp_gnb_pred))"
   ]
  },
  {
   "cell_type": "markdown",
   "id": "301c775a",
   "metadata": {},
   "source": [
    "3. `Logistic Regression`"
   ]
  },
  {
   "cell_type": "code",
   "execution_count": 70,
   "id": "9a1e2752",
   "metadata": {},
   "outputs": [],
   "source": [
    "from sklearn.linear_model import LogisticRegression"
   ]
  },
  {
   "cell_type": "code",
   "execution_count": 71,
   "id": "d4d04af0",
   "metadata": {},
   "outputs": [
    {
     "data": {
      "text/plain": [
       "LogisticRegression()"
      ]
     },
     "execution_count": 71,
     "metadata": {},
     "output_type": "execute_result"
    }
   ],
   "source": [
    "ysrcp_lr = LogisticRegression()\n",
    "ysrcp_lr.fit(ysrcp_x_train,ysrcp_y_train)"
   ]
  },
  {
   "cell_type": "code",
   "execution_count": 72,
   "id": "dfcfd672",
   "metadata": {},
   "outputs": [
    {
     "data": {
      "text/plain": [
       "array([0., 1., 1., 1., 1., 1., 0., 0., 0., 1., 0., 0., 0., 1., 0., 0., 0.,\n",
       "       0., 0., 1., 0., 0., 0., 0., 0., 1., 1., 1., 0., 0., 1., 1., 1., 1.,\n",
       "       0., 0., 1., 0., 1., 0., 0., 0., 0., 0., 0., 1., 0., 0., 1., 1., 0.,\n",
       "       1., 0., 0., 1., 0., 0., 1., 0., 1., 1., 1., 1., 0., 0., 0., 1., 1.,\n",
       "       0., 0., 1., 1., 0., 1., 1., 1., 0., 1., 1., 0., 1., 0., 1., 1., 0.,\n",
       "       0., 0., 1., 1., 1., 0., 1., 0., 1., 0., 0., 0., 0., 1., 1., 0., 1.,\n",
       "       1., 1., 1., 1., 1., 1., 1., 0., 0., 1., 0., 0., 0., 1., 0., 1., 0.,\n",
       "       1., 1., 1., 1., 1., 1., 1., 1., 0., 0., 0., 0., 1., 1., 0., 1., 0.,\n",
       "       0., 0., 1., 0., 0., 0., 1., 0., 0., 1., 0., 1., 1., 0., 1., 1., 0.,\n",
       "       0., 0., 0., 0., 0., 0., 1., 1., 1., 0., 0., 1., 1., 1., 1., 1., 1.,\n",
       "       1., 1., 1., 0., 1., 1., 0., 1., 1., 0., 1., 0., 0., 1., 1., 0., 0.,\n",
       "       0., 1., 0., 0., 0., 0., 1., 0., 1., 1., 1., 0., 1., 0., 0., 0., 1.,\n",
       "       0., 0., 1., 0., 0., 0., 0., 0., 0., 1., 0., 0., 0., 1., 1., 0., 0.,\n",
       "       0., 1., 0., 0., 1., 0., 1., 1., 1., 1., 0., 1., 1., 0., 0., 0., 0.,\n",
       "       1., 1., 1., 0., 1., 0., 1., 0., 1., 0., 1., 0., 0., 0., 1., 0., 0.,\n",
       "       0., 0., 1., 1., 0., 1., 0., 1., 1., 1., 1., 0., 1., 0., 1., 0., 0.,\n",
       "       1., 1., 0., 0., 0., 1., 1., 0., 0., 1., 1., 1., 1., 1., 1., 1., 0.,\n",
       "       0., 1., 1., 1., 0., 0., 0., 0., 1., 1., 1., 1., 0., 1., 1., 0., 0.,\n",
       "       0., 1., 0., 0., 1., 1., 1., 0., 0., 0., 0., 0., 0., 0., 1., 0., 1.,\n",
       "       0., 0., 1., 1., 1., 0., 0., 0., 1., 1., 1., 1., 0., 0., 0., 0., 0.,\n",
       "       0., 1., 0., 1., 1., 0., 0., 1., 0., 0., 1., 0., 0., 1., 0., 1., 1.,\n",
       "       0., 0., 1., 1., 1., 1., 0., 1., 1., 0., 1., 1., 1., 0., 0., 0., 1.,\n",
       "       1., 0., 0., 0., 0., 1., 1., 1., 0., 0., 0., 0., 1., 1., 1., 1., 0.,\n",
       "       1., 1., 0., 1., 0., 1., 0., 1., 1., 0., 1., 0., 0., 0., 0., 1., 1.,\n",
       "       1., 1., 0., 0., 1., 0., 1., 0., 1., 0., 0., 0., 1., 1., 1., 0., 1.,\n",
       "       0., 1., 1., 0., 0., 0., 1., 0., 0., 0., 0., 1., 1., 0., 1., 1., 1.,\n",
       "       1., 1., 1., 0., 0., 1., 0., 0., 0., 1., 1., 1., 0., 1., 0., 0., 1.,\n",
       "       0., 0., 1., 0., 0., 1., 1., 0., 0., 0., 1., 0., 0., 0., 0., 0., 1.,\n",
       "       0., 1., 0., 0., 1., 1., 1., 0., 1., 0., 1., 0., 0., 0., 0., 0., 0.,\n",
       "       0., 0., 0., 1., 1., 0., 1., 0., 1., 1., 0., 1., 0., 0., 1., 0., 0.,\n",
       "       0., 0., 0., 1., 0., 0., 0., 0., 0., 1., 0., 0., 1., 0., 0., 0., 1.,\n",
       "       0., 1., 0., 0., 1., 1., 1., 1., 0., 1., 0., 1., 0., 0., 1., 1., 0.,\n",
       "       1., 1., 1., 1., 0., 1., 0., 0., 1., 0., 0., 0., 1., 1., 0., 0., 0.,\n",
       "       1., 1., 1., 0., 1., 0., 1., 0., 1., 1., 0., 0., 1., 0., 0., 0., 0.,\n",
       "       1., 1., 1., 1., 1., 1., 1., 0., 1., 0., 0., 1., 0., 0., 0., 1., 1.,\n",
       "       0., 0., 0., 1., 0., 0., 1., 1., 0., 0., 0., 0., 1., 0., 1., 0., 1.,\n",
       "       0., 0., 0., 1., 0., 0., 1., 0., 1., 0., 0., 0., 0., 0., 1., 0., 1.,\n",
       "       0., 0., 0., 0., 0., 1., 0., 0., 1., 1., 0., 1., 1., 0., 0., 0., 0.,\n",
       "       0., 1., 0., 0., 0., 0., 1., 1., 0., 1., 0., 0., 1., 1., 0., 0., 1.,\n",
       "       1., 1., 1., 1., 0., 1., 0., 1., 0., 0., 0., 0., 1., 0., 0., 1., 1.,\n",
       "       1., 0., 0., 1., 0., 0., 0., 1., 1., 1., 1., 1., 1., 0., 1., 0., 0.,\n",
       "       1., 0., 0., 0., 1., 0., 0., 1., 1., 0., 0., 0., 1., 0., 1., 0., 1.,\n",
       "       0., 0., 0., 1., 1., 0., 0., 1., 1., 0., 0., 0., 0., 0., 0., 0., 0.,\n",
       "       0., 1., 1., 1., 0., 0., 0., 1., 1., 0., 1., 0., 0., 1., 1., 0., 0.,\n",
       "       1., 0., 1., 1.])"
      ]
     },
     "execution_count": 72,
     "metadata": {},
     "output_type": "execute_result"
    }
   ],
   "source": [
    "ysrcp_lr_pred = ysrcp_lr.predict(ysrcp_x_test)\n",
    "ysrcp_lr_pred"
   ]
  },
  {
   "cell_type": "code",
   "execution_count": 73,
   "id": "fae0d54f",
   "metadata": {},
   "outputs": [
    {
     "name": "stdout",
     "output_type": "stream",
     "text": [
      "Training Score :  0.8669032830523514\n",
      "Testing Score  :  0.6529255319148937\n"
     ]
    }
   ],
   "source": [
    "print(\"Training Score : \",ysrcp_lr.score(ysrcp_x_train,ysrcp_y_train))\n",
    "print(\"Testing Score  : \",ysrcp_lr.score(ysrcp_x_test,ysrcp_y_test))"
   ]
  },
  {
   "cell_type": "code",
   "execution_count": 74,
   "id": "be8df484",
   "metadata": {},
   "outputs": [
    {
     "name": "stdout",
     "output_type": "stream",
     "text": [
      "Accuracy by MNB  :  0.6529255319148937\n",
      "Precision by MNB :  0.4339208773991383\n",
      "Recall by MNB    :  0.45490741754089736\n",
      "F1 score by MNB  :  0.444144093759127\n"
     ]
    }
   ],
   "source": [
    "ysrcp_lr_acc = accuracy_score(ysrcp_y_test,ysrcp_lr_pred)\n",
    "ysrcp_lr_pr  = precision_score(ysrcp_y_test,ysrcp_lr_pred,average='macro',zero_division=0.0)\n",
    "ysrcp_lr_rec = recall_score(ysrcp_y_test,ysrcp_lr_pred,average='macro',zero_division=0.0)\n",
    "ysrcp_lr_f1  = f1_score(ysrcp_y_test,ysrcp_lr_pred,average='macro',zero_division=0.0)\n",
    "print('Accuracy by MNB  : ', ysrcp_lr_acc)\n",
    "print('Precision by MNB : ', ysrcp_lr_pr)\n",
    "print('Recall by MNB    : ', ysrcp_lr_rec)\n",
    "print('F1 score by MNB  : ', ysrcp_lr_f1)"
   ]
  },
  {
   "cell_type": "code",
   "execution_count": 75,
   "id": "1597386f",
   "metadata": {},
   "outputs": [
    {
     "name": "stdout",
     "output_type": "stream",
     "text": [
      "[[275 108   0]\n",
      " [118 216   0]\n",
      " [ 14  21   0]]\n",
      "              precision    recall  f1-score   support\n",
      "\n",
      "         0.0       0.68      0.72      0.70       383\n",
      "         1.0       0.63      0.65      0.64       334\n",
      "         2.0       0.00      0.00      0.00        35\n",
      "\n",
      "    accuracy                           0.65       752\n",
      "   macro avg       0.43      0.45      0.44       752\n",
      "weighted avg       0.62      0.65      0.64       752\n",
      "\n"
     ]
    },
    {
     "name": "stderr",
     "output_type": "stream",
     "text": [
      "C:\\Users\\posah\\anacondap\\lib\\site-packages\\sklearn\\metrics\\_classification.py:1318: UndefinedMetricWarning: Precision and F-score are ill-defined and being set to 0.0 in labels with no predicted samples. Use `zero_division` parameter to control this behavior.\n",
      "  _warn_prf(average, modifier, msg_start, len(result))\n",
      "C:\\Users\\posah\\anacondap\\lib\\site-packages\\sklearn\\metrics\\_classification.py:1318: UndefinedMetricWarning: Precision and F-score are ill-defined and being set to 0.0 in labels with no predicted samples. Use `zero_division` parameter to control this behavior.\n",
      "  _warn_prf(average, modifier, msg_start, len(result))\n",
      "C:\\Users\\posah\\anacondap\\lib\\site-packages\\sklearn\\metrics\\_classification.py:1318: UndefinedMetricWarning: Precision and F-score are ill-defined and being set to 0.0 in labels with no predicted samples. Use `zero_division` parameter to control this behavior.\n",
      "  _warn_prf(average, modifier, msg_start, len(result))\n"
     ]
    }
   ],
   "source": [
    "print(confusion_matrix(ysrcp_y_test,ysrcp_lr_pred))\n",
    "print(classification_report(ysrcp_y_test,ysrcp_lr_pred))"
   ]
  },
  {
   "cell_type": "markdown",
   "id": "5e59f5dc",
   "metadata": {},
   "source": [
    "4. `Linear Discriminant Analysis`"
   ]
  },
  {
   "cell_type": "code",
   "execution_count": 76,
   "id": "4da3c589",
   "metadata": {},
   "outputs": [],
   "source": [
    "from sklearn.discriminant_analysis import LinearDiscriminantAnalysis"
   ]
  },
  {
   "cell_type": "code",
   "execution_count": 77,
   "id": "a27c0ddd",
   "metadata": {},
   "outputs": [
    {
     "data": {
      "text/plain": [
       "LinearDiscriminantAnalysis()"
      ]
     },
     "execution_count": 77,
     "metadata": {},
     "output_type": "execute_result"
    }
   ],
   "source": [
    "ysrcp_lda = LinearDiscriminantAnalysis()\n",
    "ysrcp_lda.fit(ysrcp_x_train,ysrcp_y_train)"
   ]
  },
  {
   "cell_type": "code",
   "execution_count": 78,
   "id": "75dce454",
   "metadata": {},
   "outputs": [
    {
     "data": {
      "text/plain": [
       "array([1., 0., 1., 1., 1., 1., 0., 0., 0., 1., 0., 1., 0., 0., 0., 0., 0.,\n",
       "       0., 0., 1., 0., 0., 0., 0., 1., 1., 1., 0., 0., 0., 2., 1., 1., 1.,\n",
       "       0., 1., 1., 0., 0., 0., 0., 0., 0., 2., 2., 2., 0., 2., 1., 1., 1.,\n",
       "       1., 0., 0., 0., 0., 0., 2., 1., 1., 0., 0., 0., 1., 0., 1., 1., 0.,\n",
       "       1., 0., 0., 1., 0., 1., 1., 1., 0., 1., 2., 0., 2., 2., 1., 0., 1.,\n",
       "       1., 0., 1., 1., 1., 0., 1., 0., 1., 0., 2., 0., 1., 1., 2., 1., 0.,\n",
       "       1., 1., 1., 1., 1., 1., 1., 1., 0., 1., 2., 1., 0., 1., 0., 1., 0.,\n",
       "       0., 0., 0., 0., 2., 1., 1., 1., 1., 1., 1., 2., 0., 0., 2., 1., 1.,\n",
       "       2., 1., 2., 0., 0., 0., 2., 0., 0., 1., 0., 1., 1., 1., 2., 1., 1.,\n",
       "       1., 0., 0., 1., 0., 2., 1., 1., 0., 0., 1., 1., 0., 1., 1., 1., 2.,\n",
       "       1., 1., 0., 1., 1., 1., 1., 1., 0., 0., 1., 1., 0., 1., 0., 0., 0.,\n",
       "       0., 1., 0., 0., 1., 1., 1., 0., 0., 1., 1., 1., 1., 1., 0., 0., 1.,\n",
       "       0., 0., 1., 1., 2., 0., 2., 0., 0., 1., 0., 0., 1., 1., 1., 0., 1.,\n",
       "       1., 0., 1., 0., 0., 0., 1., 1., 1., 1., 2., 2., 1., 1., 0., 2., 1.,\n",
       "       1., 1., 1., 0., 1., 0., 1., 1., 0., 1., 1., 0., 0., 0., 1., 0., 1.,\n",
       "       0., 1., 1., 2., 0., 0., 0., 0., 0., 1., 0., 0., 1., 2., 0., 0., 0.,\n",
       "       1., 1., 2., 2., 1., 1., 1., 0., 2., 0., 2., 0., 1., 0., 1., 1., 0.,\n",
       "       0., 0., 1., 1., 2., 1., 1., 0., 1., 0., 1., 1., 1., 1., 1., 0., 0.,\n",
       "       2., 2., 0., 0., 1., 1., 1., 0., 0., 0., 1., 2., 1., 0., 1., 2., 1.,\n",
       "       1., 0., 1., 1., 1., 0., 1., 2., 2., 1., 1., 1., 1., 0., 1., 0., 0.,\n",
       "       0., 1., 1., 1., 2., 0., 0., 1., 0., 0., 1., 0., 2., 1., 1., 0., 1.,\n",
       "       0., 1., 1., 1., 1., 1., 0., 1., 1., 0., 0., 2., 1., 0., 0., 0., 0.,\n",
       "       1., 0., 1., 0., 0., 1., 1., 1., 1., 1., 2., 0., 1., 1., 0., 1., 2.,\n",
       "       1., 0., 0., 1., 1., 1., 1., 1., 1., 1., 1., 0., 0., 0., 0., 1., 1.,\n",
       "       1., 1., 1., 0., 0., 0., 1., 1., 1., 0., 0., 0., 1., 0., 1., 0., 1.,\n",
       "       0., 1., 1., 0., 1., 2., 0., 0., 0., 0., 0., 1., 0., 0., 1., 1., 1.,\n",
       "       1., 1., 1., 0., 1., 2., 0., 1., 2., 1., 2., 1., 0., 1., 1., 1., 1.,\n",
       "       1., 0., 1., 0., 2., 0., 1., 1., 0., 0., 1., 2., 0., 1., 0., 0., 1.,\n",
       "       1., 0., 0., 0., 2., 1., 1., 1., 1., 1., 1., 1., 0., 1., 1., 0., 0.,\n",
       "       0., 1., 1., 1., 1., 2., 1., 1., 1., 1., 1., 1., 0., 1., 1., 0., 0.,\n",
       "       1., 2., 2., 1., 0., 2., 0., 1., 0., 2., 0., 0., 1., 0., 0., 0., 2.,\n",
       "       1., 1., 0., 1., 1., 1., 2., 0., 1., 1., 1., 0., 0., 0., 0., 2., 0.,\n",
       "       0., 1., 1., 1., 0., 1., 0., 1., 1., 0., 0., 1., 1., 2., 1., 0., 2.,\n",
       "       0., 2., 1., 1., 0., 2., 1., 2., 1., 1., 2., 1., 1., 2., 2., 0., 0.,\n",
       "       0., 1., 0., 1., 1., 1., 2., 1., 1., 2., 0., 1., 0., 0., 0., 1., 1.,\n",
       "       0., 1., 2., 1., 0., 0., 1., 1., 0., 2., 0., 0., 2., 0., 1., 0., 1.,\n",
       "       0., 0., 1., 1., 2., 0., 0., 2., 1., 0., 0., 0., 0., 2., 1., 1., 2.,\n",
       "       1., 0., 1., 1., 0., 2., 1., 1., 0., 2., 0., 1., 1., 2., 0., 0., 0.,\n",
       "       1., 1., 0., 0., 1., 0., 1., 1., 1., 0., 0., 1., 1., 0., 0., 1., 1.,\n",
       "       0., 1., 1., 1., 0., 1., 0., 1., 1., 0., 0., 2., 1., 0., 0., 1., 1.,\n",
       "       1., 0., 0., 0., 0., 1., 1., 1., 1., 1., 1., 2., 1., 1., 1., 1., 1.,\n",
       "       1., 0., 0., 1., 1., 0., 0., 1., 1., 0., 0., 2., 1., 2., 1., 1., 1.,\n",
       "       0., 0., 2., 1., 1., 1., 2., 1., 1., 1., 0., 1., 1., 1., 0., 0., 0.,\n",
       "       2., 1., 0., 0., 1., 0., 0., 0., 1., 1., 1., 2., 0., 1., 1., 1., 0.,\n",
       "       2., 1., 0., 0.])"
      ]
     },
     "execution_count": 78,
     "metadata": {},
     "output_type": "execute_result"
    }
   ],
   "source": [
    "ysrcp_lda_pred = ysrcp_lda.predict(ysrcp_x_test)\n",
    "ysrcp_lda_pred"
   ]
  },
  {
   "cell_type": "code",
   "execution_count": 79,
   "id": "1045dbbf",
   "metadata": {},
   "outputs": [
    {
     "name": "stdout",
     "output_type": "stream",
     "text": [
      "Training Score :  0.9884649511978705\n",
      "Testing Score  :  0.5279255319148937\n"
     ]
    }
   ],
   "source": [
    "print(\"Training Score : \",ysrcp_lda.score(ysrcp_x_train,ysrcp_y_train))\n",
    "print(\"Testing Score  : \",ysrcp_lda.score(ysrcp_x_test,ysrcp_y_test))"
   ]
  },
  {
   "cell_type": "code",
   "execution_count": 80,
   "id": "17e229a2",
   "metadata": {},
   "outputs": [
    {
     "name": "stdout",
     "output_type": "stream",
     "text": [
      "Accuracy by lda  :  0.5279255319148937\n",
      "Precision by lda :  0.4325046315434906\n",
      "Recall by lda    :  0.466242598726456\n",
      "F1 score by lda  :  0.4321747992212736\n"
     ]
    }
   ],
   "source": [
    "ysrcp_lda_acc = accuracy_score(ysrcp_y_test,ysrcp_lda_pred)\n",
    "ysrcp_lda_pr  = precision_score(ysrcp_y_test,ysrcp_lda_pred,average='macro',zero_division=0.0)\n",
    "ysrcp_lda_rec = recall_score(ysrcp_y_test,ysrcp_lda_pred,average='macro',zero_division=0.0)\n",
    "ysrcp_lda_f1  = f1_score(ysrcp_y_test,ysrcp_lda_pred,average='macro',zero_division=0.0)\n",
    "print('Accuracy by lda  : ', ysrcp_lda_acc)\n",
    "print('Precision by lda : ', ysrcp_lda_pr)\n",
    "print('Recall by lda    : ', ysrcp_lda_rec)\n",
    "print('F1 score by lda  : ', ysrcp_lda_f1)"
   ]
  },
  {
   "cell_type": "code",
   "execution_count": 81,
   "id": "54059532",
   "metadata": {},
   "outputs": [
    {
     "name": "stdout",
     "output_type": "stream",
     "text": [
      "[[186 152  45]\n",
      " [102 200  32]\n",
      " [  7  17  11]]\n",
      "              precision    recall  f1-score   support\n",
      "\n",
      "         0.0       0.63      0.49      0.55       383\n",
      "         1.0       0.54      0.60      0.57       334\n",
      "         2.0       0.12      0.31      0.18        35\n",
      "\n",
      "    accuracy                           0.53       752\n",
      "   macro avg       0.43      0.47      0.43       752\n",
      "weighted avg       0.57      0.53      0.54       752\n",
      "\n"
     ]
    }
   ],
   "source": [
    "print(confusion_matrix(ysrcp_y_test,ysrcp_lda_pred))\n",
    "print(classification_report(ysrcp_y_test,ysrcp_lda_pred))"
   ]
  },
  {
   "cell_type": "markdown",
   "id": "9d3c1074",
   "metadata": {},
   "source": [
    "5. `Decision Tree`"
   ]
  },
  {
   "cell_type": "code",
   "execution_count": 82,
   "id": "28d40ce9",
   "metadata": {},
   "outputs": [],
   "source": [
    "from sklearn.tree import DecisionTreeClassifier"
   ]
  },
  {
   "cell_type": "code",
   "execution_count": 83,
   "id": "6bde9c1f",
   "metadata": {},
   "outputs": [
    {
     "data": {
      "text/plain": [
       "DecisionTreeClassifier()"
      ]
     },
     "execution_count": 83,
     "metadata": {},
     "output_type": "execute_result"
    }
   ],
   "source": [
    "ysrcp_dt = DecisionTreeClassifier()\n",
    "ysrcp_dt.fit(ysrcp_x_train,ysrcp_y_train)"
   ]
  },
  {
   "cell_type": "code",
   "execution_count": 84,
   "id": "4d7b6b75",
   "metadata": {},
   "outputs": [
    {
     "data": {
      "text/plain": [
       "array([2., 1., 2., 0., 0., 0., 0., 0., 1., 1., 0., 1., 0., 0., 0., 2., 1.,\n",
       "       0., 0., 1., 0., 0., 0., 0., 0., 0., 1., 1., 0., 0., 0., 1., 1., 1.,\n",
       "       1., 1., 1., 2., 1., 1., 1., 0., 1., 2., 1., 0., 0., 2., 1., 1., 0.,\n",
       "       1., 0., 1., 1., 1., 0., 1., 0., 0., 1., 1., 1., 0., 0., 0., 1., 1.,\n",
       "       0., 1., 0., 1., 0., 1., 0., 0., 0., 1., 1., 0., 2., 0., 1., 1., 1.,\n",
       "       0., 0., 1., 1., 1., 0., 1., 0., 1., 0., 0., 1., 0., 1., 1., 0., 1.,\n",
       "       1., 1., 0., 1., 1., 1., 1., 0., 0., 1., 2., 0., 0., 1., 1., 1., 0.,\n",
       "       1., 1., 1., 0., 1., 1., 0., 1., 1., 0., 0., 0., 1., 1., 2., 1., 2.,\n",
       "       0., 0., 2., 1., 0., 0., 1., 1., 0., 1., 0., 1., 1., 0., 1., 0., 1.,\n",
       "       1., 1., 0., 0., 0., 0., 2., 1., 1., 1., 0., 1., 1., 1., 1., 1., 1.,\n",
       "       1., 1., 1., 0., 2., 1., 0., 1., 0., 1., 1., 0., 0., 1., 1., 0., 0.,\n",
       "       1., 1., 0., 1., 1., 0., 1., 0., 2., 1., 1., 1., 1., 1., 1., 0., 1.,\n",
       "       0., 0., 1., 0., 1., 0., 0., 0., 0., 1., 0., 1., 1., 1., 1., 0., 0.,\n",
       "       1., 1., 0., 0., 0., 1., 1., 1., 1., 1., 0., 0., 1., 0., 0., 0., 0.,\n",
       "       1., 1., 1., 1., 2., 0., 0., 0., 1., 0., 1., 1., 0., 1., 1., 0., 0.,\n",
       "       1., 1., 1., 1., 0., 1., 1., 1., 1., 1., 1., 0., 1., 1., 2., 0., 1.,\n",
       "       1., 1., 0., 0., 1., 1., 1., 0., 0., 1., 2., 0., 1., 1., 1., 2., 0.,\n",
       "       0., 0., 1., 1., 0., 2., 0., 0., 1., 1., 1., 0., 0., 1., 1., 2., 0.,\n",
       "       0., 1., 2., 0., 2., 1., 2., 0., 0., 0., 0., 0., 0., 1., 1., 1., 1.,\n",
       "       0., 1., 1., 1., 1., 0., 1., 0., 1., 1., 1., 1., 0., 0., 0., 0., 0.,\n",
       "       0., 0., 0., 1., 0., 0., 0., 1., 0., 0., 1., 0., 0., 1., 0., 0., 1.,\n",
       "       2., 0., 1., 1., 0., 0., 1., 1., 1., 0., 1., 1., 0., 0., 0., 1., 1.,\n",
       "       1., 0., 0., 0., 0., 1., 1., 1., 0., 1., 0., 1., 0., 1., 0., 1., 0.,\n",
       "       1., 1., 0., 1., 0., 1., 2., 1., 1., 1., 1., 2., 0., 0., 0., 1., 0.,\n",
       "       1., 1., 0., 0., 1., 1., 1., 0., 0., 1., 0., 0., 0., 0., 1., 0., 1.,\n",
       "       1., 1., 1., 1., 1., 0., 1., 0., 0., 0., 0., 1., 0., 0., 1., 1., 2.,\n",
       "       0., 1., 1., 0., 0., 1., 1., 0., 0., 1., 1., 2., 1., 1., 2., 0., 1.,\n",
       "       0., 1., 1., 0., 0., 1., 0., 1., 0., 1., 1., 0., 1., 0., 1., 0., 1.,\n",
       "       1., 0., 1., 0., 1., 1., 0., 0., 1., 0., 1., 0., 0., 0., 2., 0., 0.,\n",
       "       1., 1., 1., 1., 1., 0., 1., 0., 0., 1., 1., 1., 0., 0., 1., 1., 0.,\n",
       "       0., 0., 1., 1., 1., 0., 0., 1., 0., 0., 1., 0., 0., 0., 1., 0., 1.,\n",
       "       0., 0., 0., 0., 1., 1., 2., 1., 0., 1., 0., 0., 0., 1., 1., 1., 0.,\n",
       "       1., 1., 1., 1., 1., 0., 0., 1., 1., 0., 0., 0., 1., 1., 1., 0., 0.,\n",
       "       1., 1., 1., 0., 0., 1., 1., 0., 1., 1., 1., 2., 1., 0., 0., 0., 1.,\n",
       "       0., 1., 0., 1., 1., 1., 1., 0., 0., 0., 0., 1., 1., 0., 1., 1., 0.,\n",
       "       0., 0., 0., 1., 0., 1., 1., 1., 0., 0., 0., 0., 1., 0., 1., 0., 1.,\n",
       "       2., 1., 0., 0., 0., 0., 1., 0., 1., 0., 1., 0., 1., 1., 1., 0., 1.,\n",
       "       1., 0., 1., 1., 0., 1., 0., 1., 1., 2., 0., 1., 0., 0., 0., 0., 0.,\n",
       "       1., 0., 0., 0., 1., 0., 1., 1., 0., 1., 0., 0., 1., 0., 0., 1., 1.,\n",
       "       1., 1., 1., 1., 1., 1., 1., 0., 0., 0., 1., 0., 1., 1., 0., 1., 0.,\n",
       "       1., 0., 1., 1., 0., 0., 0., 0., 0., 2., 0., 1., 1., 0., 1., 1., 0.,\n",
       "       1., 0., 0., 0., 1., 0., 1., 1., 1., 0., 0., 1., 1., 0., 1., 0., 2.,\n",
       "       0., 1., 0., 1., 1., 0., 1., 1., 1., 0., 0., 0., 1., 1., 0., 0., 0.,\n",
       "       0., 1., 1., 1., 0., 0., 0., 1., 1., 1., 1., 0., 0., 1., 1., 0., 0.,\n",
       "       1., 1., 1., 1.])"
      ]
     },
     "execution_count": 84,
     "metadata": {},
     "output_type": "execute_result"
    }
   ],
   "source": [
    "ysrcp_dt_pred = ysrcp_dt.predict(ysrcp_x_test)\n",
    "ysrcp_dt_pred"
   ]
  },
  {
   "cell_type": "code",
   "execution_count": 85,
   "id": "ff8b0d92",
   "metadata": {},
   "outputs": [
    {
     "name": "stdout",
     "output_type": "stream",
     "text": [
      "Training Score :  0.9982253771073647\n",
      "Testing Score  :  0.5904255319148937\n"
     ]
    }
   ],
   "source": [
    "print(\"Training Score : \",ysrcp_dt.score(ysrcp_x_train,ysrcp_y_train))\n",
    "print(\"Testing Score  : \",ysrcp_dt.score(ysrcp_x_test,ysrcp_y_test))"
   ]
  },
  {
   "cell_type": "code",
   "execution_count": 86,
   "id": "f2f9a464",
   "metadata": {},
   "outputs": [
    {
     "name": "stdout",
     "output_type": "stream",
     "text": [
      "Accuracy by dt  :  0.5904255319148937\n",
      "Precision by dt :  0.43181395734577227\n",
      "Recall by dt    :  0.43156462159604697\n",
      "F1 score by dt  :  0.43002031721783607\n"
     ]
    }
   ],
   "source": [
    "ysrcp_dt_acc = accuracy_score(ysrcp_y_test,ysrcp_dt_pred)\n",
    "ysrcp_dt_pr  = precision_score(ysrcp_y_test,ysrcp_dt_pred,average='macro')\n",
    "ysrcp_dt_rec = recall_score(ysrcp_y_test,ysrcp_dt_pred,average='macro')\n",
    "ysrcp_dt_f1  = f1_score(ysrcp_y_test,ysrcp_dt_pred,average='macro')\n",
    "print('Accuracy by dt  : ', ysrcp_dt_acc)\n",
    "print('Precision by dt : ', ysrcp_dt_pr)\n",
    "print('Recall by dt    : ', ysrcp_dt_rec)\n",
    "print('F1 score by dt  : ', ysrcp_dt_f1)"
   ]
  },
  {
   "cell_type": "code",
   "execution_count": 87,
   "id": "6edb66be",
   "metadata": {},
   "outputs": [
    {
     "name": "stdout",
     "output_type": "stream",
     "text": [
      "[[224 142  17]\n",
      " [ 99 218  17]\n",
      " [ 14  19   2]]\n",
      "              precision    recall  f1-score   support\n",
      "\n",
      "         0.0       0.66      0.58      0.62       383\n",
      "         1.0       0.58      0.65      0.61       334\n",
      "         2.0       0.06      0.06      0.06        35\n",
      "\n",
      "    accuracy                           0.59       752\n",
      "   macro avg       0.43      0.43      0.43       752\n",
      "weighted avg       0.60      0.59      0.59       752\n",
      "\n"
     ]
    }
   ],
   "source": [
    "print(confusion_matrix(ysrcp_y_test,ysrcp_dt_pred))\n",
    "print(classification_report(ysrcp_y_test,ysrcp_dt_pred))"
   ]
  },
  {
   "cell_type": "markdown",
   "id": "34508e9a",
   "metadata": {},
   "source": [
    "6. `Random Forest`"
   ]
  },
  {
   "cell_type": "code",
   "execution_count": 88,
   "id": "8a11744b",
   "metadata": {},
   "outputs": [],
   "source": [
    "from sklearn.ensemble import RandomForestClassifier"
   ]
  },
  {
   "cell_type": "code",
   "execution_count": 89,
   "id": "4d0af4bb",
   "metadata": {},
   "outputs": [
    {
     "data": {
      "text/plain": [
       "RandomForestClassifier(random_state=42)"
      ]
     },
     "execution_count": 89,
     "metadata": {},
     "output_type": "execute_result"
    }
   ],
   "source": [
    "ysrcp_rf = RandomForestClassifier(n_estimators=100, random_state=42)\n",
    "ysrcp_rf.fit(ysrcp_x_train,ysrcp_y_train)"
   ]
  },
  {
   "cell_type": "code",
   "execution_count": 90,
   "id": "74f28a2f",
   "metadata": {},
   "outputs": [
    {
     "data": {
      "text/plain": [
       "array([0., 1., 1., 0., 1., 1., 0., 1., 0., 1., 1., 1., 0., 0., 0., 0., 1.,\n",
       "       0., 1., 1., 0., 0., 0., 1., 0., 0., 1., 1., 0., 0., 0., 1., 1., 1.,\n",
       "       0., 0., 1., 0., 1., 0., 1., 0., 0., 2., 1., 1., 0., 0., 1., 1., 1.,\n",
       "       1., 0., 0., 1., 1., 0., 1., 0., 0., 1., 1., 1., 1., 0., 0., 1., 1.,\n",
       "       0., 1., 1., 1., 0., 1., 0., 1., 1., 1., 1., 0., 0., 0., 1., 1., 0.,\n",
       "       0., 0., 1., 1., 0., 0., 1., 0., 1., 0., 0., 1., 0., 1., 1., 0., 1.,\n",
       "       1., 1., 1., 1., 1., 1., 1., 0., 0., 1., 1., 0., 0., 1., 1., 1., 0.,\n",
       "       1., 1., 1., 1., 1., 1., 1., 1., 0., 0., 0., 0., 1., 0., 0., 1., 0.,\n",
       "       0., 0., 1., 1., 0., 0., 1., 0., 0., 1., 0., 1., 1., 1., 1., 0., 1.,\n",
       "       1., 1., 0., 0., 0., 0., 0., 1., 1., 1., 0., 1., 1., 1., 1., 1., 1.,\n",
       "       1., 1., 1., 0., 1., 1., 0., 1., 0., 1., 1., 0., 1., 1., 1., 0., 0.,\n",
       "       1., 1., 0., 0., 1., 1., 1., 0., 1., 1., 1., 1., 1., 0., 1., 0., 1.,\n",
       "       0., 1., 1., 1., 1., 0., 0., 0., 0., 1., 1., 0., 1., 1., 1., 0., 0.,\n",
       "       1., 1., 1., 0., 0., 1., 1., 1., 1., 1., 1., 1., 1., 1., 0., 0., 1.,\n",
       "       1., 1., 1., 1., 1., 0., 1., 0., 1., 0., 1., 1., 0., 1., 1., 0., 0.,\n",
       "       0., 1., 1., 1., 0., 1., 0., 1., 1., 1., 1., 0., 1., 1., 1., 1., 1.,\n",
       "       1., 1., 0., 0., 0., 1., 1., 1., 0., 1., 1., 1., 1., 1., 1., 1., 0.,\n",
       "       0., 0., 1., 1., 0., 1., 0., 0., 1., 1., 1., 1., 1., 1., 1., 1., 0.,\n",
       "       0., 1., 0., 0., 1., 1., 0., 0., 0., 0., 0., 0., 1., 0., 1., 1., 1.,\n",
       "       0., 1., 1., 1., 1., 0., 1., 0., 1., 1., 1., 1., 0., 1., 0., 0., 0.,\n",
       "       0., 1., 1., 1., 0., 0., 0., 1., 0., 0., 1., 0., 1., 1., 1., 1., 1.,\n",
       "       1., 0., 1., 1., 1., 0., 1., 1., 1., 0., 1., 1., 1., 0., 0., 1., 1.,\n",
       "       1., 0., 0., 0., 0., 1., 1., 1., 1., 0., 0., 0., 1., 1., 1., 1., 0.,\n",
       "       1., 1., 0., 1., 0., 1., 0., 1., 1., 0., 1., 0., 0., 0., 0., 1., 0.,\n",
       "       1., 1., 1., 1., 1., 1., 1., 0., 1., 0., 0., 0., 1., 1., 1., 0., 1.,\n",
       "       1., 1., 1., 1., 1., 0., 1., 1., 0., 0., 0., 1., 0., 0., 1., 1., 1.,\n",
       "       1., 1., 1., 0., 0., 1., 0., 1., 0., 1., 1., 1., 1., 1., 1., 0., 1.,\n",
       "       0., 1., 1., 0., 0., 1., 1., 0., 0., 1., 1., 0., 1., 1., 1., 0., 1.,\n",
       "       0., 1., 1., 0., 1., 1., 0., 0., 1., 0., 1., 0., 1., 0., 0., 0., 0.,\n",
       "       0., 1., 0., 1., 1., 0., 1., 0., 1., 1., 1., 1., 0., 0., 1., 1., 0.,\n",
       "       0., 0., 0., 1., 1., 0., 0., 1., 0., 0., 1., 0., 1., 0., 1., 0., 1.,\n",
       "       0., 1., 0., 0., 1., 1., 1., 1., 0., 1., 0., 0., 0., 1., 1., 1., 0.,\n",
       "       1., 1., 1., 1., 0., 1., 0., 1., 1., 0., 0., 0., 1., 1., 0., 1., 0.,\n",
       "       1., 1., 1., 0., 1., 1., 1., 0., 1., 1., 1., 0., 1., 1., 1., 0., 1.,\n",
       "       1., 1., 1., 1., 1., 0., 1., 1., 1., 0., 0., 1., 0., 0., 1., 1., 1.,\n",
       "       1., 0., 1., 1., 0., 1., 1., 1., 0., 0., 0., 0., 1., 0., 1., 0., 1.,\n",
       "       0., 0., 0., 0., 0., 0., 1., 1., 1., 1., 1., 0., 1., 1., 1., 0., 1.,\n",
       "       1., 0., 0., 1., 0., 1., 0., 1., 0., 1., 0., 1., 1., 0., 0., 0., 0.,\n",
       "       0., 0., 0., 0., 1., 0., 1., 1., 1., 1., 0., 0., 1., 1., 0., 0., 1.,\n",
       "       1., 1., 1., 1., 1., 1., 1., 1., 0., 0., 0., 0., 1., 1., 0., 1., 1.,\n",
       "       1., 0., 1., 1., 1., 0., 0., 1., 0., 1., 0., 1., 1., 0., 1., 1., 0.,\n",
       "       1., 0., 0., 0., 1., 1., 0., 1., 1., 0., 0., 1., 1., 0., 1., 0., 1.,\n",
       "       0., 1., 0., 1., 1., 0., 0., 1., 1., 1., 1., 1., 1., 1., 0., 0., 0.,\n",
       "       0., 1., 1., 1., 0., 0., 0., 1., 1., 1., 1., 0., 0., 1., 1., 0., 0.,\n",
       "       1., 1., 1., 1.])"
      ]
     },
     "execution_count": 90,
     "metadata": {},
     "output_type": "execute_result"
    }
   ],
   "source": [
    "ysrcp_rf_pred = ysrcp_rf.predict(ysrcp_x_test)\n",
    "ysrcp_rf_pred"
   ]
  },
  {
   "cell_type": "code",
   "execution_count": 91,
   "id": "a5028d62",
   "metadata": {},
   "outputs": [
    {
     "name": "stdout",
     "output_type": "stream",
     "text": [
      "Training Score :  0.9982253771073647\n",
      "Testing Score  :  0.6476063829787234\n"
     ]
    }
   ],
   "source": [
    "print(\"Training Score : \",ysrcp_rf.score(ysrcp_x_train,ysrcp_y_train))\n",
    "print(\"Testing Score  : \",ysrcp_rf.score(ysrcp_x_test,ysrcp_y_test))"
   ]
  },
  {
   "cell_type": "code",
   "execution_count": 92,
   "id": "5583422b",
   "metadata": {},
   "outputs": [
    {
     "name": "stdout",
     "output_type": "stream",
     "text": [
      "Accuracy by rf  :  0.6476063829787234\n",
      "Precision by rf :  0.4403173951706683\n",
      "Recall by rf    :  0.4574271821891465\n",
      "F1 score by rf  :  0.44176614075311615\n"
     ]
    }
   ],
   "source": [
    "ysrcp_rf_acc = accuracy_score(ysrcp_y_test,ysrcp_rf_pred)\n",
    "ysrcp_rf_pr  = precision_score(ysrcp_y_test,ysrcp_rf_pred,average='macro')\n",
    "ysrcp_rf_rec = recall_score(ysrcp_y_test,ysrcp_rf_pred,average='macro')\n",
    "ysrcp_rf_f1  = f1_score(ysrcp_y_test,ysrcp_rf_pred,average='macro')\n",
    "print('Accuracy by rf  : ', ysrcp_rf_acc)\n",
    "print('Precision by rf : ', ysrcp_rf_pr)\n",
    "print('Recall by rf    : ', ysrcp_rf_rec)\n",
    "print('F1 score by rf  : ', ysrcp_rf_f1)"
   ]
  },
  {
   "cell_type": "code",
   "execution_count": 93,
   "id": "dc557b01",
   "metadata": {},
   "outputs": [
    {
     "name": "stdout",
     "output_type": "stream",
     "text": [
      "[[224 158   1]\n",
      " [ 71 263   0]\n",
      " [ 13  22   0]]\n",
      "              precision    recall  f1-score   support\n",
      "\n",
      "         0.0       0.73      0.58      0.65       383\n",
      "         1.0       0.59      0.79      0.68       334\n",
      "         2.0       0.00      0.00      0.00        35\n",
      "\n",
      "    accuracy                           0.65       752\n",
      "   macro avg       0.44      0.46      0.44       752\n",
      "weighted avg       0.63      0.65      0.63       752\n",
      "\n"
     ]
    }
   ],
   "source": [
    "print(confusion_matrix(ysrcp_y_test,ysrcp_rf_pred))\n",
    "print(classification_report(ysrcp_y_test,ysrcp_rf_pred))"
   ]
  },
  {
   "cell_type": "markdown",
   "id": "e72e4f7e",
   "metadata": {},
   "source": [
    "7. `Support Vector machine`"
   ]
  },
  {
   "cell_type": "code",
   "execution_count": 94,
   "id": "fbc766e0",
   "metadata": {},
   "outputs": [],
   "source": [
    "from sklearn.svm import SVC"
   ]
  },
  {
   "cell_type": "code",
   "execution_count": 95,
   "id": "f365c6a2",
   "metadata": {},
   "outputs": [
    {
     "data": {
      "text/plain": [
       "SVC(kernel='linear', random_state=42)"
      ]
     },
     "execution_count": 95,
     "metadata": {},
     "output_type": "execute_result"
    }
   ],
   "source": [
    "ysrcp_svm = SVC(kernel='linear', C=1.0, random_state=42)\n",
    "ysrcp_svm.fit(ysrcp_x_train,ysrcp_y_train)"
   ]
  },
  {
   "cell_type": "code",
   "execution_count": 96,
   "id": "e76a57bf",
   "metadata": {},
   "outputs": [
    {
     "data": {
      "text/plain": [
       "array([0., 1., 1., 1., 1., 1., 0., 0., 0., 1., 0., 0., 0., 1., 0., 0., 0.,\n",
       "       0., 0., 1., 0., 0., 0., 0., 0., 1., 1., 1., 0., 0., 1., 1., 1., 1.,\n",
       "       0., 0., 1., 0., 0., 0., 0., 0., 0., 1., 0., 1., 0., 0., 1., 1., 0.,\n",
       "       1., 0., 0., 1., 0., 0., 1., 0., 1., 1., 1., 1., 0., 0., 0., 1., 1.,\n",
       "       0., 0., 1., 1., 0., 1., 0., 1., 0., 1., 1., 0., 0., 0., 1., 1., 1.,\n",
       "       0., 0., 1., 1., 1., 0., 1., 0., 1., 0., 0., 0., 1., 1., 1., 0., 1.,\n",
       "       1., 1., 1., 1., 1., 1., 1., 0., 0., 1., 0., 0., 0., 1., 0., 1., 0.,\n",
       "       1., 1., 1., 1., 1., 1., 1., 1., 0., 0., 0., 0., 1., 1., 0., 1., 0.,\n",
       "       0., 0., 1., 0., 0., 0., 0., 0., 0., 1., 0., 1., 1., 0., 1., 0., 0.,\n",
       "       0., 0., 1., 0., 0., 1., 1., 1., 1., 0., 0., 1., 1., 1., 1., 1., 1.,\n",
       "       1., 1., 1., 0., 1., 1., 0., 1., 1., 0., 1., 1., 0., 1., 0., 1., 0.,\n",
       "       0., 1., 0., 0., 0., 1., 1., 0., 1., 1., 1., 0., 1., 0., 0., 0., 1.,\n",
       "       0., 0., 1., 0., 0., 1., 0., 0., 0., 1., 0., 0., 0., 1., 1., 0., 0.,\n",
       "       0., 1., 0., 0., 1., 0., 1., 1., 1., 1., 0., 1., 1., 1., 0., 0., 0.,\n",
       "       1., 1., 1., 0., 1., 0., 1., 0., 1., 0., 1., 0., 0., 1., 1., 0., 0.,\n",
       "       0., 0., 1., 1., 0., 0., 0., 1., 1., 1., 0., 0., 1., 0., 1., 0., 0.,\n",
       "       1., 1., 0., 0., 0., 1., 1., 0., 0., 1., 0., 1., 1., 1., 1., 1., 0.,\n",
       "       0., 1., 1., 1., 1., 0., 0., 0., 1., 1., 1., 1., 1., 1., 1., 0., 0.,\n",
       "       0., 1., 1., 0., 1., 1., 1., 0., 0., 0., 0., 1., 0., 0., 1., 0., 1.,\n",
       "       0., 0., 1., 1., 1., 0., 0., 0., 1., 1., 1., 1., 0., 0., 0., 0., 0.,\n",
       "       0., 1., 0., 1., 0., 0., 0., 1., 0., 0., 1., 0., 0., 1., 1., 1., 1.,\n",
       "       0., 0., 0., 1., 1., 1., 0., 1., 1., 0., 1., 1., 1., 0., 0., 0., 1.,\n",
       "       1., 0., 0., 0., 0., 1., 1., 1., 0., 0., 0., 0., 1., 1., 1., 1., 0.,\n",
       "       1., 1., 0., 1., 0., 1., 1., 1., 1., 0., 1., 0., 0., 0., 0., 1., 1.,\n",
       "       1., 1., 0., 0., 0., 0., 1., 0., 1., 0., 0., 0., 1., 1., 1., 0., 1.,\n",
       "       0., 1., 1., 0., 0., 0., 1., 0., 1., 0., 0., 1., 0., 1., 1., 1., 1.,\n",
       "       1., 1., 1., 0., 0., 1., 0., 0., 0., 1., 1., 1., 0., 1., 0., 0., 1.,\n",
       "       0., 0., 1., 0., 0., 1., 1., 0., 0., 0., 1., 0., 0., 1., 0., 0., 1.,\n",
       "       0., 1., 0., 0., 0., 1., 0., 0., 1., 0., 0., 0., 0., 0., 0., 0., 0.,\n",
       "       0., 1., 0., 1., 1., 0., 1., 0., 1., 1., 0., 1., 0., 0., 1., 1., 0.,\n",
       "       0., 0., 0., 1., 0., 0., 0., 0., 0., 0., 0., 0., 1., 0., 0., 0., 1.,\n",
       "       0., 1., 1., 0., 1., 1., 1., 0., 0., 1., 0., 1., 0., 0., 1., 1., 1.,\n",
       "       1., 1., 1., 1., 0., 1., 0., 1., 1., 0., 0., 0., 1., 1., 0., 0., 0.,\n",
       "       1., 1., 1., 0., 1., 0., 1., 1., 1., 1., 1., 0., 1., 0., 0., 0., 0.,\n",
       "       1., 1., 1., 1., 1., 1., 1., 0., 1., 0., 0., 1., 0., 0., 0., 1., 1.,\n",
       "       0., 0., 0., 1., 0., 0., 1., 1., 0., 0., 0., 0., 1., 0., 1., 0., 1.,\n",
       "       0., 0., 0., 1., 0., 0., 1., 0., 1., 0., 0., 1., 0., 0., 1., 0., 1.,\n",
       "       1., 0., 0., 0., 0., 1., 0., 0., 1., 1., 0., 1., 1., 0., 0., 0., 0.,\n",
       "       0., 1., 0., 0., 1., 0., 1., 1., 0., 1., 0., 0., 1., 1., 0., 0., 1.,\n",
       "       1., 1., 1., 1., 0., 1., 0., 1., 0., 0., 0., 0., 1., 0., 0., 1., 1.,\n",
       "       1., 0., 0., 1., 1., 0., 0., 1., 1., 1., 1., 1., 1., 0., 1., 0., 0.,\n",
       "       1., 0., 0., 0., 1., 0., 0., 1., 1., 0., 0., 1., 1., 0., 1., 0., 1.,\n",
       "       0., 0., 0., 1., 1., 0., 0., 1., 1., 1., 0., 0., 0., 0., 0., 0., 0.,\n",
       "       0., 1., 0., 1., 0., 0., 0., 1., 1., 0., 1., 0., 0., 0., 1., 0., 0.,\n",
       "       1., 0., 1., 1.])"
      ]
     },
     "execution_count": 96,
     "metadata": {},
     "output_type": "execute_result"
    }
   ],
   "source": [
    "ysrcp_svm_pred = ysrcp_svm.predict(ysrcp_x_test)\n",
    "ysrcp_svm_pred"
   ]
  },
  {
   "cell_type": "code",
   "execution_count": 97,
   "id": "9b1d081a",
   "metadata": {},
   "outputs": [
    {
     "name": "stdout",
     "output_type": "stream",
     "text": [
      "Training Score :  0.8757763975155279\n",
      "Testing Score  :  0.6502659574468085\n"
     ]
    }
   ],
   "source": [
    "print(\"Training Score : \",ysrcp_svm.score(ysrcp_x_train,ysrcp_y_train))\n",
    "print(\"Testing Score  : \",ysrcp_svm.score(ysrcp_x_test,ysrcp_y_test))"
   ]
  },
  {
   "cell_type": "code",
   "execution_count": 98,
   "id": "4f8ae618",
   "metadata": {},
   "outputs": [
    {
     "name": "stdout",
     "output_type": "stream",
     "text": [
      "Accuracy by svm  :  0.6502659574468085\n",
      "Precision by svm :  0.43259223548762155\n",
      "Recall by svm    :  0.45393286533981647\n",
      "F1 score by svm  :  0.4429590614561713\n"
     ]
    }
   ],
   "source": [
    "ysrcp_svm_acc = accuracy_score(ysrcp_y_test,ysrcp_svm_pred)\n",
    "ysrcp_svm_pr  = precision_score(ysrcp_y_test,ysrcp_svm_pred,average='macro',zero_division=0.0)\n",
    "ysrcp_svm_rec = recall_score(ysrcp_y_test,ysrcp_svm_pred,average='macro',zero_division=0.0)\n",
    "ysrcp_svm_f1  = f1_score(ysrcp_y_test,ysrcp_svm_pred,average='macro',zero_division=0.0)\n",
    "print('Accuracy by svm  : ', ysrcp_svm_acc)\n",
    "print('Precision by svm : ', ysrcp_svm_pr)\n",
    "print('Recall by svm    : ', ysrcp_svm_rec)\n",
    "print('F1 score by svm  : ', ysrcp_svm_f1)"
   ]
  },
  {
   "cell_type": "code",
   "execution_count": 99,
   "id": "85d2dbef",
   "metadata": {},
   "outputs": [
    {
     "name": "stdout",
     "output_type": "stream",
     "text": [
      "[[267 116   0]\n",
      " [112 222   0]\n",
      " [ 15  20   0]]\n",
      "              precision    recall  f1-score   support\n",
      "\n",
      "         0.0       0.68      0.70      0.69       383\n",
      "         1.0       0.62      0.66      0.64       334\n",
      "         2.0       0.00      0.00      0.00        35\n",
      "\n",
      "    accuracy                           0.65       752\n",
      "   macro avg       0.43      0.45      0.44       752\n",
      "weighted avg       0.62      0.65      0.64       752\n",
      "\n"
     ]
    },
    {
     "name": "stderr",
     "output_type": "stream",
     "text": [
      "C:\\Users\\posah\\anacondap\\lib\\site-packages\\sklearn\\metrics\\_classification.py:1318: UndefinedMetricWarning: Precision and F-score are ill-defined and being set to 0.0 in labels with no predicted samples. Use `zero_division` parameter to control this behavior.\n",
      "  _warn_prf(average, modifier, msg_start, len(result))\n",
      "C:\\Users\\posah\\anacondap\\lib\\site-packages\\sklearn\\metrics\\_classification.py:1318: UndefinedMetricWarning: Precision and F-score are ill-defined and being set to 0.0 in labels with no predicted samples. Use `zero_division` parameter to control this behavior.\n",
      "  _warn_prf(average, modifier, msg_start, len(result))\n",
      "C:\\Users\\posah\\anacondap\\lib\\site-packages\\sklearn\\metrics\\_classification.py:1318: UndefinedMetricWarning: Precision and F-score are ill-defined and being set to 0.0 in labels with no predicted samples. Use `zero_division` parameter to control this behavior.\n",
      "  _warn_prf(average, modifier, msg_start, len(result))\n"
     ]
    }
   ],
   "source": [
    "print(confusion_matrix(ysrcp_y_test,ysrcp_svm_pred))\n",
    "print(classification_report(ysrcp_y_test,ysrcp_svm_pred))"
   ]
  },
  {
   "cell_type": "markdown",
   "id": "9888e6ff",
   "metadata": {},
   "source": [
    "8. `KNN`"
   ]
  },
  {
   "cell_type": "code",
   "execution_count": 100,
   "id": "0ae647a2",
   "metadata": {},
   "outputs": [],
   "source": [
    "from sklearn.neighbors import KNeighborsClassifier"
   ]
  },
  {
   "cell_type": "code",
   "execution_count": 101,
   "id": "9b0bc8c1",
   "metadata": {},
   "outputs": [
    {
     "data": {
      "text/plain": [
       "KNeighborsClassifier()"
      ]
     },
     "execution_count": 101,
     "metadata": {},
     "output_type": "execute_result"
    }
   ],
   "source": [
    "ysrcp_knn = KNeighborsClassifier(n_neighbors=5)\n",
    "ysrcp_knn.fit(ysrcp_x_train,ysrcp_y_train)"
   ]
  },
  {
   "cell_type": "code",
   "execution_count": 102,
   "id": "69084c7d",
   "metadata": {},
   "outputs": [
    {
     "data": {
      "text/plain": [
       "array([0., 1., 1., 0., 1., 1., 1., 1., 0., 0., 1., 0., 0., 1., 0., 1., 0.,\n",
       "       0., 1., 1., 0., 1., 0., 1., 0., 1., 0., 1., 1., 0., 0., 1., 1., 0.,\n",
       "       0., 1., 0., 1., 0., 1., 1., 0., 0., 2., 0., 1., 0., 0., 1., 0., 1.,\n",
       "       0., 0., 0., 1., 0., 1., 1., 0., 1., 1., 1., 0., 1., 0., 0., 1., 1.,\n",
       "       1., 0., 1., 1., 1., 0., 1., 0., 0., 1., 1., 0., 0., 0., 0., 1., 1.,\n",
       "       0., 1., 1., 1., 0., 1., 1., 1., 0., 1., 0., 0., 1., 1., 1., 1., 1.,\n",
       "       1., 1., 1., 1., 1., 1., 0., 0., 1., 1., 1., 0., 0., 1., 0., 1., 0.,\n",
       "       1., 1., 1., 0., 1., 0., 1., 0., 1., 0., 0., 0., 0., 0., 1., 1., 0.,\n",
       "       1., 0., 1., 1., 0., 1., 1., 1., 0., 1., 1., 0., 1., 0., 1., 1., 0.,\n",
       "       0., 1., 1., 0., 1., 0., 1., 0., 1., 0., 0., 1., 0., 1., 0., 1., 0.,\n",
       "       0., 1., 1., 0., 0., 0., 0., 1., 0., 0., 1., 1., 0., 1., 0., 0., 0.,\n",
       "       0., 1., 0., 0., 0., 1., 1., 0., 1., 1., 1., 1., 1., 0., 0., 1., 0.,\n",
       "       0., 0., 1., 0., 0., 0., 1., 0., 1., 1., 1., 0., 1., 0., 0., 0., 1.,\n",
       "       1., 1., 1., 0., 1., 0., 1., 0., 1., 1., 1., 1., 0., 0., 0., 1., 0.,\n",
       "       1., 1., 0., 0., 0., 1., 0., 0., 0., 0., 1., 1., 0., 1., 1., 0., 0.,\n",
       "       0., 0., 0., 1., 0., 0., 0., 0., 0., 1., 0., 0., 0., 0., 0., 1., 0.,\n",
       "       1., 1., 0., 0., 1., 0., 0., 1., 1., 0., 0., 1., 1., 1., 1., 0., 1.,\n",
       "       1., 0., 1., 0., 0., 1., 0., 0., 1., 1., 1., 0., 1., 1., 1., 1., 1.,\n",
       "       0., 1., 1., 0., 0., 0., 1., 0., 1., 0., 0., 0., 0., 1., 1., 0., 0.,\n",
       "       0., 1., 1., 1., 0., 0., 0., 1., 1., 1., 1., 1., 0., 1., 0., 1., 1.,\n",
       "       0., 1., 1., 1., 0., 0., 1., 1., 0., 0., 1., 1., 0., 1., 0., 1., 0.,\n",
       "       1., 1., 1., 0., 1., 1., 1., 1., 0., 0., 1., 1., 1., 0., 1., 0., 0.,\n",
       "       0., 0., 0., 0., 1., 0., 1., 1., 0., 1., 1., 1., 1., 1., 1., 0., 0.,\n",
       "       1., 0., 0., 1., 1., 0., 0., 1., 1., 0., 0., 1., 0., 0., 0., 1., 0.,\n",
       "       1., 1., 0., 0., 1., 1., 1., 0., 1., 0., 0., 0., 0., 1., 1., 0., 1.,\n",
       "       0., 1., 1., 0., 1., 0., 0., 0., 0., 0., 1., 1., 1., 0., 1., 0., 1.,\n",
       "       0., 1., 1., 0., 0., 1., 0., 1., 1., 1., 0., 1., 0., 1., 1., 0., 1.,\n",
       "       0., 0., 1., 1., 0., 0., 1., 1., 0., 0., 1., 1., 0., 0., 0., 0., 1.,\n",
       "       0., 1., 0., 0., 0., 0., 0., 0., 1., 0., 0., 1., 1., 0., 0., 0., 0.,\n",
       "       0., 1., 0., 1., 1., 0., 1., 1., 0., 1., 0., 1., 0., 0., 0., 0., 0.,\n",
       "       1., 0., 0., 0., 0., 0., 0., 0., 1., 0., 1., 0., 1., 0., 1., 0., 0.,\n",
       "       0., 1., 1., 1., 1., 1., 1., 0., 1., 1., 0., 0., 0., 0., 1., 1., 1.,\n",
       "       1., 1., 1., 1., 1., 1., 0., 0., 1., 0., 0., 0., 1., 0., 0., 0., 0.,\n",
       "       1., 1., 1., 1., 1., 0., 1., 0., 1., 1., 1., 0., 1., 0., 0., 0., 0.,\n",
       "       1., 0., 0., 1., 1., 1., 1., 0., 1., 1., 1., 1., 0., 1., 0., 1., 1.,\n",
       "       0., 0., 1., 1., 0., 0., 1., 1., 0., 0., 0., 1., 1., 0., 1., 0., 1.,\n",
       "       0., 1., 1., 1., 1., 0., 1., 1., 0., 0., 1., 0., 0., 0., 0., 1., 0.,\n",
       "       1., 1., 0., 0., 0., 1., 0., 0., 1., 0., 0., 1., 0., 0., 1., 0., 1.,\n",
       "       1., 0., 1., 0., 0., 0., 1., 0., 0., 1., 0., 0., 0., 0., 0., 0., 1.,\n",
       "       1., 1., 1., 1., 0., 1., 0., 1., 1., 0., 0., 0., 1., 0., 0., 0., 0.,\n",
       "       1., 0., 1., 1., 1., 0., 1., 0., 0., 0., 1., 1., 1., 0., 0., 0., 0.,\n",
       "       1., 0., 0., 1., 1., 0., 0., 1., 1., 0., 0., 1., 0., 0., 1., 1., 1.,\n",
       "       0., 0., 1., 0., 0., 1., 1., 1., 1., 1., 0., 1., 0., 1., 0., 0., 1.,\n",
       "       0., 1., 0., 0., 0., 1., 0., 0., 1., 0., 1., 0., 0., 0., 1., 0., 0.,\n",
       "       1., 0., 1., 1.])"
      ]
     },
     "execution_count": 102,
     "metadata": {},
     "output_type": "execute_result"
    }
   ],
   "source": [
    "ysrcp_knn_pred = ysrcp_knn.predict(ysrcp_x_test)\n",
    "ysrcp_knn_pred"
   ]
  },
  {
   "cell_type": "code",
   "execution_count": 103,
   "id": "0c16456e",
   "metadata": {},
   "outputs": [
    {
     "name": "stdout",
     "output_type": "stream",
     "text": [
      "Training Score :  0.7133984028393966\n",
      "Testing Score  :  0.5651595744680851\n"
     ]
    }
   ],
   "source": [
    "print(\"Training Score : \",ysrcp_knn.score(ysrcp_x_train,ysrcp_y_train))\n",
    "print(\"Testing Score  : \",ysrcp_knn.score(ysrcp_x_test,ysrcp_y_test))"
   ]
  },
  {
   "cell_type": "code",
   "execution_count": 104,
   "id": "13421728",
   "metadata": {},
   "outputs": [
    {
     "name": "stdout",
     "output_type": "stream",
     "text": [
      "Accuracy by knn  :  0.5651595744680851\n",
      "Precision by knn :  0.3770305738809676\n",
      "Recall by knn    :  0.3954232527112876\n",
      "F1 score by knn  :  0.3857290179279708\n"
     ]
    }
   ],
   "source": [
    "ysrcp_knn_acc = accuracy_score(ysrcp_y_test,ysrcp_knn_pred)\n",
    "ysrcp_knn_pr  = precision_score(ysrcp_y_test,ysrcp_knn_pred,average='macro',zero_division=0.0)\n",
    "ysrcp_knn_rec = recall_score(ysrcp_y_test,ysrcp_knn_pred,average='macro',zero_division=0.0)\n",
    "ysrcp_knn_f1  = f1_score(ysrcp_y_test,ysrcp_knn_pred,average='macro',zero_division=0.0)\n",
    "print('Accuracy by knn  : ', ysrcp_knn_acc)\n",
    "print('Precision by knn : ', ysrcp_knn_pr)\n",
    "print('Recall by knn    : ', ysrcp_knn_rec)\n",
    "print('F1 score by knn  : ', ysrcp_knn_f1)"
   ]
  },
  {
   "cell_type": "code",
   "execution_count": 105,
   "id": "c9786c43",
   "metadata": {},
   "outputs": [
    {
     "name": "stdout",
     "output_type": "stream",
     "text": [
      "[[225 157   1]\n",
      " [134 200   0]\n",
      " [ 22  13   0]]\n",
      "              precision    recall  f1-score   support\n",
      "\n",
      "         0.0       0.59      0.59      0.59       383\n",
      "         1.0       0.54      0.60      0.57       334\n",
      "         2.0       0.00      0.00      0.00        35\n",
      "\n",
      "    accuracy                           0.57       752\n",
      "   macro avg       0.38      0.40      0.39       752\n",
      "weighted avg       0.54      0.57      0.55       752\n",
      "\n"
     ]
    }
   ],
   "source": [
    "print(confusion_matrix(ysrcp_y_test,ysrcp_knn_pred))\n",
    "print(classification_report(ysrcp_y_test,ysrcp_knn_pred))"
   ]
  },
  {
   "cell_type": "markdown",
   "id": "0ad4d2aa",
   "metadata": {},
   "source": [
    "9. `LSTM`"
   ]
  },
  {
   "cell_type": "code",
   "execution_count": 106,
   "id": "0cf00e68",
   "metadata": {},
   "outputs": [],
   "source": [
    "from keras.models import Sequential\n",
    "from keras.layers import Dense, Dropout, Flatten, SpatialDropout1D, Embedding, Bidirectional, LSTM, BatchNormalization\n",
    "from keras.callbacks import ModelCheckpoint, EarlyStopping\n",
    "from keras.utils import pad_sequences\n",
    "import tensorflow as tf\n",
    "from keras.preprocessing.text import Tokenizer"
   ]
  },
  {
   "cell_type": "code",
   "execution_count": 107,
   "id": "eb6bdf30",
   "metadata": {},
   "outputs": [],
   "source": [
    "ysrcp_x_trf = [str(i) for i in ysrcp_x_train]\n",
    "tokenizer = Tokenizer(num_words = ysrcp_n_words)\n",
    "tokenizer.fit_on_texts(ysrcp_x_trf)\n",
    "\n",
    "def Tokenization_padSequences(x, maxlen = ysrcp_max_len):\n",
    "    xseq = tokenizer.texts_to_sequences(x)\n",
    "    xpad = pad_sequences(xseq, padding='post', maxlen = ysrcp_max_len)\n",
    "    return xpad\n",
    "\n",
    "ysrcp_x_tef = [str(i) for i in ysrcp_x_test]\n",
    "ysrcp_xtrain_pad = Tokenization_padSequences(ysrcp_x_trf,maxlen=ysrcp_max_len)\n",
    "ysrcp_xtest_pad = Tokenization_padSequences(ysrcp_x_tef,maxlen=ysrcp_max_len)"
   ]
  },
  {
   "cell_type": "code",
   "execution_count": 108,
   "id": "beafaf58",
   "metadata": {},
   "outputs": [
    {
     "data": {
      "text/plain": [
       "array([[1, 1, 1, ..., 0, 0, 0],\n",
       "       [1, 1, 1, ..., 0, 0, 0],\n",
       "       [1, 1, 1, ..., 0, 0, 0],\n",
       "       ...,\n",
       "       [1, 1, 1, ..., 0, 0, 0],\n",
       "       [1, 1, 1, ..., 0, 0, 0],\n",
       "       [1, 1, 1, ..., 0, 0, 0]])"
      ]
     },
     "execution_count": 108,
     "metadata": {},
     "output_type": "execute_result"
    }
   ],
   "source": [
    "ysrcp_xtrain_pad"
   ]
  },
  {
   "cell_type": "code",
   "execution_count": 109,
   "id": "bd0b3983",
   "metadata": {},
   "outputs": [],
   "source": [
    "Metrics = [ tf.keras.metrics.BinaryAccuracy(name='accuracy'),\n",
    "            tf.keras.metrics.Precision(name = 'precision'),\n",
    "            tf.keras.metrics.Recall(name='recall'),\n",
    "            tf.keras.metrics.F1Score(name='f1-score')]"
   ]
  },
  {
   "cell_type": "code",
   "execution_count": 110,
   "id": "3cd5e77f",
   "metadata": {},
   "outputs": [
    {
     "name": "stdout",
     "output_type": "stream",
     "text": [
      "Model: \"sequential\"\n",
      "_________________________________________________________________\n",
      " Layer (type)                Output Shape              Param #   \n",
      "=================================================================\n",
      " embedding (Embedding)       (None, 241, 64)           461504    \n",
      "                                                                 \n",
      " spatial_dropout1d (Spatial  (None, 241, 64)           0         \n",
      " Dropout1D)                                                      \n",
      "                                                                 \n",
      " bidirectional (Bidirection  (None, 512)               657408    \n",
      " al)                                                             \n",
      "                                                                 \n",
      " dense (Dense)               (None, 1)                 513       \n",
      "                                                                 \n",
      "=================================================================\n",
      "Total params: 1119425 (4.27 MB)\n",
      "Trainable params: 1119425 (4.27 MB)\n",
      "Non-trainable params: 0 (0.00 Byte)\n",
      "_________________________________________________________________\n"
     ]
    }
   ],
   "source": [
    "ysrcp_lstm = Sequential()\n",
    "ysrcp_lstm.add(Embedding(ysrcp_n_words, 64, input_length=ysrcp_max_len))\n",
    "ysrcp_lstm.add(SpatialDropout1D(0.2))\n",
    "ysrcp_lstm.add(Bidirectional(LSTM(256, dropout=0.2)))\n",
    "ysrcp_lstm.add(Dense(1, activation ='sigmoid'))\n",
    "ysrcp_lstm.compile(optimizer='Adam', metrics= Metrics, loss = 'binary_crossentropy')\n",
    "ysrcp_lstm.summary()"
   ]
  },
  {
   "cell_type": "code",
   "execution_count": 111,
   "id": "0e3ce0f1",
   "metadata": {},
   "outputs": [
    {
     "name": "stdout",
     "output_type": "stream",
     "text": [
      "Epoch 1/3\n",
      "71/71 [==============================] - 251s 4s/step - loss: 0.6829 - accuracy: 0.4601 - precision: 0.5211 - recall: 0.9974 - f1-score: 0.7358\n",
      "Epoch 2/3\n",
      "71/71 [==============================] - 289s 4s/step - loss: 0.6808 - accuracy: 0.4605 - precision: 0.5213 - recall: 1.0000 - f1-score: 0.7358\n",
      "Epoch 3/3\n",
      "71/71 [==============================] - 281s 4s/step - loss: 0.6818 - accuracy: 0.4605 - precision: 0.5213 - recall: 1.0000 - f1-score: 0.7358\n"
     ]
    },
    {
     "data": {
      "text/plain": [
       "<keras.src.callbacks.History at 0x26b47dd9f70>"
      ]
     },
     "execution_count": 111,
     "metadata": {},
     "output_type": "execute_result"
    }
   ],
   "source": [
    "ysrcp_lstm.fit(ysrcp_xtrain_pad, ysrcp_y_train, epochs=3)"
   ]
  },
  {
   "cell_type": "code",
   "execution_count": 112,
   "id": "41ff937a",
   "metadata": {},
   "outputs": [
    {
     "name": "stdout",
     "output_type": "stream",
     "text": [
      "24/24 [==============================] - 5s 170ms/step\n",
      "[[  0 383   0]\n",
      " [  0 334   0]\n",
      " [  0  35   0]]\n",
      "              precision    recall  f1-score   support\n",
      "\n",
      "         0.0       0.00      0.00      0.00       383\n",
      "         1.0       0.44      1.00      0.62       334\n",
      "         2.0       0.00      0.00      0.00        35\n",
      "\n",
      "    accuracy                           0.44       752\n",
      "   macro avg       0.15      0.33      0.21       752\n",
      "weighted avg       0.20      0.44      0.27       752\n",
      "\n"
     ]
    },
    {
     "name": "stderr",
     "output_type": "stream",
     "text": [
      "C:\\Users\\posah\\anacondap\\lib\\site-packages\\sklearn\\metrics\\_classification.py:1318: UndefinedMetricWarning: Precision and F-score are ill-defined and being set to 0.0 in labels with no predicted samples. Use `zero_division` parameter to control this behavior.\n",
      "  _warn_prf(average, modifier, msg_start, len(result))\n",
      "C:\\Users\\posah\\anacondap\\lib\\site-packages\\sklearn\\metrics\\_classification.py:1318: UndefinedMetricWarning: Precision and F-score are ill-defined and being set to 0.0 in labels with no predicted samples. Use `zero_division` parameter to control this behavior.\n",
      "  _warn_prf(average, modifier, msg_start, len(result))\n",
      "C:\\Users\\posah\\anacondap\\lib\\site-packages\\sklearn\\metrics\\_classification.py:1318: UndefinedMetricWarning: Precision and F-score are ill-defined and being set to 0.0 in labels with no predicted samples. Use `zero_division` parameter to control this behavior.\n",
      "  _warn_prf(average, modifier, msg_start, len(result))\n"
     ]
    }
   ],
   "source": [
    "ysrcp_lstm_pred = (ysrcp_lstm.predict(ysrcp_xtest_pad) > 0.5).astype(int)\n",
    "print(confusion_matrix(ysrcp_y_test,ysrcp_lstm_pred))\n",
    "print(classification_report(ysrcp_y_test, ysrcp_lstm_pred))"
   ]
  },
  {
   "cell_type": "code",
   "execution_count": 113,
   "id": "b95b8b8a",
   "metadata": {},
   "outputs": [
    {
     "name": "stdout",
     "output_type": "stream",
     "text": [
      "Accuracy by lstm  :  0.4441489361702128\n",
      "Precision by lstm :  0.14804964539007093\n",
      "Recall by lstm    :  0.3333333333333333\n",
      "F1 score by lstm  :  0.2050337630448128\n"
     ]
    }
   ],
   "source": [
    "ysrcp_lstm_acc = accuracy_score(ysrcp_y_test, ysrcp_lstm_pred)\n",
    "ysrcp_lstm_pr  = precision_score(ysrcp_y_test, ysrcp_lstm_pred,average='macro',zero_division=0.0)\n",
    "ysrcp_lstm_rec = recall_score(ysrcp_y_test, ysrcp_lstm_pred,average='macro',zero_division=0.0)\n",
    "ysrcp_lstm_f1  = f1_score(ysrcp_y_test, ysrcp_lstm_pred,average='macro',zero_division=0.0)\n",
    "print('Accuracy by lstm  : ', ysrcp_lstm_acc)\n",
    "print('Precision by lstm : ', ysrcp_lstm_pr)\n",
    "print('Recall by lstm    : ', ysrcp_lstm_rec)\n",
    "print('F1 score by lstm  : ', ysrcp_lstm_f1)"
   ]
  },
  {
   "cell_type": "markdown",
   "id": "80332f2a",
   "metadata": {},
   "source": [
    "### TDP"
   ]
  },
  {
   "cell_type": "markdown",
   "id": "cfdbe258",
   "metadata": {},
   "source": [
    "1. `Multinomial Naive Bayes`"
   ]
  },
  {
   "cell_type": "code",
   "execution_count": 114,
   "id": "aa1bd93c",
   "metadata": {},
   "outputs": [
    {
     "data": {
      "text/plain": [
       "MultinomialNB()"
      ]
     },
     "execution_count": 114,
     "metadata": {},
     "output_type": "execute_result"
    }
   ],
   "source": [
    "tdp_mnb = MultinomialNB()\n",
    "tdp_mnb.fit(tdp_x_train,tdp_y_train)"
   ]
  },
  {
   "cell_type": "code",
   "execution_count": 115,
   "id": "543a212e",
   "metadata": {},
   "outputs": [
    {
     "data": {
      "text/plain": [
       "array([0., 1., 1., ..., 1., 0., 1.])"
      ]
     },
     "execution_count": 115,
     "metadata": {},
     "output_type": "execute_result"
    }
   ],
   "source": [
    "tdp_mnb_pred = tdp_mnb.predict(tdp_x_test)\n",
    "tdp_mnb_pred"
   ]
  },
  {
   "cell_type": "code",
   "execution_count": 116,
   "id": "162d8482",
   "metadata": {},
   "outputs": [
    {
     "name": "stdout",
     "output_type": "stream",
     "text": [
      "Training score :  0.8314669652855543\n",
      "Testing score  :  0.6666666666666666\n"
     ]
    }
   ],
   "source": [
    "print('Training score : ',tdp_mnb.score(tdp_x_train,tdp_y_train))\n",
    "print('Testing score  : ',tdp_mnb.score(tdp_x_test,tdp_y_test))"
   ]
  },
  {
   "cell_type": "code",
   "execution_count": 117,
   "id": "e91163ac",
   "metadata": {},
   "outputs": [
    {
     "name": "stdout",
     "output_type": "stream",
     "text": [
      "Accuracy by mnb  :  0.6666666666666666\n",
      "Precision by mnb :  0.46048987150911236\n",
      "Recall by mnb    :  0.43590846738994893\n",
      "F1 score by mnb  :  0.4240935857381631\n"
     ]
    }
   ],
   "source": [
    "tdp_mnb_acc = accuracy_score(tdp_y_test,tdp_mnb_pred)\n",
    "tdp_mnb_pr  = precision_score(tdp_y_test,tdp_mnb_pred,average='macro',zero_division=0.0)\n",
    "tdp_mnb_rec = recall_score(tdp_y_test,tdp_mnb_pred,average='macro',zero_division=0.0)\n",
    "tdp_mnb_f1  = f1_score(tdp_y_test,tdp_mnb_pred,average='macro',zero_division=0.0)\n",
    "print('Accuracy by mnb  : ', tdp_mnb_acc)\n",
    "print('Precision by mnb : ', tdp_mnb_pr)\n",
    "print('Recall by mnb    : ', tdp_mnb_rec)\n",
    "print('F1 score by mnb  : ', tdp_mnb_f1)"
   ]
  },
  {
   "cell_type": "code",
   "execution_count": 118,
   "id": "dbe0c468",
   "metadata": {},
   "outputs": [
    {
     "name": "stdout",
     "output_type": "stream",
     "text": [
      "[[193 293   0]\n",
      " [ 59 601   0]\n",
      " [ 11  34   0]]\n",
      "              precision    recall  f1-score   support\n",
      "\n",
      "         0.0       0.73      0.40      0.52       486\n",
      "         1.0       0.65      0.91      0.76       660\n",
      "         2.0       0.00      0.00      0.00        45\n",
      "\n",
      "    accuracy                           0.67      1191\n",
      "   macro avg       0.46      0.44      0.42      1191\n",
      "weighted avg       0.66      0.67      0.63      1191\n",
      "\n"
     ]
    },
    {
     "name": "stderr",
     "output_type": "stream",
     "text": [
      "C:\\Users\\posah\\anacondap\\lib\\site-packages\\sklearn\\metrics\\_classification.py:1318: UndefinedMetricWarning: Precision and F-score are ill-defined and being set to 0.0 in labels with no predicted samples. Use `zero_division` parameter to control this behavior.\n",
      "  _warn_prf(average, modifier, msg_start, len(result))\n",
      "C:\\Users\\posah\\anacondap\\lib\\site-packages\\sklearn\\metrics\\_classification.py:1318: UndefinedMetricWarning: Precision and F-score are ill-defined and being set to 0.0 in labels with no predicted samples. Use `zero_division` parameter to control this behavior.\n",
      "  _warn_prf(average, modifier, msg_start, len(result))\n",
      "C:\\Users\\posah\\anacondap\\lib\\site-packages\\sklearn\\metrics\\_classification.py:1318: UndefinedMetricWarning: Precision and F-score are ill-defined and being set to 0.0 in labels with no predicted samples. Use `zero_division` parameter to control this behavior.\n",
      "  _warn_prf(average, modifier, msg_start, len(result))\n"
     ]
    }
   ],
   "source": [
    "print(confusion_matrix(tdp_y_test,tdp_mnb_pred))\n",
    "print(classification_report(tdp_y_test,tdp_mnb_pred))"
   ]
  },
  {
   "cell_type": "markdown",
   "id": "fb6add4b",
   "metadata": {},
   "source": [
    "2. `Gaussian Navies Bayes`"
   ]
  },
  {
   "cell_type": "code",
   "execution_count": 119,
   "id": "42a76710",
   "metadata": {},
   "outputs": [
    {
     "data": {
      "text/plain": [
       "GaussianNB()"
      ]
     },
     "execution_count": 119,
     "metadata": {},
     "output_type": "execute_result"
    }
   ],
   "source": [
    "tdp_gnb = GaussianNB()\n",
    "tdp_gnb.fit(tdp_x_train,tdp_y_train)"
   ]
  },
  {
   "cell_type": "code",
   "execution_count": 120,
   "id": "36d87f47",
   "metadata": {},
   "outputs": [
    {
     "data": {
      "text/plain": [
       "array([0., 0., 1., ..., 1., 0., 1.])"
      ]
     },
     "execution_count": 120,
     "metadata": {},
     "output_type": "execute_result"
    }
   ],
   "source": [
    "tdp_gnb_pred = tdp_gnb.predict(tdp_x_test)\n",
    "tdp_gnb_pred"
   ]
  },
  {
   "cell_type": "code",
   "execution_count": 121,
   "id": "91db2574",
   "metadata": {},
   "outputs": [
    {
     "name": "stdout",
     "output_type": "stream",
     "text": [
      "Training Score :  0.8138297872340425\n",
      "Testing Score  :  0.4819479429051218\n"
     ]
    }
   ],
   "source": [
    "print(\"Training Score : \",tdp_gnb.score(tdp_x_train,tdp_y_train))\n",
    "print(\"Testing Score  : \",tdp_gnb.score(tdp_x_test,tdp_y_test))"
   ]
  },
  {
   "cell_type": "code",
   "execution_count": 122,
   "id": "a55da4ff",
   "metadata": {},
   "outputs": [
    {
     "name": "stdout",
     "output_type": "stream",
     "text": [
      "Accuracy by gnb  :  0.4819479429051218\n",
      "Precision by gnb :  0.4212751342536996\n",
      "Recall by gnb    :  0.4001808205511909\n",
      "F1 score by gnb  :  0.37829501461392173\n"
     ]
    }
   ],
   "source": [
    "tdp_gnb_acc = accuracy_score(tdp_y_test,tdp_gnb_pred)\n",
    "tdp_gnb_pr  = precision_score(tdp_y_test,tdp_gnb_pred,average='macro')\n",
    "tdp_gnb_rec = recall_score(tdp_y_test,tdp_gnb_pred,average='macro')\n",
    "tdp_gnb_f1  = f1_score(tdp_y_test,tdp_gnb_pred,average='macro')\n",
    "print('Accuracy by gnb  : ', tdp_gnb_acc)\n",
    "print('Precision by gnb : ', tdp_gnb_pr)\n",
    "print('Recall by gnb    : ', tdp_gnb_rec)\n",
    "print('F1 score by gnb  : ', tdp_gnb_f1)"
   ]
  },
  {
   "cell_type": "code",
   "execution_count": 123,
   "id": "240a42f5",
   "metadata": {},
   "outputs": [
    {
     "name": "stdout",
     "output_type": "stream",
     "text": [
      "[[190 206  90]\n",
      " [112 373 175]\n",
      " [ 14  20  11]]\n",
      "              precision    recall  f1-score   support\n",
      "\n",
      "         0.0       0.60      0.39      0.47       486\n",
      "         1.0       0.62      0.57      0.59       660\n",
      "         2.0       0.04      0.24      0.07        45\n",
      "\n",
      "    accuracy                           0.48      1191\n",
      "   macro avg       0.42      0.40      0.38      1191\n",
      "weighted avg       0.59      0.48      0.52      1191\n",
      "\n"
     ]
    }
   ],
   "source": [
    "print(confusion_matrix(tdp_y_test,tdp_gnb_pred))\n",
    "print(classification_report(tdp_y_test,tdp_gnb_pred))"
   ]
  },
  {
   "cell_type": "markdown",
   "id": "8a8736ea",
   "metadata": {},
   "source": [
    "3. `Logistic Regression`"
   ]
  },
  {
   "cell_type": "code",
   "execution_count": 124,
   "id": "71cee81b",
   "metadata": {},
   "outputs": [
    {
     "data": {
      "text/plain": [
       "LogisticRegression()"
      ]
     },
     "execution_count": 124,
     "metadata": {},
     "output_type": "execute_result"
    }
   ],
   "source": [
    "tdp_lr = LogisticRegression()\n",
    "tdp_lr.fit(tdp_x_train,tdp_y_train)"
   ]
  },
  {
   "cell_type": "code",
   "execution_count": 125,
   "id": "652accc4",
   "metadata": {},
   "outputs": [
    {
     "data": {
      "text/plain": [
       "array([0., 0., 1., ..., 1., 0., 1.])"
      ]
     },
     "execution_count": 125,
     "metadata": {},
     "output_type": "execute_result"
    }
   ],
   "source": [
    "tdp_lr_pred = tdp_lr.predict(tdp_x_test)\n",
    "tdp_lr_pred"
   ]
  },
  {
   "cell_type": "code",
   "execution_count": 126,
   "id": "c5cb1919",
   "metadata": {},
   "outputs": [
    {
     "name": "stdout",
     "output_type": "stream",
     "text": [
      "Training Score :  0.879619260918253\n",
      "Testing Score  :  0.6859781696053736\n"
     ]
    }
   ],
   "source": [
    "print(\"Training Score : \",tdp_lr.score(tdp_x_train,tdp_y_train))\n",
    "print(\"Testing Score  : \",tdp_lr.score(tdp_x_test,tdp_y_test))"
   ]
  },
  {
   "cell_type": "code",
   "execution_count": 127,
   "id": "b151962c",
   "metadata": {},
   "outputs": [
    {
     "name": "stdout",
     "output_type": "stream",
     "text": [
      "Accuracy by lr  :  0.6859781696053736\n",
      "Precision by lr :  0.4543114543114543\n",
      "Recall by lr    :  0.462532734754957\n",
      "F1 score by lr  :  0.4554302945952215\n"
     ]
    }
   ],
   "source": [
    "tdp_lr_acc = accuracy_score(tdp_y_test,tdp_lr_pred)\n",
    "tdp_lr_pr  = precision_score(tdp_y_test,tdp_lr_pred,average='macro',zero_division=0.0)\n",
    "tdp_lr_rec = recall_score(tdp_y_test,tdp_lr_pred,average='macro',zero_division=0.0)\n",
    "tdp_lr_f1  = f1_score(tdp_y_test,tdp_lr_pred,average='macro',zero_division=0.0)\n",
    "print('Accuracy by lr  : ', tdp_lr_acc)\n",
    "print('Precision by lr : ', tdp_lr_pr)\n",
    "print('Recall by lr    : ', tdp_lr_rec)\n",
    "print('F1 score by lr  : ', tdp_lr_f1)"
   ]
  },
  {
   "cell_type": "code",
   "execution_count": 128,
   "id": "7ff85cb2",
   "metadata": {},
   "outputs": [
    {
     "name": "stdout",
     "output_type": "stream",
     "text": [
      "[[276 210   0]\n",
      " [119 541   0]\n",
      " [ 19  26   0]]\n",
      "              precision    recall  f1-score   support\n",
      "\n",
      "         0.0       0.67      0.57      0.61       486\n",
      "         1.0       0.70      0.82      0.75       660\n",
      "         2.0       0.00      0.00      0.00        45\n",
      "\n",
      "    accuracy                           0.69      1191\n",
      "   macro avg       0.45      0.46      0.46      1191\n",
      "weighted avg       0.66      0.69      0.67      1191\n",
      "\n"
     ]
    },
    {
     "name": "stderr",
     "output_type": "stream",
     "text": [
      "C:\\Users\\posah\\anacondap\\lib\\site-packages\\sklearn\\metrics\\_classification.py:1318: UndefinedMetricWarning: Precision and F-score are ill-defined and being set to 0.0 in labels with no predicted samples. Use `zero_division` parameter to control this behavior.\n",
      "  _warn_prf(average, modifier, msg_start, len(result))\n",
      "C:\\Users\\posah\\anacondap\\lib\\site-packages\\sklearn\\metrics\\_classification.py:1318: UndefinedMetricWarning: Precision and F-score are ill-defined and being set to 0.0 in labels with no predicted samples. Use `zero_division` parameter to control this behavior.\n",
      "  _warn_prf(average, modifier, msg_start, len(result))\n",
      "C:\\Users\\posah\\anacondap\\lib\\site-packages\\sklearn\\metrics\\_classification.py:1318: UndefinedMetricWarning: Precision and F-score are ill-defined and being set to 0.0 in labels with no predicted samples. Use `zero_division` parameter to control this behavior.\n",
      "  _warn_prf(average, modifier, msg_start, len(result))\n"
     ]
    }
   ],
   "source": [
    "print(confusion_matrix(tdp_y_test,tdp_lr_pred))\n",
    "print(classification_report(tdp_y_test,tdp_lr_pred))"
   ]
  },
  {
   "cell_type": "markdown",
   "id": "9ac014db",
   "metadata": {},
   "source": [
    "4. `Linear Discriminant Analysis`"
   ]
  },
  {
   "cell_type": "code",
   "execution_count": 129,
   "id": "bf6b8b7c",
   "metadata": {},
   "outputs": [
    {
     "data": {
      "text/plain": [
       "LinearDiscriminantAnalysis()"
      ]
     },
     "execution_count": 129,
     "metadata": {},
     "output_type": "execute_result"
    }
   ],
   "source": [
    "tdp_lda = LinearDiscriminantAnalysis()\n",
    "tdp_lda.fit(tdp_x_train,tdp_y_train)"
   ]
  },
  {
   "cell_type": "code",
   "execution_count": 130,
   "id": "7905c1be",
   "metadata": {},
   "outputs": [
    {
     "data": {
      "text/plain": [
       "array([0., 2., 1., ..., 1., 0., 1.])"
      ]
     },
     "execution_count": 130,
     "metadata": {},
     "output_type": "execute_result"
    }
   ],
   "source": [
    "tdp_lda_pred = tdp_lda.predict(tdp_x_test)\n",
    "tdp_lda_pred"
   ]
  },
  {
   "cell_type": "code",
   "execution_count": 131,
   "id": "7374eb69",
   "metadata": {},
   "outputs": [
    {
     "name": "stdout",
     "output_type": "stream",
     "text": [
      "Training Score :  0.9773236282194849\n",
      "Testing Score  :  0.6087321578505458\n"
     ]
    }
   ],
   "source": [
    "print(\"Training Score : \",tdp_lda.score(tdp_x_train,tdp_y_train))\n",
    "print(\"Testing Score  : \",tdp_lda.score(tdp_x_test,tdp_y_test))"
   ]
  },
  {
   "cell_type": "code",
   "execution_count": 132,
   "id": "41002731",
   "metadata": {},
   "outputs": [
    {
     "name": "stdout",
     "output_type": "stream",
     "text": [
      "Accuracy by lda  :  0.6087321578505458\n",
      "Precision by lda :  0.43959145056366333\n",
      "Recall by lda    :  0.4371679760568649\n",
      "F1 score by lda  :  0.4359671891118431\n"
     ]
    }
   ],
   "source": [
    "tdp_lda_acc = accuracy_score(tdp_y_test,tdp_lda_pred)\n",
    "tdp_lda_pr  = precision_score(tdp_y_test,tdp_lda_pred,average='macro')\n",
    "tdp_lda_rec = recall_score(tdp_y_test,tdp_lda_pred,average='macro')\n",
    "tdp_lda_f1  = f1_score(tdp_y_test,tdp_lda_pred,average='macro')\n",
    "print('Accuracy by lda  : ', tdp_lda_acc)\n",
    "print('Precision by lda : ', tdp_lda_pr)\n",
    "print('Recall by lda    : ', tdp_lda_rec)\n",
    "print('F1 score by lda  : ', tdp_lda_f1)"
   ]
  },
  {
   "cell_type": "code",
   "execution_count": 133,
   "id": "d98e9f08",
   "metadata": {},
   "outputs": [
    {
     "name": "stdout",
     "output_type": "stream",
     "text": [
      "[[240 213  33]\n",
      " [153 481  26]\n",
      " [ 17  24   4]]\n",
      "              precision    recall  f1-score   support\n",
      "\n",
      "         0.0       0.59      0.49      0.54       486\n",
      "         1.0       0.67      0.73      0.70       660\n",
      "         2.0       0.06      0.09      0.07        45\n",
      "\n",
      "    accuracy                           0.61      1191\n",
      "   macro avg       0.44      0.44      0.44      1191\n",
      "weighted avg       0.61      0.61      0.61      1191\n",
      "\n"
     ]
    }
   ],
   "source": [
    "print(confusion_matrix(tdp_y_test,tdp_lda_pred))\n",
    "print(classification_report(tdp_y_test,tdp_lda_pred))"
   ]
  },
  {
   "cell_type": "markdown",
   "id": "0f2fa513",
   "metadata": {},
   "source": [
    "5. `Decision Tree`"
   ]
  },
  {
   "cell_type": "code",
   "execution_count": 134,
   "id": "af26feff",
   "metadata": {},
   "outputs": [
    {
     "data": {
      "text/plain": [
       "DecisionTreeClassifier()"
      ]
     },
     "execution_count": 134,
     "metadata": {},
     "output_type": "execute_result"
    }
   ],
   "source": [
    "tdp_dt = DecisionTreeClassifier()\n",
    "tdp_dt.fit(tdp_x_train,tdp_y_train)"
   ]
  },
  {
   "cell_type": "code",
   "execution_count": 135,
   "id": "c01d26fa",
   "metadata": {},
   "outputs": [
    {
     "data": {
      "text/plain": [
       "array([1., 0., 1., ..., 1., 0., 0.])"
      ]
     },
     "execution_count": 135,
     "metadata": {},
     "output_type": "execute_result"
    }
   ],
   "source": [
    "tdp_dt_pred = tdp_dt.predict(tdp_x_test)\n",
    "tdp_dt_pred"
   ]
  },
  {
   "cell_type": "code",
   "execution_count": 136,
   "id": "a1bafc61",
   "metadata": {},
   "outputs": [
    {
     "name": "stdout",
     "output_type": "stream",
     "text": [
      "Training Score :  0.9958006718924972\n",
      "Testing Score  :  0.6481947942905122\n"
     ]
    }
   ],
   "source": [
    "print(\"Training Score : \",tdp_dt.score(tdp_x_train,tdp_y_train))\n",
    "print(\"Testing Score  : \",tdp_dt.score(tdp_x_test,tdp_y_test))"
   ]
  },
  {
   "cell_type": "code",
   "execution_count": 137,
   "id": "8cc8a29b",
   "metadata": {},
   "outputs": [
    {
     "name": "stdout",
     "output_type": "stream",
     "text": [
      "Accuracy by dt  :  0.6481947942905122\n",
      "Precision by dt :  0.4857462878461008\n",
      "Recall by dt    :  0.47088165606684124\n",
      "F1 score by dt  :  0.47510525754682803\n"
     ]
    }
   ],
   "source": [
    "tdp_dt_acc = accuracy_score(tdp_y_test,tdp_dt_pred)\n",
    "tdp_dt_pr  = precision_score(tdp_y_test,tdp_dt_pred,average='macro')\n",
    "tdp_dt_rec = recall_score(tdp_y_test,tdp_dt_pred,average='macro')\n",
    "tdp_dt_f1  = f1_score(tdp_y_test,tdp_dt_pred,average='macro')\n",
    "print('Accuracy by dt  : ', tdp_dt_acc)\n",
    "print('Precision by dt : ', tdp_dt_pr)\n",
    "print('Recall by dt    : ', tdp_dt_rec)\n",
    "print('F1 score by dt  : ', tdp_dt_f1)"
   ]
  },
  {
   "cell_type": "code",
   "execution_count": 138,
   "id": "fffab2a2",
   "metadata": {},
   "outputs": [
    {
     "name": "stdout",
     "output_type": "stream",
     "text": [
      "[[257 209  20]\n",
      " [141 510   9]\n",
      " [ 11  29   5]]\n",
      "              precision    recall  f1-score   support\n",
      "\n",
      "         0.0       0.63      0.53      0.57       486\n",
      "         1.0       0.68      0.77      0.72       660\n",
      "         2.0       0.15      0.11      0.13        45\n",
      "\n",
      "    accuracy                           0.65      1191\n",
      "   macro avg       0.49      0.47      0.48      1191\n",
      "weighted avg       0.64      0.65      0.64      1191\n",
      "\n"
     ]
    }
   ],
   "source": [
    "print(confusion_matrix(tdp_y_test,tdp_dt_pred))\n",
    "print(classification_report(tdp_y_test,tdp_dt_pred))"
   ]
  },
  {
   "cell_type": "markdown",
   "id": "92c7e3b8",
   "metadata": {},
   "source": [
    "6. `Random Forest`"
   ]
  },
  {
   "cell_type": "code",
   "execution_count": 139,
   "id": "7524ab82",
   "metadata": {},
   "outputs": [
    {
     "data": {
      "text/plain": [
       "RandomForestClassifier(random_state=42)"
      ]
     },
     "execution_count": 139,
     "metadata": {},
     "output_type": "execute_result"
    }
   ],
   "source": [
    "tdp_rf = RandomForestClassifier(n_estimators=100, random_state=42)\n",
    "tdp_rf.fit(tdp_x_train,tdp_y_train)"
   ]
  },
  {
   "cell_type": "code",
   "execution_count": 140,
   "id": "6d8eee37",
   "metadata": {},
   "outputs": [
    {
     "data": {
      "text/plain": [
       "array([0., 0., 1., ..., 1., 0., 1.])"
      ]
     },
     "execution_count": 140,
     "metadata": {},
     "output_type": "execute_result"
    }
   ],
   "source": [
    "tdp_rf_pred = tdp_rf.predict(tdp_x_test)\n",
    "tdp_rf_pred"
   ]
  },
  {
   "cell_type": "code",
   "execution_count": 141,
   "id": "71109fab",
   "metadata": {},
   "outputs": [
    {
     "name": "stdout",
     "output_type": "stream",
     "text": [
      "Training Score :  0.9958006718924972\n",
      "Testing Score  :  0.691855583543241\n"
     ]
    }
   ],
   "source": [
    "print(\"Training Score : \",tdp_rf.score(tdp_x_train,tdp_y_train))\n",
    "print(\"Testing Score  : \",tdp_rf.score(tdp_x_test,tdp_y_test))"
   ]
  },
  {
   "cell_type": "code",
   "execution_count": 142,
   "id": "0bceef7e",
   "metadata": {},
   "outputs": [
    {
     "name": "stdout",
     "output_type": "stream",
     "text": [
      "Accuracy by rf  :  0.691855583543241\n",
      "Precision by rf :  0.6710065434949962\n",
      "Recall by rf    :  0.4795423369497444\n",
      "F1 score by rf  :  0.49077276477098913\n"
     ]
    }
   ],
   "source": [
    "tdp_rf_acc = accuracy_score(tdp_y_test,tdp_rf_pred)\n",
    "tdp_rf_pr  = precision_score(tdp_y_test,tdp_rf_pred,average='macro',zero_division=0.0)\n",
    "tdp_rf_rec = recall_score(tdp_y_test,tdp_rf_pred,average='macro',zero_division=0.0)\n",
    "tdp_rf_f1  = f1_score(tdp_y_test,tdp_rf_pred,average='macro',zero_division=0.0)\n",
    "print('Accuracy by rf  : ', tdp_rf_acc)\n",
    "print('Precision by rf : ', tdp_rf_pr)\n",
    "print('Recall by rf    : ', tdp_rf_rec)\n",
    "print('F1 score by rf  : ', tdp_rf_f1)"
   ]
  },
  {
   "cell_type": "code",
   "execution_count": 143,
   "id": "f34f74c2",
   "metadata": {},
   "outputs": [
    {
     "name": "stdout",
     "output_type": "stream",
     "text": [
      "[[236 249   1]\n",
      " [ 74 585   1]\n",
      " [ 10  32   3]]\n",
      "              precision    recall  f1-score   support\n",
      "\n",
      "         0.0       0.74      0.49      0.59       486\n",
      "         1.0       0.68      0.89      0.77       660\n",
      "         2.0       0.60      0.07      0.12        45\n",
      "\n",
      "    accuracy                           0.69      1191\n",
      "   macro avg       0.67      0.48      0.49      1191\n",
      "weighted avg       0.70      0.69      0.67      1191\n",
      "\n"
     ]
    }
   ],
   "source": [
    "print(confusion_matrix(tdp_y_test,tdp_rf_pred))\n",
    "print(classification_report(tdp_y_test,tdp_rf_pred))"
   ]
  },
  {
   "cell_type": "markdown",
   "id": "61306316",
   "metadata": {},
   "source": [
    "7. `Support Vector machine`"
   ]
  },
  {
   "cell_type": "code",
   "execution_count": 144,
   "id": "e38814f1",
   "metadata": {},
   "outputs": [
    {
     "data": {
      "text/plain": [
       "SVC(kernel='linear', random_state=42)"
      ]
     },
     "execution_count": 144,
     "metadata": {},
     "output_type": "execute_result"
    }
   ],
   "source": [
    "tdp_svm = SVC(kernel='linear', C=1.0, random_state=42)\n",
    "tdp_svm.fit(tdp_x_train,tdp_y_train)"
   ]
  },
  {
   "cell_type": "code",
   "execution_count": 145,
   "id": "eb49c703",
   "metadata": {},
   "outputs": [
    {
     "data": {
      "text/plain": [
       "array([0., 0., 1., ..., 1., 0., 1.])"
      ]
     },
     "execution_count": 145,
     "metadata": {},
     "output_type": "execute_result"
    }
   ],
   "source": [
    "tdp_svm_pred = tdp_svm.predict(tdp_x_test)\n",
    "tdp_svm_pred"
   ]
  },
  {
   "cell_type": "code",
   "execution_count": 146,
   "id": "79ca2af8",
   "metadata": {},
   "outputs": [
    {
     "name": "stdout",
     "output_type": "stream",
     "text": [
      "Training Score :  0.8902575587905935\n",
      "Testing Score  :  0.6868178001679262\n"
     ]
    }
   ],
   "source": [
    "print(\"Training Score : \",tdp_svm.score(tdp_x_train,tdp_y_train))\n",
    "print(\"Testing Score  : \",tdp_svm.score(tdp_x_test,tdp_y_test))"
   ]
  },
  {
   "cell_type": "code",
   "execution_count": 147,
   "id": "777c81e9",
   "metadata": {},
   "outputs": [
    {
     "name": "stdout",
     "output_type": "stream",
     "text": [
      "Accuracy by svm  :  0.6868178001679262\n",
      "Precision by svm :  0.4553583099398097\n",
      "Recall by svm    :  0.46321860581119845\n",
      "F1 score by svm  :  0.45622473432851524\n"
     ]
    }
   ],
   "source": [
    "tdp_svm_acc = accuracy_score(tdp_y_test,tdp_svm_pred)\n",
    "tdp_svm_pr  = precision_score(tdp_y_test,tdp_svm_pred,average='macro',zero_division=0.0)\n",
    "tdp_svm_rec = recall_score(tdp_y_test,tdp_svm_pred,average='macro',zero_division=0.0)\n",
    "tdp_svm_f1  = f1_score(tdp_y_test,tdp_svm_pred,average='macro',zero_division=0.0)\n",
    "print('Accuracy by svm  : ', tdp_svm_acc)\n",
    "print('Precision by svm : ', tdp_svm_pr)\n",
    "print('Recall by svm    : ', tdp_svm_rec)\n",
    "print('F1 score by svm  : ', tdp_svm_f1)"
   ]
  },
  {
   "cell_type": "code",
   "execution_count": 148,
   "id": "6d5af51e",
   "metadata": {},
   "outputs": [
    {
     "name": "stdout",
     "output_type": "stream",
     "text": [
      "[[277 209   0]\n",
      " [119 541   0]\n",
      " [ 17  28   0]]\n",
      "              precision    recall  f1-score   support\n",
      "\n",
      "         0.0       0.67      0.57      0.62       486\n",
      "         1.0       0.70      0.82      0.75       660\n",
      "         2.0       0.00      0.00      0.00        45\n",
      "\n",
      "    accuracy                           0.69      1191\n",
      "   macro avg       0.46      0.46      0.46      1191\n",
      "weighted avg       0.66      0.69      0.67      1191\n",
      "\n"
     ]
    },
    {
     "name": "stderr",
     "output_type": "stream",
     "text": [
      "C:\\Users\\posah\\anacondap\\lib\\site-packages\\sklearn\\metrics\\_classification.py:1318: UndefinedMetricWarning: Precision and F-score are ill-defined and being set to 0.0 in labels with no predicted samples. Use `zero_division` parameter to control this behavior.\n",
      "  _warn_prf(average, modifier, msg_start, len(result))\n",
      "C:\\Users\\posah\\anacondap\\lib\\site-packages\\sklearn\\metrics\\_classification.py:1318: UndefinedMetricWarning: Precision and F-score are ill-defined and being set to 0.0 in labels with no predicted samples. Use `zero_division` parameter to control this behavior.\n",
      "  _warn_prf(average, modifier, msg_start, len(result))\n",
      "C:\\Users\\posah\\anacondap\\lib\\site-packages\\sklearn\\metrics\\_classification.py:1318: UndefinedMetricWarning: Precision and F-score are ill-defined and being set to 0.0 in labels with no predicted samples. Use `zero_division` parameter to control this behavior.\n",
      "  _warn_prf(average, modifier, msg_start, len(result))\n"
     ]
    }
   ],
   "source": [
    "print(confusion_matrix(tdp_y_test,tdp_svm_pred))\n",
    "print(classification_report(tdp_y_test,tdp_svm_pred))"
   ]
  },
  {
   "cell_type": "markdown",
   "id": "0b99da1d",
   "metadata": {},
   "source": [
    "8. `KNN`"
   ]
  },
  {
   "cell_type": "code",
   "execution_count": 149,
   "id": "9b337d4c",
   "metadata": {},
   "outputs": [
    {
     "data": {
      "text/plain": [
       "KNeighborsClassifier()"
      ]
     },
     "execution_count": 149,
     "metadata": {},
     "output_type": "execute_result"
    }
   ],
   "source": [
    "tdp_knn = KNeighborsClassifier(n_neighbors=5)\n",
    "tdp_knn.fit(tdp_x_train,tdp_y_train)"
   ]
  },
  {
   "cell_type": "code",
   "execution_count": 150,
   "id": "17a7c980",
   "metadata": {},
   "outputs": [
    {
     "data": {
      "text/plain": [
       "array([1., 1., 1., ..., 1., 1., 1.])"
      ]
     },
     "execution_count": 150,
     "metadata": {},
     "output_type": "execute_result"
    }
   ],
   "source": [
    "tdp_knn_pred = tdp_knn.predict(tdp_x_test)\n",
    "tdp_knn_pred"
   ]
  },
  {
   "cell_type": "code",
   "execution_count": 151,
   "id": "b424abd8",
   "metadata": {},
   "outputs": [
    {
     "name": "stdout",
     "output_type": "stream",
     "text": [
      "Training Score :  0.6013437849944009\n",
      "Testing Score  :  0.581024349286314\n"
     ]
    }
   ],
   "source": [
    "print(\"Training Score : \",tdp_knn.score(tdp_x_train,tdp_y_train))\n",
    "print(\"Testing Score  : \",tdp_knn.score(tdp_x_test,tdp_y_test))"
   ]
  },
  {
   "cell_type": "code",
   "execution_count": 152,
   "id": "36f9b357",
   "metadata": {},
   "outputs": [
    {
     "name": "stdout",
     "output_type": "stream",
     "text": [
      "Accuracy by knn  :  0.581024349286314\n",
      "Precision by knn :  0.4447555449082669\n",
      "Recall by knn    :  0.357631874298541\n",
      "F1 score by knn  :  0.29574527632153774\n"
     ]
    }
   ],
   "source": [
    "tdp_knn_acc = accuracy_score(tdp_y_test,tdp_knn_pred)\n",
    "tdp_knn_pr  = precision_score(tdp_y_test,tdp_knn_pred,average='macro',zero_division=0.0)\n",
    "tdp_knn_rec = recall_score(tdp_y_test,tdp_knn_pred,average='macro',zero_division=0.0)\n",
    "tdp_knn_f1  = f1_score(tdp_y_test,tdp_knn_pred,average='macro',zero_division=0.0)\n",
    "print('Accuracy by knn  : ', tdp_knn_acc)\n",
    "print('Precision by knn : ', tdp_knn_pr)\n",
    "print('Recall by knn    : ', tdp_knn_rec)\n",
    "print('F1 score by knn  : ', tdp_knn_f1)"
   ]
  },
  {
   "cell_type": "code",
   "execution_count": 153,
   "id": "db682731",
   "metadata": {},
   "outputs": [
    {
     "name": "stdout",
     "output_type": "stream",
     "text": [
      "[[ 45 441   0]\n",
      " [ 13 647   0]\n",
      " [  1  44   0]]\n",
      "              precision    recall  f1-score   support\n",
      "\n",
      "         0.0       0.76      0.09      0.17       486\n",
      "         1.0       0.57      0.98      0.72       660\n",
      "         2.0       0.00      0.00      0.00        45\n",
      "\n",
      "    accuracy                           0.58      1191\n",
      "   macro avg       0.44      0.36      0.30      1191\n",
      "weighted avg       0.63      0.58      0.47      1191\n",
      "\n"
     ]
    },
    {
     "name": "stderr",
     "output_type": "stream",
     "text": [
      "C:\\Users\\posah\\anacondap\\lib\\site-packages\\sklearn\\metrics\\_classification.py:1318: UndefinedMetricWarning: Precision and F-score are ill-defined and being set to 0.0 in labels with no predicted samples. Use `zero_division` parameter to control this behavior.\n",
      "  _warn_prf(average, modifier, msg_start, len(result))\n",
      "C:\\Users\\posah\\anacondap\\lib\\site-packages\\sklearn\\metrics\\_classification.py:1318: UndefinedMetricWarning: Precision and F-score are ill-defined and being set to 0.0 in labels with no predicted samples. Use `zero_division` parameter to control this behavior.\n",
      "  _warn_prf(average, modifier, msg_start, len(result))\n",
      "C:\\Users\\posah\\anacondap\\lib\\site-packages\\sklearn\\metrics\\_classification.py:1318: UndefinedMetricWarning: Precision and F-score are ill-defined and being set to 0.0 in labels with no predicted samples. Use `zero_division` parameter to control this behavior.\n",
      "  _warn_prf(average, modifier, msg_start, len(result))\n"
     ]
    }
   ],
   "source": [
    "print(confusion_matrix(tdp_y_test,tdp_knn_pred))\n",
    "print(classification_report(tdp_y_test,tdp_knn_pred))"
   ]
  },
  {
   "cell_type": "markdown",
   "id": "09926f37",
   "metadata": {},
   "source": [
    "9.  `LSTM`"
   ]
  },
  {
   "cell_type": "code",
   "execution_count": 154,
   "id": "3fb73bbf",
   "metadata": {},
   "outputs": [],
   "source": [
    "tdp_x_trf = [str(i) for i in tdp_x_train]\n",
    "tdp_x_tef = [str(i) for i in tdp_x_test]\n",
    "\n",
    "tokenizer = Tokenizer(num_words = tdp_n_words)\n",
    "tokenizer.fit_on_texts(tdp_x_trf)\n",
    "\n",
    "def Tokenization_padSequences(x, maxlen = tdp_max_len):\n",
    "    xseq = tokenizer.texts_to_sequences(x)\n",
    "    xpad = pad_sequences(xseq, padding='post', maxlen = tdp_max_len)\n",
    "    return xpad\n",
    "\n",
    "\n",
    "tdp_xtrain_pad = Tokenization_padSequences(tdp_x_trf,maxlen=tdp_max_len)\n",
    "tdp_xtest_pad = Tokenization_padSequences(tdp_x_tef,maxlen=tdp_max_len)"
   ]
  },
  {
   "cell_type": "code",
   "execution_count": 155,
   "id": "63e79e2a",
   "metadata": {},
   "outputs": [
    {
     "data": {
      "text/plain": [
       "array([[1, 1, 1, ..., 0, 0, 0],\n",
       "       [1, 1, 1, ..., 0, 0, 0],\n",
       "       [1, 1, 1, ..., 0, 0, 0],\n",
       "       ...,\n",
       "       [1, 1, 1, ..., 0, 0, 0],\n",
       "       [1, 1, 1, ..., 0, 0, 0],\n",
       "       [1, 1, 1, ..., 0, 0, 0]])"
      ]
     },
     "execution_count": 155,
     "metadata": {},
     "output_type": "execute_result"
    }
   ],
   "source": [
    "tdp_xtrain_pad"
   ]
  },
  {
   "cell_type": "code",
   "execution_count": 156,
   "id": "5a76178e",
   "metadata": {},
   "outputs": [
    {
     "name": "stdout",
     "output_type": "stream",
     "text": [
      "Model: \"sequential_1\"\n",
      "_________________________________________________________________\n",
      " Layer (type)                Output Shape              Param #   \n",
      "=================================================================\n",
      " embedding_1 (Embedding)     (None, 153, 64)           565632    \n",
      "                                                                 \n",
      " spatial_dropout1d_1 (Spati  (None, 153, 64)           0         \n",
      " alDropout1D)                                                    \n",
      "                                                                 \n",
      " bidirectional_1 (Bidirecti  (None, 512)               657408    \n",
      " onal)                                                           \n",
      "                                                                 \n",
      " dense_1 (Dense)             (None, 1)                 513       \n",
      "                                                                 \n",
      "=================================================================\n",
      "Total params: 1223553 (4.67 MB)\n",
      "Trainable params: 1223553 (4.67 MB)\n",
      "Non-trainable params: 0 (0.00 Byte)\n",
      "_________________________________________________________________\n"
     ]
    }
   ],
   "source": [
    "tdp_lstm = Sequential()\n",
    "tdp_lstm.add(Embedding(tdp_n_words, 64, input_length=tdp_max_len))\n",
    "tdp_lstm.add(SpatialDropout1D(0.2))\n",
    "tdp_lstm.add(Bidirectional(LSTM(256, dropout=0.2)))\n",
    "tdp_lstm.add(Dense(1, activation ='sigmoid'))\n",
    "tdp_lstm.compile(optimizer='Adam', metrics= Metrics, loss = 'binary_crossentropy')\n",
    "tdp_lstm.summary()"
   ]
  },
  {
   "cell_type": "code",
   "execution_count": 157,
   "id": "35f6c57c",
   "metadata": {},
   "outputs": [
    {
     "name": "stdout",
     "output_type": "stream",
     "text": [
      "Epoch 1/3\n",
      "112/112 [==============================] - 107s 931ms/step - loss: 0.6600 - accuracy: 0.5146 - precision: 0.5652 - recall: 1.0000 - f1-score: 0.7623\n",
      "Epoch 2/3\n",
      "112/112 [==============================] - 118s 1s/step - loss: 0.6582 - accuracy: 0.5487 - precision: 0.5929 - recall: 1.0000 - f1-score: 0.7784\n",
      "Epoch 3/3\n",
      "112/112 [==============================] - 120s 1s/step - loss: 0.6570 - accuracy: 0.5487 - precision: 0.5929 - recall: 1.0000 - f1-score: 0.7784\n"
     ]
    },
    {
     "data": {
      "text/plain": [
       "<keras.src.callbacks.History at 0x26b498c74c0>"
      ]
     },
     "execution_count": 157,
     "metadata": {},
     "output_type": "execute_result"
    }
   ],
   "source": [
    "tdp_lstm.fit(tdp_xtrain_pad, tdp_y_train, epochs=3)"
   ]
  },
  {
   "cell_type": "code",
   "execution_count": 158,
   "id": "17bfa186",
   "metadata": {},
   "outputs": [
    {
     "name": "stdout",
     "output_type": "stream",
     "text": [
      "38/38 [==============================] - 5s 117ms/step\n",
      "[[  0 486   0]\n",
      " [  0 660   0]\n",
      " [  0  45   0]]\n",
      "              precision    recall  f1-score   support\n",
      "\n",
      "         0.0       0.00      0.00      0.00       486\n",
      "         1.0       0.55      1.00      0.71       660\n",
      "         2.0       0.00      0.00      0.00        45\n",
      "\n",
      "    accuracy                           0.55      1191\n",
      "   macro avg       0.18      0.33      0.24      1191\n",
      "weighted avg       0.31      0.55      0.40      1191\n",
      "\n"
     ]
    },
    {
     "name": "stderr",
     "output_type": "stream",
     "text": [
      "C:\\Users\\posah\\anacondap\\lib\\site-packages\\sklearn\\metrics\\_classification.py:1318: UndefinedMetricWarning: Precision and F-score are ill-defined and being set to 0.0 in labels with no predicted samples. Use `zero_division` parameter to control this behavior.\n",
      "  _warn_prf(average, modifier, msg_start, len(result))\n",
      "C:\\Users\\posah\\anacondap\\lib\\site-packages\\sklearn\\metrics\\_classification.py:1318: UndefinedMetricWarning: Precision and F-score are ill-defined and being set to 0.0 in labels with no predicted samples. Use `zero_division` parameter to control this behavior.\n",
      "  _warn_prf(average, modifier, msg_start, len(result))\n",
      "C:\\Users\\posah\\anacondap\\lib\\site-packages\\sklearn\\metrics\\_classification.py:1318: UndefinedMetricWarning: Precision and F-score are ill-defined and being set to 0.0 in labels with no predicted samples. Use `zero_division` parameter to control this behavior.\n",
      "  _warn_prf(average, modifier, msg_start, len(result))\n"
     ]
    }
   ],
   "source": [
    "tdp_lstm_pred = (tdp_lstm.predict(tdp_xtest_pad) > 0.5).astype(int)\n",
    "print(confusion_matrix(tdp_y_test,tdp_lstm_pred))\n",
    "print(classification_report(tdp_y_test, tdp_lstm_pred))"
   ]
  },
  {
   "cell_type": "code",
   "execution_count": 159,
   "id": "2bbb53c0",
   "metadata": {},
   "outputs": [
    {
     "name": "stdout",
     "output_type": "stream",
     "text": [
      "Accuracy by lstm  :  0.5541561712846348\n",
      "Precision by lstm :  0.18471872376154494\n",
      "Recall by lstm    :  0.3333333333333333\n",
      "F1 score by lstm  :  0.23770934629929766\n"
     ]
    }
   ],
   "source": [
    "tdp_lstm_acc = accuracy_score(tdp_y_test, tdp_lstm_pred)\n",
    "tdp_lstm_pr  = precision_score(tdp_y_test, tdp_lstm_pred,average='macro',zero_division=0.0)\n",
    "tdp_lstm_rec = recall_score(tdp_y_test, tdp_lstm_pred,average='macro',zero_division=0.0)\n",
    "tdp_lstm_f1  = f1_score(tdp_y_test, tdp_lstm_pred,average='macro',zero_division=0.0)\n",
    "print('Accuracy by lstm  : ', tdp_lstm_acc)\n",
    "print('Precision by lstm : ', tdp_lstm_pr)\n",
    "print('Recall by lstm    : ', tdp_lstm_rec)\n",
    "print('F1 score by lstm  : ', tdp_lstm_f1)"
   ]
  },
  {
   "cell_type": "code",
   "execution_count": 160,
   "id": "2060488e",
   "metadata": {},
   "outputs": [
    {
     "data": {
      "text/html": [
       "<div>\n",
       "<style scoped>\n",
       "    .dataframe tbody tr th:only-of-type {\n",
       "        vertical-align: middle;\n",
       "    }\n",
       "\n",
       "    .dataframe tbody tr th {\n",
       "        vertical-align: top;\n",
       "    }\n",
       "\n",
       "    .dataframe thead th {\n",
       "        text-align: right;\n",
       "    }\n",
       "</style>\n",
       "<table border=\"1\" class=\"dataframe\">\n",
       "  <thead>\n",
       "    <tr style=\"text-align: right;\">\n",
       "      <th></th>\n",
       "      <th>Accuracy</th>\n",
       "      <th>Precision (mean)</th>\n",
       "      <th>Recall (mean)</th>\n",
       "      <th>F1-Score (mean)</th>\n",
       "    </tr>\n",
       "  </thead>\n",
       "  <tbody>\n",
       "    <tr>\n",
       "      <th>Multinomial Navies Bayes</th>\n",
       "      <td>0.636968</td>\n",
       "      <td>0.423947</td>\n",
       "      <td>0.440888</td>\n",
       "      <td>0.430092</td>\n",
       "    </tr>\n",
       "    <tr>\n",
       "      <th>Gaussian Navies Bayes</th>\n",
       "      <td>0.464096</td>\n",
       "      <td>0.399137</td>\n",
       "      <td>0.393910</td>\n",
       "      <td>0.373604</td>\n",
       "    </tr>\n",
       "    <tr>\n",
       "      <th>Logistic Regression</th>\n",
       "      <td>0.652926</td>\n",
       "      <td>0.433921</td>\n",
       "      <td>0.454907</td>\n",
       "      <td>0.444144</td>\n",
       "    </tr>\n",
       "    <tr>\n",
       "      <th>Linear Discriminant Analysis</th>\n",
       "      <td>0.527926</td>\n",
       "      <td>0.432505</td>\n",
       "      <td>0.466243</td>\n",
       "      <td>0.432175</td>\n",
       "    </tr>\n",
       "    <tr>\n",
       "      <th>Decision Tree</th>\n",
       "      <td>0.590426</td>\n",
       "      <td>0.431814</td>\n",
       "      <td>0.431565</td>\n",
       "      <td>0.430020</td>\n",
       "    </tr>\n",
       "    <tr>\n",
       "      <th>Random Forest</th>\n",
       "      <td>0.647606</td>\n",
       "      <td>0.440317</td>\n",
       "      <td>0.457427</td>\n",
       "      <td>0.441766</td>\n",
       "    </tr>\n",
       "    <tr>\n",
       "      <th>Support Vector Machine</th>\n",
       "      <td>0.650266</td>\n",
       "      <td>0.432592</td>\n",
       "      <td>0.453933</td>\n",
       "      <td>0.442959</td>\n",
       "    </tr>\n",
       "    <tr>\n",
       "      <th>K-NearestNeighbors</th>\n",
       "      <td>0.565160</td>\n",
       "      <td>0.377031</td>\n",
       "      <td>0.395423</td>\n",
       "      <td>0.385729</td>\n",
       "    </tr>\n",
       "    <tr>\n",
       "      <th>Long Short Term Memory</th>\n",
       "      <td>0.444149</td>\n",
       "      <td>0.148050</td>\n",
       "      <td>0.333333</td>\n",
       "      <td>0.205034</td>\n",
       "    </tr>\n",
       "  </tbody>\n",
       "</table>\n",
       "</div>"
      ],
      "text/plain": [
       "                              Accuracy  Precision (mean)  Recall (mean)  \\\n",
       "Multinomial Navies Bayes      0.636968          0.423947       0.440888   \n",
       "Gaussian Navies Bayes         0.464096          0.399137       0.393910   \n",
       "Logistic Regression           0.652926          0.433921       0.454907   \n",
       "Linear Discriminant Analysis  0.527926          0.432505       0.466243   \n",
       "Decision Tree                 0.590426          0.431814       0.431565   \n",
       "Random Forest                 0.647606          0.440317       0.457427   \n",
       "Support Vector Machine        0.650266          0.432592       0.453933   \n",
       "K-NearestNeighbors            0.565160          0.377031       0.395423   \n",
       "Long Short Term Memory        0.444149          0.148050       0.333333   \n",
       "\n",
       "                              F1-Score (mean)  \n",
       "Multinomial Navies Bayes             0.430092  \n",
       "Gaussian Navies Bayes                0.373604  \n",
       "Logistic Regression                  0.444144  \n",
       "Linear Discriminant Analysis         0.432175  \n",
       "Decision Tree                        0.430020  \n",
       "Random Forest                        0.441766  \n",
       "Support Vector Machine               0.442959  \n",
       "K-NearestNeighbors                   0.385729  \n",
       "Long Short Term Memory               0.205034  "
      ]
     },
     "execution_count": 160,
     "metadata": {},
     "output_type": "execute_result"
    }
   ],
   "source": [
    "ysrcp_x1 = {'Accuracy':[ysrcp_mnb_acc,ysrcp_gnb_acc,ysrcp_lr_acc,ysrcp_lda_acc,\n",
    "                        ysrcp_dt_acc,ysrcp_rf_acc,ysrcp_svm_acc,ysrcp_knn_acc,ysrcp_lstm_acc],\n",
    "      'Precision (mean)':[ysrcp_mnb_pr,ysrcp_gnb_pr,ysrcp_lr_pr,ysrcp_lda_pr,\n",
    "                          ysrcp_dt_pr,ysrcp_rf_pr,ysrcp_svm_pr,ysrcp_knn_pr,ysrcp_lstm_pr],\n",
    "      'Recall (mean)':[ysrcp_mnb_rec,ysrcp_gnb_rec,ysrcp_lr_rec,ysrcp_lda_rec,\n",
    "                       ysrcp_dt_rec,ysrcp_rf_rec,ysrcp_svm_rec,ysrcp_knn_rec,ysrcp_lstm_rec],\n",
    "      'F1-Score (mean)':[ysrcp_mnb_f1,ysrcp_gnb_f1,ysrcp_lr_f1,ysrcp_lda_f1,\n",
    "                         ysrcp_dt_f1,ysrcp_rf_f1,ysrcp_svm_f1,ysrcp_knn_f1,ysrcp_lstm_f1]}\n",
    "ysrcp_x2 = ['Multinomial Navies Bayes','Gaussian Navies Bayes','Logistic Regression',\n",
    "            'Linear Discriminant Analysis','Decision Tree','Random Forest',\n",
    "            'Support Vector Machine','K-NearestNeighbors','Long Short Term Memory']\n",
    "ysrcp_df = pd.DataFrame(ysrcp_x1,ysrcp_x2)\n",
    "ysrcp_df"
   ]
  },
  {
   "cell_type": "code",
   "execution_count": 161,
   "id": "6d285f8d",
   "metadata": {},
   "outputs": [
    {
     "data": {
      "text/html": [
       "<div>\n",
       "<style scoped>\n",
       "    .dataframe tbody tr th:only-of-type {\n",
       "        vertical-align: middle;\n",
       "    }\n",
       "\n",
       "    .dataframe tbody tr th {\n",
       "        vertical-align: top;\n",
       "    }\n",
       "\n",
       "    .dataframe thead th {\n",
       "        text-align: right;\n",
       "    }\n",
       "</style>\n",
       "<table border=\"1\" class=\"dataframe\">\n",
       "  <thead>\n",
       "    <tr style=\"text-align: right;\">\n",
       "      <th></th>\n",
       "      <th>Accuracy</th>\n",
       "      <th>Precision (mean)</th>\n",
       "      <th>Recall (mean)</th>\n",
       "      <th>F1-Score (mean)</th>\n",
       "    </tr>\n",
       "  </thead>\n",
       "  <tbody>\n",
       "    <tr>\n",
       "      <th>Multinomial Navies Bayes</th>\n",
       "      <td>0.666667</td>\n",
       "      <td>0.460490</td>\n",
       "      <td>0.435908</td>\n",
       "      <td>0.424094</td>\n",
       "    </tr>\n",
       "    <tr>\n",
       "      <th>Gaussian Navies Bayes</th>\n",
       "      <td>0.481948</td>\n",
       "      <td>0.421275</td>\n",
       "      <td>0.400181</td>\n",
       "      <td>0.378295</td>\n",
       "    </tr>\n",
       "    <tr>\n",
       "      <th>Logistic Regression</th>\n",
       "      <td>0.685978</td>\n",
       "      <td>0.454311</td>\n",
       "      <td>0.462533</td>\n",
       "      <td>0.455430</td>\n",
       "    </tr>\n",
       "    <tr>\n",
       "      <th>Linear Discriminant Analysis</th>\n",
       "      <td>0.608732</td>\n",
       "      <td>0.439591</td>\n",
       "      <td>0.437168</td>\n",
       "      <td>0.435967</td>\n",
       "    </tr>\n",
       "    <tr>\n",
       "      <th>Decision Tree</th>\n",
       "      <td>0.648195</td>\n",
       "      <td>0.485746</td>\n",
       "      <td>0.470882</td>\n",
       "      <td>0.475105</td>\n",
       "    </tr>\n",
       "    <tr>\n",
       "      <th>Random Forest</th>\n",
       "      <td>0.691856</td>\n",
       "      <td>0.671007</td>\n",
       "      <td>0.479542</td>\n",
       "      <td>0.490773</td>\n",
       "    </tr>\n",
       "    <tr>\n",
       "      <th>Support Vector Machine</th>\n",
       "      <td>0.686818</td>\n",
       "      <td>0.455358</td>\n",
       "      <td>0.463219</td>\n",
       "      <td>0.456225</td>\n",
       "    </tr>\n",
       "    <tr>\n",
       "      <th>K-NearestNeighbors</th>\n",
       "      <td>0.581024</td>\n",
       "      <td>0.444756</td>\n",
       "      <td>0.357632</td>\n",
       "      <td>0.295745</td>\n",
       "    </tr>\n",
       "    <tr>\n",
       "      <th>Long Short Term Memory</th>\n",
       "      <td>0.554156</td>\n",
       "      <td>0.184719</td>\n",
       "      <td>0.333333</td>\n",
       "      <td>0.237709</td>\n",
       "    </tr>\n",
       "  </tbody>\n",
       "</table>\n",
       "</div>"
      ],
      "text/plain": [
       "                              Accuracy  Precision (mean)  Recall (mean)  \\\n",
       "Multinomial Navies Bayes      0.666667          0.460490       0.435908   \n",
       "Gaussian Navies Bayes         0.481948          0.421275       0.400181   \n",
       "Logistic Regression           0.685978          0.454311       0.462533   \n",
       "Linear Discriminant Analysis  0.608732          0.439591       0.437168   \n",
       "Decision Tree                 0.648195          0.485746       0.470882   \n",
       "Random Forest                 0.691856          0.671007       0.479542   \n",
       "Support Vector Machine        0.686818          0.455358       0.463219   \n",
       "K-NearestNeighbors            0.581024          0.444756       0.357632   \n",
       "Long Short Term Memory        0.554156          0.184719       0.333333   \n",
       "\n",
       "                              F1-Score (mean)  \n",
       "Multinomial Navies Bayes             0.424094  \n",
       "Gaussian Navies Bayes                0.378295  \n",
       "Logistic Regression                  0.455430  \n",
       "Linear Discriminant Analysis         0.435967  \n",
       "Decision Tree                        0.475105  \n",
       "Random Forest                        0.490773  \n",
       "Support Vector Machine               0.456225  \n",
       "K-NearestNeighbors                   0.295745  \n",
       "Long Short Term Memory               0.237709  "
      ]
     },
     "execution_count": 161,
     "metadata": {},
     "output_type": "execute_result"
    }
   ],
   "source": [
    "tdp_x1 = {'Accuracy':[tdp_mnb_acc,tdp_gnb_acc,tdp_lr_acc,tdp_lda_acc,\n",
    "                      tdp_dt_acc,tdp_rf_acc,tdp_svm_acc,tdp_knn_acc,tdp_lstm_acc],\n",
    "      'Precision (mean)':[tdp_mnb_pr,tdp_gnb_pr,tdp_lr_pr,tdp_lda_pr,\n",
    "                          tdp_dt_pr,tdp_rf_pr,tdp_svm_pr,tdp_knn_pr,tdp_lstm_pr],\n",
    "      'Recall (mean)':[tdp_mnb_rec,tdp_gnb_rec,tdp_lr_rec,tdp_lda_rec,\n",
    "                       tdp_dt_rec,tdp_rf_rec,tdp_svm_rec,tdp_knn_rec,tdp_lstm_rec],\n",
    "      'F1-Score (mean)':[tdp_mnb_f1,tdp_gnb_f1,tdp_lr_f1,tdp_lda_f1,\n",
    "                         tdp_dt_f1,tdp_rf_f1,tdp_svm_f1,tdp_knn_f1,tdp_lstm_f1]}\n",
    "tdp_x2 = ['Multinomial Navies Bayes','Gaussian Navies Bayes','Logistic Regression',\n",
    "          'Linear Discriminant Analysis','Decision Tree','Random Forest',\n",
    "          'Support Vector Machine','K-NearestNeighbors','Long Short Term Memory']\n",
    "tdp_df = pd.DataFrame(tdp_x1,tdp_x2)\n",
    "tdp_df"
   ]
  },
  {
   "cell_type": "raw",
   "id": "a76741f6",
   "metadata": {},
   "source": [
    "YSRCP:\n",
    "    lr, rf, svm\n",
    "TDP:\n",
    "    rf, svm, lr"
   ]
  },
  {
   "cell_type": "markdown",
   "id": "5339eac9",
   "metadata": {},
   "source": [
    "# Testing"
   ]
  },
  {
   "cell_type": "code",
   "execution_count": 179,
   "id": "23e1ab49",
   "metadata": {},
   "outputs": [],
   "source": [
    "ysrcp_test = pd.read_csv(r\"dataset\\manifestios\\ysrcp_mani_test.csv\")\n",
    "tdp_test = pd.read_csv(r\"dataset\\manifestios\\tdp_mani_test.csv\")"
   ]
  },
  {
   "cell_type": "code",
   "execution_count": 180,
   "id": "42698b23",
   "metadata": {},
   "outputs": [],
   "source": [
    "ysrcp_test = ysrcp_test.dropna()\n",
    "tdp_test = tdp_test.dropna()\n",
    "ysrcp_test = ysrcp_test.drop_duplicates()\n",
    "tdp_test = tdp_test.drop_duplicates()"
   ]
  },
  {
   "cell_type": "markdown",
   "id": "33a0b9a6",
   "metadata": {},
   "source": [
    "## YSRCP"
   ]
  },
  {
   "cell_type": "code",
   "execution_count": 181,
   "id": "8a316c1d",
   "metadata": {},
   "outputs": [],
   "source": [
    "import re\n",
    "import numpy as np\n",
    "import nltk\n",
    "from nltk import word_tokenize\n",
    "from nltk.stem import WordNetLemmatizer\n",
    "from nltk.corpus import stopwords\n",
    "lm = WordNetLemmatizer()\n",
    "sw = stopwords.words('English')"
   ]
  },
  {
   "cell_type": "code",
   "execution_count": 182,
   "id": "306cf606",
   "metadata": {},
   "outputs": [],
   "source": [
    "def ysrcp_test_pred(comment):\n",
    "    \n",
    "    res = [0]*3         #neg:0,pos:1,neu:2\n",
    "    \n",
    "    lr = ysrcp_lr.predict(comment)\n",
    "    res[int(lr[0])] = res[int(lr[0])] + 1\n",
    "        \n",
    "    rf = ysrcp_rf.predict(comment)\n",
    "    res[int(rf[0])] = res[int(rf[0])] + 1\n",
    "        \n",
    "    svm = ysrcp_svm.predict(comment)\n",
    "    res[int(svm[0])] = res[int(svm[0])] + 1\n",
    "    \n",
    "    return res.index(max(res))"
   ]
  },
  {
   "cell_type": "code",
   "execution_count": 183,
   "id": "f12f44c6",
   "metadata": {},
   "outputs": [
    {
     "name": "stdout",
     "output_type": "stream",
     "text": [
      "DONE\n"
     ]
    }
   ],
   "source": [
    "ysrcp_pred_test = []\n",
    "ysrcp_le = ysrcp_features[0].shape\n",
    "\n",
    "for i in ysrcp_test['Comments']:\n",
    "    p = re.sub(r'http\\S+|www\\S+|@\\w+', ' ', i)\n",
    "    p = re.sub(r'[^a-z]',' ',p)\n",
    "    p = re.sub('[.+|,+]',' ',p)\n",
    "    p = word_tokenize(p)\n",
    "    p = [k for k in p if k not in sw]\n",
    "    p = [lm.lemmatize(k) for k in p]\n",
    "    p = ' '.join(p)\n",
    "    \n",
    "    if p!='':\n",
    "        tf_comment_features = tf_idf.fit_transform([p]).toarray()\n",
    "        ysrcp_re = np.empty((0,ysrcp_le[0]), float)\n",
    "        for i in tf_comment_features:\n",
    "            zeros_array = np.zeros(ysrcp_le[0]-tf_comment_features[0].shape[0])\n",
    "            resize_ysrcp = np.concatenate((i, zeros_array))\n",
    "            ysrcp_re = np.vstack((ysrcp_re, resize_ysrcp))\n",
    "\n",
    "\n",
    "        for i in ysrcp_re:\n",
    "            pred = ysrcp_test_pred(i.reshape(1,-1))\n",
    "            if pred==0:\n",
    "                ysrcp_pred_test.append('Negative')\n",
    "            elif pred==1:\n",
    "                ysrcp_pred_test.append('Positive')\n",
    "            else:\n",
    "                ysrcp_pred_test.append('Neutral')\n",
    "    else:\n",
    "        ysrcp_pred_test.append('Netural')\n",
    "    \n",
    "print('DONE')"
   ]
  },
  {
   "cell_type": "code",
   "execution_count": 188,
   "id": "f6bb8bd8",
   "metadata": {},
   "outputs": [
    {
     "name": "stdout",
     "output_type": "stream",
     "text": [
      "Excel in downloads\n",
      "31-10-2023 00:07:04\n"
     ]
    }
   ],
   "source": [
    "import datetime\n",
    "now = datetime.datetime.now()\n",
    "k = now.strftime(\"%d_%m_%Y_%H_%M_%S\")\n",
    "df = {'Comments':ysrcp_test['Comments'],'Emotion_predicted':ysrcp_pred_test}\n",
    "pd.DataFrame(df).to_csv(fr\"dataset\\manifestios\\mani_ysrcp_{str(k)}.csv\")\n",
    "print(\"Excel in downloads\")\n",
    "print(now.strftime(\"%d-%m-%Y %H:%M:%S\"))"
   ]
  },
  {
   "cell_type": "markdown",
   "id": "5a0d9f45",
   "metadata": {},
   "source": [
    "## TDP"
   ]
  },
  {
   "cell_type": "code",
   "execution_count": 185,
   "id": "ed3ee902",
   "metadata": {},
   "outputs": [],
   "source": [
    "def tdp_test_pred(comment):\n",
    "    \n",
    "    res = [0]*3         #neg:0,pos:1,neu:2\n",
    "    \n",
    "    rf = tdp_rf.predict(comment)\n",
    "    res[int(rf[0])] = res[int(rf[0])] + 1\n",
    "        \n",
    "    svm = tdp_svm.predict(comment)\n",
    "    res[int(svm[0])] = res[int(svm[0])] + 1\n",
    "        \n",
    "    lr = tdp_lr.predict(comment)\n",
    "    res[int(lr[0])] = res[int(lr[0])] + 1\n",
    "    \n",
    "    return res.index(max(res))"
   ]
  },
  {
   "cell_type": "code",
   "execution_count": 186,
   "id": "c3c1f91e",
   "metadata": {},
   "outputs": [
    {
     "name": "stdout",
     "output_type": "stream",
     "text": [
      "DONE\n"
     ]
    }
   ],
   "source": [
    "tdp_pred_test = []\n",
    "tdp_le = tdp_features[0].shape\n",
    "\n",
    "for i in tdp_test['Comments']:\n",
    "    p = re.sub(r'http\\S+|www\\S+|@\\w+', ' ', i)\n",
    "    p = re.sub(r'[^a-z]',' ',p)\n",
    "    p = re.sub('[.+|,+]',' ',p)\n",
    "    p = word_tokenize(p)\n",
    "    p = [k for k in p if k not in sw]\n",
    "    p = [lm.lemmatize(k) for k in p]\n",
    "    p = ' '.join(p)\n",
    "    \n",
    "    if p!='':\n",
    "        tdp_comment_features = tf_idf.fit_transform([p]).toarray()\n",
    "        tdp_re = np.empty((0,tdp_le[0]), float)\n",
    "        for i in tdp_comment_features:\n",
    "            zeros_array = np.zeros(tdp_le[0]-tdp_comment_features[0].shape[0])\n",
    "            resize_tdp = np.concatenate((i, zeros_array))\n",
    "            tdp_re = np.vstack((tdp_re, resize_tdp))\n",
    "        \n",
    "        for i in tdp_re:\n",
    "            pred = tdp_test_pred(i.reshape(1,-1))\n",
    "            if pred==0:\n",
    "                tdp_pred_test.append('Negative')\n",
    "            elif pred==1:\n",
    "                tdp_pred_test.append('Positive')\n",
    "            else:\n",
    "                tdp_pred_test.append('Neutral')\n",
    "    else:\n",
    "        tdp_pred_test.append('Neutral')\n",
    "        \n",
    "print('DONE')"
   ]
  },
  {
   "cell_type": "code",
   "execution_count": 189,
   "id": "d3a86f53",
   "metadata": {},
   "outputs": [
    {
     "name": "stdout",
     "output_type": "stream",
     "text": [
      "Excel in downloads\n",
      "31-10-2023 00:07:07\n"
     ]
    }
   ],
   "source": [
    "now = datetime.datetime.now()\n",
    "k = now.strftime(\"%d%m%Y_%H_%M_%S\")\n",
    "df = {'Comments':tdp_test['Comments'],'Emotion_predicted':tdp_pred_test}\n",
    "pd.DataFrame(df).to_csv(fr\"dataset\\manifestios\\mani_tdp_{str(k)}.csv\")\n",
    "print(\"Excel in downloads\")\n",
    "print(now.strftime(\"%d-%m-%Y %H:%M:%S\"))"
   ]
  }
 ],
 "metadata": {
  "kernelspec": {
   "display_name": "Python 3 (ipykernel)",
   "language": "python",
   "name": "python3"
  },
  "language_info": {
   "codemirror_mode": {
    "name": "ipython",
    "version": 3
   },
   "file_extension": ".py",
   "mimetype": "text/x-python",
   "name": "python",
   "nbconvert_exporter": "python",
   "pygments_lexer": "ipython3",
   "version": "3.9.12"
  }
 },
 "nbformat": 4,
 "nbformat_minor": 5
}
