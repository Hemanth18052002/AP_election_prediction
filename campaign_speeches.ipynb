{
 "cells": [
  {
   "cell_type": "markdown",
   "id": "512d6841",
   "metadata": {},
   "source": [
    "## FEATURES IN DATASET:\n",
    "\n",
    "### YSRCP dataset\n",
    "    1. Comments  : comments by public on the speech\n",
    "    2. Emotion   : reaction of public towards speech\n",
    "    \n",
    "### TDP dataset\n",
    "    1. Comments  : comments by public on the speech\n",
    "    2. Emotion   : reaction of public towards speech\n",
    "\n",
    "\n",
    "## PROJECT SCOPE:\n",
    "    1.This project gives scope to predict how much percentage of public are towards to that party.\n",
    "    2.This project gives scope to predict the result of election if election happen today by      providing real-time data\n",
    "\n",
    "\n",
    "## APPLIED MODELS:\n",
    "\n",
    "MACHINE LEARNING: <br>\n",
    "        1. Mulitnomial Navies Bayes <br>\n",
    "        2. Guassian Navies Bayes <br>\n",
    "        3. Logistic Regression <br>\n",
    "        4. Linear Discriminant Analysis (LDA) <br>\n",
    "        5. Decision Tree <br>\n",
    "        6. Random Forest <br>\n",
    "        7. Support Vector Machine <br>\n",
    "        8. K-Nearest Neighbours (KNN) <br>\n",
    "DEEP LEARNING: <br>\n",
    "        9. Long Short Term Memory (LSTM) <br>"
   ]
  },
  {
   "cell_type": "code",
   "execution_count": 1,
   "id": "730aff0b",
   "metadata": {},
   "outputs": [],
   "source": [
    "import pandas as pd\n",
    "import numpy as np\n",
    "import matplotlib.pyplot as plt"
   ]
  },
  {
   "cell_type": "markdown",
   "id": "3c7a3a62",
   "metadata": {},
   "source": [
    "# READING THE DATA SET"
   ]
  },
  {
   "cell_type": "code",
   "execution_count": 2,
   "id": "7a51e928",
   "metadata": {},
   "outputs": [],
   "source": [
    "ysrcp_train = pd.read_csv(r\"dataset\\campagin_speeches\\ysrcp_camp_train.csv\")\n",
    "tdp_train   = pd.read_csv(r\"dataset\\campagin_speeches\\tdp_camp_train.csv\")"
   ]
  },
  {
   "cell_type": "markdown",
   "id": "8c2448ce",
   "metadata": {},
   "source": [
    "# DATA ANALYSIS"
   ]
  },
  {
   "cell_type": "markdown",
   "id": "2e518aed",
   "metadata": {},
   "source": [
    "### YSRCP"
   ]
  },
  {
   "cell_type": "code",
   "execution_count": 3,
   "id": "16e1494c",
   "metadata": {},
   "outputs": [
    {
     "data": {
      "text/html": [
       "<div>\n",
       "<style scoped>\n",
       "    .dataframe tbody tr th:only-of-type {\n",
       "        vertical-align: middle;\n",
       "    }\n",
       "\n",
       "    .dataframe tbody tr th {\n",
       "        vertical-align: top;\n",
       "    }\n",
       "\n",
       "    .dataframe thead th {\n",
       "        text-align: right;\n",
       "    }\n",
       "</style>\n",
       "<table border=\"1\" class=\"dataframe\">\n",
       "  <thead>\n",
       "    <tr style=\"text-align: right;\">\n",
       "      <th></th>\n",
       "      <th>Unnamed: 0</th>\n",
       "      <th>Comments</th>\n",
       "      <th>Emotion</th>\n",
       "    </tr>\n",
       "  </thead>\n",
       "  <tbody>\n",
       "    <tr>\n",
       "      <th>0</th>\n",
       "      <td>0</td>\n",
       "      <td>do not talk about corruption yourself, babu, y...</td>\n",
       "      <td>Positive</td>\n",
       "    </tr>\n",
       "    <tr>\n",
       "      <th>1</th>\n",
       "      <td>1</td>\n",
       "      <td>dislikers cbn bach</td>\n",
       "      <td>Negative</td>\n",
       "    </tr>\n",
       "    <tr>\n",
       "      <th>2</th>\n",
       "      <td>2</td>\n",
       "      <td>polavaram project pattiseema project amaravati...</td>\n",
       "      <td>Negative</td>\n",
       "    </tr>\n",
       "    <tr>\n",
       "      <th>3</th>\n",
       "      <td>3</td>\n",
       "      <td>sure tdp will win this election</td>\n",
       "      <td>Negative</td>\n",
       "    </tr>\n",
       "    <tr>\n",
       "      <th>4</th>\n",
       "      <td>4</td>\n",
       "      <td>jai tdp jai cbn</td>\n",
       "      <td>Negative</td>\n",
       "    </tr>\n",
       "  </tbody>\n",
       "</table>\n",
       "</div>"
      ],
      "text/plain": [
       "   Unnamed: 0                                           Comments   Emotion\n",
       "0           0  do not talk about corruption yourself, babu, y...  Positive\n",
       "1           1                                 dislikers cbn bach  Negative\n",
       "2           2  polavaram project pattiseema project amaravati...  Negative\n",
       "3           3                    sure tdp will win this election  Negative\n",
       "4           4                                    jai tdp jai cbn  Negative"
      ]
     },
     "execution_count": 3,
     "metadata": {},
     "output_type": "execute_result"
    }
   ],
   "source": [
    "ysrcp_train.head()"
   ]
  },
  {
   "cell_type": "code",
   "execution_count": 4,
   "id": "836d23e4",
   "metadata": {},
   "outputs": [
    {
     "data": {
      "text/html": [
       "<div>\n",
       "<style scoped>\n",
       "    .dataframe tbody tr th:only-of-type {\n",
       "        vertical-align: middle;\n",
       "    }\n",
       "\n",
       "    .dataframe tbody tr th {\n",
       "        vertical-align: top;\n",
       "    }\n",
       "\n",
       "    .dataframe thead th {\n",
       "        text-align: right;\n",
       "    }\n",
       "</style>\n",
       "<table border=\"1\" class=\"dataframe\">\n",
       "  <thead>\n",
       "    <tr style=\"text-align: right;\">\n",
       "      <th></th>\n",
       "      <th>Unnamed: 0</th>\n",
       "    </tr>\n",
       "  </thead>\n",
       "  <tbody>\n",
       "    <tr>\n",
       "      <th>count</th>\n",
       "      <td>608.00000</td>\n",
       "    </tr>\n",
       "    <tr>\n",
       "      <th>mean</th>\n",
       "      <td>303.50000</td>\n",
       "    </tr>\n",
       "    <tr>\n",
       "      <th>std</th>\n",
       "      <td>175.65876</td>\n",
       "    </tr>\n",
       "    <tr>\n",
       "      <th>min</th>\n",
       "      <td>0.00000</td>\n",
       "    </tr>\n",
       "    <tr>\n",
       "      <th>25%</th>\n",
       "      <td>151.75000</td>\n",
       "    </tr>\n",
       "    <tr>\n",
       "      <th>50%</th>\n",
       "      <td>303.50000</td>\n",
       "    </tr>\n",
       "    <tr>\n",
       "      <th>75%</th>\n",
       "      <td>455.25000</td>\n",
       "    </tr>\n",
       "    <tr>\n",
       "      <th>max</th>\n",
       "      <td>607.00000</td>\n",
       "    </tr>\n",
       "  </tbody>\n",
       "</table>\n",
       "</div>"
      ],
      "text/plain": [
       "       Unnamed: 0\n",
       "count   608.00000\n",
       "mean    303.50000\n",
       "std     175.65876\n",
       "min       0.00000\n",
       "25%     151.75000\n",
       "50%     303.50000\n",
       "75%     455.25000\n",
       "max     607.00000"
      ]
     },
     "execution_count": 4,
     "metadata": {},
     "output_type": "execute_result"
    }
   ],
   "source": [
    "ysrcp_train.describe()"
   ]
  },
  {
   "cell_type": "code",
   "execution_count": 5,
   "id": "f68c9d74",
   "metadata": {},
   "outputs": [
    {
     "name": "stdout",
     "output_type": "stream",
     "text": [
      "<class 'pandas.core.frame.DataFrame'>\n",
      "RangeIndex: 608 entries, 0 to 607\n",
      "Data columns (total 3 columns):\n",
      " #   Column      Non-Null Count  Dtype \n",
      "---  ------      --------------  ----- \n",
      " 0   Unnamed: 0  608 non-null    int64 \n",
      " 1   Comments    608 non-null    object\n",
      " 2   Emotion     608 non-null    object\n",
      "dtypes: int64(1), object(2)\n",
      "memory usage: 14.4+ KB\n"
     ]
    }
   ],
   "source": [
    "ysrcp_train.info()"
   ]
  },
  {
   "cell_type": "code",
   "execution_count": 6,
   "id": "12cc7f33",
   "metadata": {},
   "outputs": [
    {
     "data": {
      "text/plain": [
       "Index(['Unnamed: 0', 'Comments', 'Emotion'], dtype='object')"
      ]
     },
     "execution_count": 6,
     "metadata": {},
     "output_type": "execute_result"
    }
   ],
   "source": [
    "ysrcp_train.columns"
   ]
  },
  {
   "cell_type": "code",
   "execution_count": 7,
   "id": "60a93102",
   "metadata": {},
   "outputs": [
    {
     "data": {
      "text/plain": [
       "(608, 3)"
      ]
     },
     "execution_count": 7,
     "metadata": {},
     "output_type": "execute_result"
    }
   ],
   "source": [
    "ysrcp_train.shape"
   ]
  },
  {
   "cell_type": "markdown",
   "id": "37fbaf30",
   "metadata": {},
   "source": [
    "### TDP"
   ]
  },
  {
   "cell_type": "code",
   "execution_count": 8,
   "id": "7f282a3f",
   "metadata": {},
   "outputs": [
    {
     "data": {
      "text/html": [
       "<div>\n",
       "<style scoped>\n",
       "    .dataframe tbody tr th:only-of-type {\n",
       "        vertical-align: middle;\n",
       "    }\n",
       "\n",
       "    .dataframe tbody tr th {\n",
       "        vertical-align: top;\n",
       "    }\n",
       "\n",
       "    .dataframe thead th {\n",
       "        text-align: right;\n",
       "    }\n",
       "</style>\n",
       "<table border=\"1\" class=\"dataframe\">\n",
       "  <thead>\n",
       "    <tr style=\"text-align: right;\">\n",
       "      <th></th>\n",
       "      <th>Unnamed: 0</th>\n",
       "      <th>Comments</th>\n",
       "      <th>Emotion</th>\n",
       "    </tr>\n",
       "  </thead>\n",
       "  <tbody>\n",
       "    <tr>\n",
       "      <th>0</th>\n",
       "      <td>0</td>\n",
       "      <td>oh god now he beg for bjp or</td>\n",
       "      <td>Positive</td>\n",
       "    </tr>\n",
       "    <tr>\n",
       "      <th>1</th>\n",
       "      <td>1</td>\n",
       "      <td>piikinaru now andhraloli eddie sheep</td>\n",
       "      <td>Negative</td>\n",
       "    </tr>\n",
       "    <tr>\n",
       "      <th>2</th>\n",
       "      <td>2</td>\n",
       "      <td>bye bye babu</td>\n",
       "      <td>Negative</td>\n",
       "    </tr>\n",
       "    <tr>\n",
       "      <th>3</th>\n",
       "      <td>3</td>\n",
       "      <td>if i vote for you, all your leaders are frauds...</td>\n",
       "      <td>Negative</td>\n",
       "    </tr>\n",
       "    <tr>\n",
       "      <th>4</th>\n",
       "      <td>4</td>\n",
       "      <td>smile</td>\n",
       "      <td>Positive</td>\n",
       "    </tr>\n",
       "  </tbody>\n",
       "</table>\n",
       "</div>"
      ],
      "text/plain": [
       "   Unnamed: 0                                           Comments   Emotion\n",
       "0           0                       oh god now he beg for bjp or  Positive\n",
       "1           1               piikinaru now andhraloli eddie sheep  Negative\n",
       "2           2                                       bye bye babu  Negative\n",
       "3           3  if i vote for you, all your leaders are frauds...  Negative\n",
       "4           4                                              smile  Positive"
      ]
     },
     "execution_count": 8,
     "metadata": {},
     "output_type": "execute_result"
    }
   ],
   "source": [
    "tdp_train.head()"
   ]
  },
  {
   "cell_type": "code",
   "execution_count": 9,
   "id": "fd41e040",
   "metadata": {},
   "outputs": [
    {
     "data": {
      "text/html": [
       "<div>\n",
       "<style scoped>\n",
       "    .dataframe tbody tr th:only-of-type {\n",
       "        vertical-align: middle;\n",
       "    }\n",
       "\n",
       "    .dataframe tbody tr th {\n",
       "        vertical-align: top;\n",
       "    }\n",
       "\n",
       "    .dataframe thead th {\n",
       "        text-align: right;\n",
       "    }\n",
       "</style>\n",
       "<table border=\"1\" class=\"dataframe\">\n",
       "  <thead>\n",
       "    <tr style=\"text-align: right;\">\n",
       "      <th></th>\n",
       "      <th>Unnamed: 0</th>\n",
       "    </tr>\n",
       "  </thead>\n",
       "  <tbody>\n",
       "    <tr>\n",
       "      <th>count</th>\n",
       "      <td>503.000000</td>\n",
       "    </tr>\n",
       "    <tr>\n",
       "      <th>mean</th>\n",
       "      <td>251.000000</td>\n",
       "    </tr>\n",
       "    <tr>\n",
       "      <th>std</th>\n",
       "      <td>145.347859</td>\n",
       "    </tr>\n",
       "    <tr>\n",
       "      <th>min</th>\n",
       "      <td>0.000000</td>\n",
       "    </tr>\n",
       "    <tr>\n",
       "      <th>25%</th>\n",
       "      <td>125.500000</td>\n",
       "    </tr>\n",
       "    <tr>\n",
       "      <th>50%</th>\n",
       "      <td>251.000000</td>\n",
       "    </tr>\n",
       "    <tr>\n",
       "      <th>75%</th>\n",
       "      <td>376.500000</td>\n",
       "    </tr>\n",
       "    <tr>\n",
       "      <th>max</th>\n",
       "      <td>502.000000</td>\n",
       "    </tr>\n",
       "  </tbody>\n",
       "</table>\n",
       "</div>"
      ],
      "text/plain": [
       "       Unnamed: 0\n",
       "count  503.000000\n",
       "mean   251.000000\n",
       "std    145.347859\n",
       "min      0.000000\n",
       "25%    125.500000\n",
       "50%    251.000000\n",
       "75%    376.500000\n",
       "max    502.000000"
      ]
     },
     "execution_count": 9,
     "metadata": {},
     "output_type": "execute_result"
    }
   ],
   "source": [
    "tdp_train.describe()"
   ]
  },
  {
   "cell_type": "code",
   "execution_count": 10,
   "id": "25206dcb",
   "metadata": {},
   "outputs": [
    {
     "name": "stdout",
     "output_type": "stream",
     "text": [
      "<class 'pandas.core.frame.DataFrame'>\n",
      "RangeIndex: 503 entries, 0 to 502\n",
      "Data columns (total 3 columns):\n",
      " #   Column      Non-Null Count  Dtype \n",
      "---  ------      --------------  ----- \n",
      " 0   Unnamed: 0  503 non-null    int64 \n",
      " 1   Comments    494 non-null    object\n",
      " 2   Emotion     503 non-null    object\n",
      "dtypes: int64(1), object(2)\n",
      "memory usage: 11.9+ KB\n"
     ]
    }
   ],
   "source": [
    "tdp_train.info()"
   ]
  },
  {
   "cell_type": "code",
   "execution_count": 11,
   "id": "34d055ae",
   "metadata": {},
   "outputs": [
    {
     "data": {
      "text/plain": [
       "Index(['Unnamed: 0', 'Comments', 'Emotion'], dtype='object')"
      ]
     },
     "execution_count": 11,
     "metadata": {},
     "output_type": "execute_result"
    }
   ],
   "source": [
    "tdp_train.columns"
   ]
  },
  {
   "cell_type": "code",
   "execution_count": 12,
   "id": "78b0b612",
   "metadata": {},
   "outputs": [
    {
     "data": {
      "text/plain": [
       "(503, 3)"
      ]
     },
     "execution_count": 12,
     "metadata": {},
     "output_type": "execute_result"
    }
   ],
   "source": [
    "tdp_train.shape"
   ]
  },
  {
   "cell_type": "markdown",
   "id": "82478bc6",
   "metadata": {},
   "source": [
    "# CHECKING FOR NULL VALUES"
   ]
  },
  {
   "cell_type": "markdown",
   "id": "ed8de544",
   "metadata": {},
   "source": [
    "### YSRCP"
   ]
  },
  {
   "cell_type": "code",
   "execution_count": 13,
   "id": "5ccbed2a",
   "metadata": {},
   "outputs": [
    {
     "data": {
      "text/plain": [
       "Unnamed: 0    0\n",
       "Comments      0\n",
       "Emotion       0\n",
       "dtype: int64"
      ]
     },
     "execution_count": 13,
     "metadata": {},
     "output_type": "execute_result"
    }
   ],
   "source": [
    "ysrcp_train.isnull().sum()"
   ]
  },
  {
   "cell_type": "markdown",
   "id": "b2786c4c",
   "metadata": {},
   "source": [
    "### TDP"
   ]
  },
  {
   "cell_type": "code",
   "execution_count": 14,
   "id": "2badefa4",
   "metadata": {},
   "outputs": [
    {
     "data": {
      "text/plain": [
       "Unnamed: 0    0\n",
       "Comments      9\n",
       "Emotion       0\n",
       "dtype: int64"
      ]
     },
     "execution_count": 14,
     "metadata": {},
     "output_type": "execute_result"
    }
   ],
   "source": [
    "tdp_train.isnull().sum()"
   ]
  },
  {
   "cell_type": "code",
   "execution_count": 15,
   "id": "c0dcbca8",
   "metadata": {},
   "outputs": [],
   "source": [
    "tdp_train = tdp_train.dropna()"
   ]
  },
  {
   "cell_type": "code",
   "execution_count": 16,
   "id": "b11334a5",
   "metadata": {},
   "outputs": [
    {
     "data": {
      "text/plain": [
       "Unnamed: 0    0\n",
       "Comments      0\n",
       "Emotion       0\n",
       "dtype: int64"
      ]
     },
     "execution_count": 16,
     "metadata": {},
     "output_type": "execute_result"
    }
   ],
   "source": [
    "tdp_train.isnull().sum()"
   ]
  },
  {
   "cell_type": "markdown",
   "id": "23bae887",
   "metadata": {},
   "source": [
    "# CHECKING FOR DUPLICTAES"
   ]
  },
  {
   "cell_type": "markdown",
   "id": "f39f8c29",
   "metadata": {},
   "source": [
    "### YSRCP"
   ]
  },
  {
   "cell_type": "code",
   "execution_count": 17,
   "id": "f494ab5e",
   "metadata": {},
   "outputs": [
    {
     "data": {
      "text/plain": [
       "0"
      ]
     },
     "execution_count": 17,
     "metadata": {},
     "output_type": "execute_result"
    }
   ],
   "source": [
    "ysrcp_train.duplicated().sum()"
   ]
  },
  {
   "cell_type": "markdown",
   "id": "ac563a57",
   "metadata": {},
   "source": [
    "### TDP"
   ]
  },
  {
   "cell_type": "code",
   "execution_count": 18,
   "id": "f9e224ab",
   "metadata": {},
   "outputs": [
    {
     "data": {
      "text/plain": [
       "0"
      ]
     },
     "execution_count": 18,
     "metadata": {},
     "output_type": "execute_result"
    }
   ],
   "source": [
    "tdp_train.duplicated().sum()"
   ]
  },
  {
   "cell_type": "markdown",
   "id": "2d0e6ee9",
   "metadata": {},
   "source": [
    "## DATA VISUALIZATION"
   ]
  },
  {
   "cell_type": "markdown",
   "id": "ad13814c",
   "metadata": {},
   "source": [
    "### YSRCP"
   ]
  },
  {
   "cell_type": "code",
   "execution_count": 19,
   "id": "17493375",
   "metadata": {},
   "outputs": [
    {
     "data": {
      "image/png": "[encoded data removed]",
      "text/plain": [
       "<Figure size 432x288 with 1 Axes>"
      ]
     },
     "metadata": {},
     "output_type": "display_data"
    }
   ],
   "source": [
    "ysrcp_dic = {}\n",
    "for i in ysrcp_train['Emotion']:\n",
    "    if i in ysrcp_dic:\n",
    "        ysrcp_dic[i] = ysrcp_dic[i] + 1\n",
    "    else:\n",
    "        ysrcp_dic[i] = 1\n",
    "plt.pie(ysrcp_dic.values(),labels=ysrcp_dic.keys(),autopct='%.2f%%')\n",
    "plt.title(\"Party Y Campaign Speeches 2019\")\n",
    "plt.show()"
   ]
  },
  {
   "cell_type": "markdown",
   "id": "abf6caf9",
   "metadata": {},
   "source": [
    "### TDP"
   ]
  },
  {
   "cell_type": "code",
   "execution_count": 20,
   "id": "fdc03ad7",
   "metadata": {},
   "outputs": [
    {
     "data": {
      "image/png": "[encoded data removed]",
      "text/plain": [
       "<Figure size 432x288 with 1 Axes>"
      ]
     },
     "metadata": {},
     "output_type": "display_data"
    }
   ],
   "source": [
    "tdp_dic = {}\n",
    "for i in tdp_train['Emotion']:\n",
    "    if i in tdp_dic:\n",
    "        tdp_dic[i] = tdp_dic[i] + 1\n",
    "    else:\n",
    "        tdp_dic[i] = 1\n",
    "plt.pie(tdp_dic.values(),labels=tdp_dic.keys(),autopct='%.2f%%')\n",
    "plt.title(\"Party T Campaign Speeches 2019\")\n",
    "plt.show()"
   ]
  },
  {
   "cell_type": "code",
   "execution_count": 21,
   "id": "97b99c47",
   "metadata": {},
   "outputs": [],
   "source": [
    "num_ysrcp_emotion = []\n",
    "for i in ysrcp_train['Emotion']:\n",
    "    if i=='Positive':\n",
    "        num_ysrcp_emotion.append(1.0)\n",
    "    elif i=='Negative':\n",
    "        num_ysrcp_emotion.append(0.0)\n",
    "    else:\n",
    "        num_ysrcp_emotion.append(2.0)\n",
    "ysrcp_train['num_emotion'] = num_ysrcp_emotion"
   ]
  },
  {
   "cell_type": "code",
   "execution_count": 22,
   "id": "46545adb",
   "metadata": {},
   "outputs": [],
   "source": [
    "num_tdp_emotion = []\n",
    "for i in tdp_train['Emotion']:\n",
    "    if i=='Positive':\n",
    "        num_tdp_emotion.append(1.0)\n",
    "    elif i=='Negative':\n",
    "        num_tdp_emotion.append(0.0)\n",
    "    else:\n",
    "        num_tdp_emotion.append(2.0)\n",
    "tdp_train['num_emotion'] = num_tdp_emotion"
   ]
  },
  {
   "cell_type": "markdown",
   "id": "1d760b85",
   "metadata": {},
   "source": [
    "## DATA PREPROCESSING"
   ]
  },
  {
   "cell_type": "code",
   "execution_count": 23,
   "id": "0ba8e5ab",
   "metadata": {},
   "outputs": [
    {
     "name": "stderr",
     "output_type": "stream",
     "text": [
      "C:\\Users\\posah\\anacondap\\lib\\site-packages\\scipy\\__init__.py:146: UserWarning: A NumPy version >=1.16.5 and <1.23.0 is required for this version of SciPy (detected version 1.26.0\n",
      "  warnings.warn(f\"A NumPy version >={np_minversion} and <{np_maxversion}\"\n"
     ]
    }
   ],
   "source": [
    "import re\n",
    "import numpy as np\n",
    "import nltk\n",
    "from nltk import word_tokenize\n",
    "from nltk.stem import WordNetLemmatizer\n",
    "from nltk.corpus import stopwords"
   ]
  },
  {
   "cell_type": "code",
   "execution_count": 24,
   "id": "2f13c2f8",
   "metadata": {},
   "outputs": [],
   "source": [
    "lm = WordNetLemmatizer()\n",
    "sw = stopwords.words('English')"
   ]
  },
  {
   "cell_type": "markdown",
   "id": "3c039dcc",
   "metadata": {},
   "source": [
    "### YSRCP"
   ]
  },
  {
   "cell_type": "code",
   "execution_count": 25,
   "id": "13603bdb",
   "metadata": {},
   "outputs": [
    {
     "name": "stdout",
     "output_type": "stream",
     "text": [
      "DONE\n",
      "Maximum length of sentence :  150\n",
      "Maximum number of words :  1504\n"
     ]
    }
   ],
   "source": [
    "ysrcp_comments = []\n",
    "ysrcp_max_len = 0\n",
    "ysrcp_unique = set()\n",
    "for i in ysrcp_train['Comments']:\n",
    "    p = re.sub(r'http\\S+|www\\S+|@\\w+', ' ', i)\n",
    "    p = re.sub(r'[^a-z]',' ',p)\n",
    "    p = re.sub('[.+|,+]',' ',p)\n",
    "    p = word_tokenize(p)\n",
    "    p = [k for k in p if k not in sw]\n",
    "    p = [lm.lemmatize(k) for k in p]\n",
    "    ysrcp_unique = ysrcp_unique | set(p)\n",
    "    ysrcp_max_len = max(len(p),ysrcp_max_len)\n",
    "    p = ' '.join(p)\n",
    "    if p=='':\n",
    "        ysrcp_comments.append(np.nan)\n",
    "    else:\n",
    "        ysrcp_comments.append(p)\n",
    "print('DONE')\n",
    "print(\"Maximum length of sentence : \",ysrcp_max_len)\n",
    "ysrcp_n_words = len(ysrcp_unique)\n",
    "print(\"Maximum number of words : \",ysrcp_n_words)"
   ]
  },
  {
   "cell_type": "code",
   "execution_count": 26,
   "id": "0d2b4b6f",
   "metadata": {},
   "outputs": [],
   "source": [
    "ysrcp_train['pre_pro_comm'] = ysrcp_comments"
   ]
  },
  {
   "cell_type": "code",
   "execution_count": 27,
   "id": "792a992b",
   "metadata": {},
   "outputs": [
    {
     "data": {
      "text/plain": [
       "Unnamed: 0       0\n",
       "Comments         0\n",
       "Emotion          0\n",
       "num_emotion      0\n",
       "pre_pro_comm    10\n",
       "dtype: int64"
      ]
     },
     "execution_count": 27,
     "metadata": {},
     "output_type": "execute_result"
    }
   ],
   "source": [
    "ysrcp_train.isnull().sum()"
   ]
  },
  {
   "cell_type": "code",
   "execution_count": 28,
   "id": "f2039388",
   "metadata": {},
   "outputs": [],
   "source": [
    "ysrcp_train.dropna(inplace = True)"
   ]
  },
  {
   "cell_type": "code",
   "execution_count": 29,
   "id": "b37619ef",
   "metadata": {},
   "outputs": [
    {
     "data": {
      "text/plain": [
       "Unnamed: 0      0\n",
       "Comments        0\n",
       "Emotion         0\n",
       "num_emotion     0\n",
       "pre_pro_comm    0\n",
       "dtype: int64"
      ]
     },
     "execution_count": 29,
     "metadata": {},
     "output_type": "execute_result"
    }
   ],
   "source": [
    "ysrcp_train.isnull().sum()"
   ]
  },
  {
   "cell_type": "code",
   "execution_count": 30,
   "id": "ed8c5833",
   "metadata": {},
   "outputs": [
    {
     "data": {
      "text/plain": [
       "(598, 5)"
      ]
     },
     "execution_count": 30,
     "metadata": {},
     "output_type": "execute_result"
    }
   ],
   "source": [
    "ysrcp_train.shape"
   ]
  },
  {
   "cell_type": "markdown",
   "id": "6199fba7",
   "metadata": {},
   "source": [
    "### TDP"
   ]
  },
  {
   "cell_type": "code",
   "execution_count": 31,
   "id": "febf8011",
   "metadata": {},
   "outputs": [
    {
     "name": "stdout",
     "output_type": "stream",
     "text": [
      "DONE\n",
      "Maximum length of sentence :  47\n",
      "Maximum number of words :  1146\n"
     ]
    }
   ],
   "source": [
    "tdp_comments = []\n",
    "tdp_max_len = 0\n",
    "tdp_unique = set()\n",
    "for i in tdp_train['Comments']:\n",
    "    p = re.sub(r'http\\S+|www\\S+|@\\w+', ' ', i)\n",
    "    p = re.sub(r'[^a-z]',' ',p)\n",
    "    p = re.sub('[.+|,+]',' ',p)\n",
    "    p = word_tokenize(p)\n",
    "    p = [i for i in p if i not in sw]\n",
    "    p = [lm.lemmatize(i) for i in p]\n",
    "    tdp_unique = tdp_unique | set(p)\n",
    "    tdp_max_len = max(len(p),tdp_max_len)\n",
    "    p = ' '.join(p)\n",
    "    p = re.sub(' +',' ',p)\n",
    "    if p=='':\n",
    "        tdp_comments.append(np.nan)\n",
    "    else:\n",
    "        tdp_comments.append(p)\n",
    "print('DONE')\n",
    "print(\"Maximum length of sentence : \",tdp_max_len)\n",
    "tdp_n_words = len(tdp_unique)\n",
    "print(\"Maximum number of words : \",tdp_n_words)"
   ]
  },
  {
   "cell_type": "code",
   "execution_count": 32,
   "id": "8c7071e9",
   "metadata": {},
   "outputs": [],
   "source": [
    "tdp_train['pre_pro_comm'] = tdp_comments"
   ]
  },
  {
   "cell_type": "code",
   "execution_count": 33,
   "id": "d88d775d",
   "metadata": {},
   "outputs": [
    {
     "data": {
      "text/plain": [
       "Unnamed: 0       0\n",
       "Comments         0\n",
       "Emotion          0\n",
       "num_emotion      0\n",
       "pre_pro_comm    13\n",
       "dtype: int64"
      ]
     },
     "execution_count": 33,
     "metadata": {},
     "output_type": "execute_result"
    }
   ],
   "source": [
    "tdp_train.isnull().sum()"
   ]
  },
  {
   "cell_type": "code",
   "execution_count": 34,
   "id": "c8cde5ac",
   "metadata": {},
   "outputs": [],
   "source": [
    "tdp_train.dropna(inplace = True)"
   ]
  },
  {
   "cell_type": "code",
   "execution_count": 35,
   "id": "d3f518c9",
   "metadata": {},
   "outputs": [
    {
     "data": {
      "text/plain": [
       "Unnamed: 0      0\n",
       "Comments        0\n",
       "Emotion         0\n",
       "num_emotion     0\n",
       "pre_pro_comm    0\n",
       "dtype: int64"
      ]
     },
     "execution_count": 35,
     "metadata": {},
     "output_type": "execute_result"
    }
   ],
   "source": [
    "tdp_train.isnull().sum()"
   ]
  },
  {
   "cell_type": "markdown",
   "id": "983a085b",
   "metadata": {},
   "source": [
    "# Transforming the words into vectors using tf-idf"
   ]
  },
  {
   "cell_type": "code",
   "execution_count": 36,
   "id": "b56b0346",
   "metadata": {},
   "outputs": [],
   "source": [
    "from sklearn.feature_extraction.text import TfidfVectorizer"
   ]
  },
  {
   "cell_type": "code",
   "execution_count": 37,
   "id": "840d0581",
   "metadata": {},
   "outputs": [],
   "source": [
    "tf_idf = TfidfVectorizer()"
   ]
  },
  {
   "cell_type": "markdown",
   "id": "5c159e2a",
   "metadata": {},
   "source": [
    "### YSRCP"
   ]
  },
  {
   "cell_type": "code",
   "execution_count": 38,
   "id": "c488e3f3",
   "metadata": {},
   "outputs": [
    {
     "name": "stdout",
     "output_type": "stream",
     "text": [
      "[[0. 0. 0. ... 0. 0. 0.]\n",
      " [0. 0. 0. ... 0. 0. 0.]\n",
      " [0. 0. 0. ... 0. 0. 0.]\n",
      " ...\n",
      " [0. 0. 0. ... 0. 0. 0.]\n",
      " [0. 0. 0. ... 0. 0. 0.]\n",
      " [0. 0. 0. ... 0. 0. 0.]]\n"
     ]
    }
   ],
   "source": [
    "ysrcp_features = tf_idf.fit_transform(ysrcp_train['pre_pro_comm']).toarray()\n",
    "print(ysrcp_features)"
   ]
  },
  {
   "cell_type": "markdown",
   "id": "125e7923",
   "metadata": {},
   "source": [
    "### TDP"
   ]
  },
  {
   "cell_type": "code",
   "execution_count": 39,
   "id": "4039209e",
   "metadata": {},
   "outputs": [
    {
     "name": "stdout",
     "output_type": "stream",
     "text": [
      "[[0. 0. 0. ... 0. 0. 0.]\n",
      " [0. 0. 0. ... 0. 0. 0.]\n",
      " [0. 0. 0. ... 0. 0. 0.]\n",
      " ...\n",
      " [0. 0. 0. ... 0. 0. 0.]\n",
      " [0. 0. 0. ... 0. 0. 0.]\n",
      " [0. 0. 0. ... 0. 0. 0.]]\n"
     ]
    }
   ],
   "source": [
    "tdp_features = tf_idf.fit_transform(tdp_train['pre_pro_comm']).toarray()\n",
    "print(tdp_features)"
   ]
  },
  {
   "cell_type": "markdown",
   "id": "5cdf3b5b",
   "metadata": {},
   "source": [
    "# X & Y ARRAY"
   ]
  },
  {
   "cell_type": "markdown",
   "id": "d0d47cf4",
   "metadata": {},
   "source": [
    "### YSRCP"
   ]
  },
  {
   "cell_type": "code",
   "execution_count": 40,
   "id": "6d5467bf",
   "metadata": {},
   "outputs": [
    {
     "name": "stdout",
     "output_type": "stream",
     "text": [
      "(598, 1491) (598,)\n",
      "<class 'numpy.ndarray'> <class 'pandas.core.series.Series'>\n"
     ]
    }
   ],
   "source": [
    "ysrcp_x = ysrcp_features\n",
    "ysrcp_y = ysrcp_train.iloc[:,-2]\n",
    "print(ysrcp_x.shape,ysrcp_y.shape)\n",
    "print(type(ysrcp_x),type(ysrcp_y))"
   ]
  },
  {
   "cell_type": "code",
   "execution_count": 41,
   "id": "2be207ab",
   "metadata": {},
   "outputs": [
    {
     "data": {
      "text/plain": [
       "array([[0., 0., 0., ..., 0., 0., 0.],\n",
       "       [0., 0., 0., ..., 0., 0., 0.],\n",
       "       [0., 0., 0., ..., 0., 0., 0.],\n",
       "       ...,\n",
       "       [0., 0., 0., ..., 0., 0., 0.],\n",
       "       [0., 0., 0., ..., 0., 0., 0.],\n",
       "       [0., 0., 0., ..., 0., 0., 0.]])"
      ]
     },
     "execution_count": 41,
     "metadata": {},
     "output_type": "execute_result"
    }
   ],
   "source": [
    "ysrcp_x"
   ]
  },
  {
   "cell_type": "code",
   "execution_count": 42,
   "id": "163122bf",
   "metadata": {},
   "outputs": [
    {
     "data": {
      "text/plain": [
       "0      1.0\n",
       "1      0.0\n",
       "2      0.0\n",
       "3      0.0\n",
       "4      0.0\n",
       "      ... \n",
       "603    0.0\n",
       "604    1.0\n",
       "605    0.0\n",
       "606    2.0\n",
       "607    1.0\n",
       "Name: num_emotion, Length: 598, dtype: float64"
      ]
     },
     "execution_count": 42,
     "metadata": {},
     "output_type": "execute_result"
    }
   ],
   "source": [
    "ysrcp_y"
   ]
  },
  {
   "cell_type": "markdown",
   "id": "8719efbd",
   "metadata": {},
   "source": [
    "### TDP"
   ]
  },
  {
   "cell_type": "code",
   "execution_count": 43,
   "id": "82cca238",
   "metadata": {},
   "outputs": [
    {
     "name": "stdout",
     "output_type": "stream",
     "text": [
      "(481, 1136) (481,)\n",
      "<class 'numpy.ndarray'> <class 'pandas.core.series.Series'>\n"
     ]
    }
   ],
   "source": [
    "tdp_x = tdp_features\n",
    "tdp_y = tdp_train.iloc[:,-2]\n",
    "print(tdp_x.shape,tdp_y.shape)\n",
    "print(type(tdp_x),type(tdp_y))"
   ]
  },
  {
   "cell_type": "code",
   "execution_count": 44,
   "id": "7864a4e6",
   "metadata": {},
   "outputs": [
    {
     "data": {
      "text/plain": [
       "array([[0., 0., 0., ..., 0., 0., 0.],\n",
       "       [0., 0., 0., ..., 0., 0., 0.],\n",
       "       [0., 0., 0., ..., 0., 0., 0.],\n",
       "       ...,\n",
       "       [0., 0., 0., ..., 0., 0., 0.],\n",
       "       [0., 0., 0., ..., 0., 0., 0.],\n",
       "       [0., 0., 0., ..., 0., 0., 0.]])"
      ]
     },
     "execution_count": 44,
     "metadata": {},
     "output_type": "execute_result"
    }
   ],
   "source": [
    "tdp_x"
   ]
  },
  {
   "cell_type": "code",
   "execution_count": 45,
   "id": "7cade729",
   "metadata": {},
   "outputs": [
    {
     "data": {
      "text/plain": [
       "0      1.0\n",
       "1      0.0\n",
       "2      0.0\n",
       "3      0.0\n",
       "4      1.0\n",
       "      ... \n",
       "496    0.0\n",
       "497    1.0\n",
       "498    1.0\n",
       "499    2.0\n",
       "501    1.0\n",
       "Name: num_emotion, Length: 481, dtype: float64"
      ]
     },
     "execution_count": 45,
     "metadata": {},
     "output_type": "execute_result"
    }
   ],
   "source": [
    "tdp_y"
   ]
  },
  {
   "cell_type": "markdown",
   "id": "ae1fcd4f",
   "metadata": {},
   "source": [
    "# Spliting data into training and testing"
   ]
  },
  {
   "cell_type": "code",
   "execution_count": 46,
   "id": "770bab08",
   "metadata": {},
   "outputs": [],
   "source": [
    "from sklearn.model_selection import train_test_split"
   ]
  },
  {
   "cell_type": "markdown",
   "id": "0d109c46",
   "metadata": {},
   "source": [
    "### YSRCP"
   ]
  },
  {
   "cell_type": "code",
   "execution_count": 47,
   "id": "5183256e",
   "metadata": {},
   "outputs": [],
   "source": [
    "ysrcp_x_train,ysrcp_x_test,ysrcp_y_train,ysrcp_y_test = \\\n",
    "        train_test_split(ysrcp_x,ysrcp_y,test_size=0.25,random_state=42)"
   ]
  },
  {
   "cell_type": "code",
   "execution_count": 48,
   "id": "a871f4d0",
   "metadata": {},
   "outputs": [
    {
     "name": "stdout",
     "output_type": "stream",
     "text": [
      "[[0. 0. 0. ... 0. 0. 0.]\n",
      " [0. 0. 0. ... 0. 0. 0.]\n",
      " [0. 0. 0. ... 0. 0. 0.]\n",
      " ...\n",
      " [0. 0. 0. ... 0. 0. 0.]\n",
      " [0. 0. 0. ... 0. 0. 0.]\n",
      " [0. 0. 0. ... 0. 0. 0.]]\n",
      "[[0. 0. 0. ... 0. 0. 0.]\n",
      " [0. 0. 0. ... 0. 0. 0.]\n",
      " [0. 0. 0. ... 0. 0. 0.]\n",
      " ...\n",
      " [0. 0. 0. ... 0. 0. 0.]\n",
      " [0. 0. 0. ... 0. 0. 0.]\n",
      " [0. 0. 0. ... 0. 0. 0.]]\n"
     ]
    }
   ],
   "source": [
    "print(ysrcp_x_train)\n",
    "print(ysrcp_x_test)"
   ]
  },
  {
   "cell_type": "code",
   "execution_count": 49,
   "id": "2d6b4465",
   "metadata": {},
   "outputs": [
    {
     "name": "stdout",
     "output_type": "stream",
     "text": [
      "601    1.0\n",
      "575    1.0\n",
      "349    0.0\n",
      "335    1.0\n",
      "557    1.0\n",
      "      ... \n",
      "72     1.0\n",
      "108    1.0\n",
      "273    0.0\n",
      "440    1.0\n",
      "104    0.0\n",
      "Name: num_emotion, Length: 448, dtype: float64 112    1.0\n",
      "290    0.0\n",
      "572    1.0\n",
      "78     0.0\n",
      "184    1.0\n",
      "      ... \n",
      "119    1.0\n",
      "386    1.0\n",
      "409    1.0\n",
      "33     1.0\n",
      "0      1.0\n",
      "Name: num_emotion, Length: 150, dtype: float64\n"
     ]
    }
   ],
   "source": [
    "print(ysrcp_y_train,ysrcp_y_test)"
   ]
  },
  {
   "cell_type": "code",
   "execution_count": 50,
   "id": "e303f736",
   "metadata": {},
   "outputs": [
    {
     "name": "stdout",
     "output_type": "stream",
     "text": [
      "(448, 1491) (150, 1491)\n",
      "(448,) (150,)\n"
     ]
    }
   ],
   "source": [
    "print(ysrcp_x_train.shape,ysrcp_x_test.shape)\n",
    "print(ysrcp_y_train.shape,ysrcp_y_test.shape)"
   ]
  },
  {
   "cell_type": "markdown",
   "id": "a82f2f51",
   "metadata": {},
   "source": [
    "### TDP"
   ]
  },
  {
   "cell_type": "code",
   "execution_count": 51,
   "id": "e4c48b6d",
   "metadata": {},
   "outputs": [],
   "source": [
    "tdp_x_train,tdp_x_test,tdp_y_train,tdp_y_test = \\\n",
    "        train_test_split(tdp_x,tdp_y,test_size=0.25,random_state=42)"
   ]
  },
  {
   "cell_type": "code",
   "execution_count": 52,
   "id": "b2242e56",
   "metadata": {},
   "outputs": [
    {
     "name": "stdout",
     "output_type": "stream",
     "text": [
      "[[0. 0. 0. ... 0. 0. 0.]\n",
      " [0. 0. 0. ... 0. 0. 0.]\n",
      " [0. 0. 0. ... 0. 0. 0.]\n",
      " ...\n",
      " [0. 0. 0. ... 0. 0. 0.]\n",
      " [0. 0. 0. ... 0. 0. 0.]\n",
      " [0. 0. 0. ... 0. 0. 0.]]\n",
      "[[0. 0. 0. ... 0. 0. 0.]\n",
      " [0. 0. 0. ... 0. 0. 0.]\n",
      " [0. 0. 0. ... 0. 0. 0.]\n",
      " ...\n",
      " [0. 0. 0. ... 0. 0. 0.]\n",
      " [0. 0. 0. ... 0. 0. 0.]\n",
      " [0. 0. 0. ... 0. 0. 0.]]\n"
     ]
    }
   ],
   "source": [
    "print(tdp_x_train)\n",
    "print(tdp_x_test)"
   ]
  },
  {
   "cell_type": "code",
   "execution_count": 53,
   "id": "d7e57b1e",
   "metadata": {},
   "outputs": [
    {
     "name": "stdout",
     "output_type": "stream",
     "text": [
      "68     1.0\n",
      "408    0.0\n",
      "88     0.0\n",
      "32     0.0\n",
      "86     1.0\n",
      "      ... \n",
      "108    1.0\n",
      "277    0.0\n",
      "356    0.0\n",
      "450    1.0\n",
      "104    0.0\n",
      "Name: num_emotion, Length: 360, dtype: float64 75     0.0\n",
      "429    0.0\n",
      "403    0.0\n",
      "285    0.0\n",
      "412    1.0\n",
      "      ... \n",
      "178    1.0\n",
      "239    0.0\n",
      "415    0.0\n",
      "25     1.0\n",
      "18     1.0\n",
      "Name: num_emotion, Length: 121, dtype: float64\n"
     ]
    }
   ],
   "source": [
    "print(tdp_y_train,tdp_y_test)"
   ]
  },
  {
   "cell_type": "markdown",
   "id": "b8b244de",
   "metadata": {},
   "source": [
    "# MODEL SELECTION"
   ]
  },
  {
   "cell_type": "raw",
   "id": "daa950c8",
   "metadata": {},
   "source": [
    "SUPERVISED LEARNING:\n",
    "\n",
    "    Probabilistic Algorithms\n",
    "        Navies Bayes \n",
    "            1. mulitnomial\n",
    "            2. guassian\n",
    "        3. Logistic Regression\n",
    "        4. Linear Discriminant Analysis (LDA)\n",
    "        \n",
    "        \n",
    "    Non-Probabilistic Algorithms\n",
    "        5. Decision Tree\n",
    "        6. Random Forest\n",
    "        7. Support Vector Machine\n",
    "        8. KNN\n",
    "    \n",
    "    \n",
    "DEEP LEARNING:\n",
    "    Neural Network \n",
    "         9. LSTM"
   ]
  },
  {
   "cell_type": "markdown",
   "id": "5531f934",
   "metadata": {},
   "source": [
    "# MODEL TRAINING"
   ]
  },
  {
   "cell_type": "markdown",
   "id": "7f01e637",
   "metadata": {},
   "source": [
    "### YSRCP"
   ]
  },
  {
   "cell_type": "markdown",
   "id": "82dfb84e",
   "metadata": {},
   "source": [
    "1. `Multinomial Naive Bayes`"
   ]
  },
  {
   "cell_type": "code",
   "execution_count": 54,
   "id": "4688a69f",
   "metadata": {},
   "outputs": [
    {
     "data": {
      "text/plain": [
       "MultinomialNB()"
      ]
     },
     "execution_count": 54,
     "metadata": {},
     "output_type": "execute_result"
    }
   ],
   "source": [
    "from sklearn.naive_bayes import MultinomialNB\n",
    "ysrcp_mnb = MultinomialNB()\n",
    "ysrcp_mnb.fit(ysrcp_x_train,ysrcp_y_train)"
   ]
  },
  {
   "cell_type": "code",
   "execution_count": 55,
   "id": "d745c642",
   "metadata": {},
   "outputs": [
    {
     "data": {
      "text/plain": [
       "array([1., 1., 1., 1., 1., 1., 1., 1., 1., 1., 1., 1., 1., 1., 1., 1., 1.,\n",
       "       1., 1., 1., 1., 1., 1., 1., 1., 1., 1., 1., 1., 1., 1., 1., 1., 1.,\n",
       "       1., 1., 1., 1., 1., 1., 1., 1., 1., 1., 1., 1., 1., 1., 1., 1., 1.,\n",
       "       1., 1., 1., 1., 1., 1., 1., 1., 1., 0., 1., 1., 1., 1., 1., 1., 1.,\n",
       "       0., 1., 1., 0., 1., 1., 1., 1., 1., 1., 1., 1., 1., 1., 1., 1., 1.,\n",
       "       1., 1., 1., 1., 1., 0., 1., 1., 1., 1., 1., 1., 1., 1., 1., 1., 1.,\n",
       "       1., 1., 1., 1., 1., 1., 1., 1., 1., 1., 1., 1., 1., 1., 1., 1., 1.,\n",
       "       1., 1., 1., 1., 1., 1., 1., 1., 1., 0., 1., 1., 1., 1., 1., 1., 1.,\n",
       "       1., 1., 1., 1., 1., 1., 1., 1., 1., 1., 1., 1., 1., 1.])"
      ]
     },
     "execution_count": 55,
     "metadata": {},
     "output_type": "execute_result"
    }
   ],
   "source": [
    "ysrcp_mnb_pred = ysrcp_mnb.predict(ysrcp_x_test)\n",
    "ysrcp_mnb_pred"
   ]
  },
  {
   "cell_type": "code",
   "execution_count": 56,
   "id": "d4868db6",
   "metadata": {},
   "outputs": [
    {
     "name": "stdout",
     "output_type": "stream",
     "text": [
      "Training score :  0.7879464285714286\n",
      "Testing score  :  0.7\n"
     ]
    }
   ],
   "source": [
    "print('Training score : ',ysrcp_mnb.score(ysrcp_x_train,ysrcp_y_train))\n",
    "print('Testing score  : ',ysrcp_mnb.score(ysrcp_x_test,ysrcp_y_test))"
   ]
  },
  {
   "cell_type": "code",
   "execution_count": 57,
   "id": "50948195",
   "metadata": {},
   "outputs": [],
   "source": [
    "from sklearn.metrics import precision_score, recall_score, f1_score, accuracy_score"
   ]
  },
  {
   "cell_type": "code",
   "execution_count": 58,
   "id": "dd95be6a",
   "metadata": {},
   "outputs": [
    {
     "name": "stdout",
     "output_type": "stream",
     "text": [
      "Accuracy by MNB  :  0.7\n",
      "Precision by MNB :  0.5632183908045977\n",
      "Recall by MNB    :  0.37209302325581395\n",
      "F1 score by MNB  :  0.3415532879818594\n"
     ]
    }
   ],
   "source": [
    "ysrcp_mnb_acc = accuracy_score(ysrcp_y_test,ysrcp_mnb_pred)\n",
    "ysrcp_mnb_pr  = precision_score(ysrcp_y_test,ysrcp_mnb_pred,average='macro',zero_division=0.0)\n",
    "ysrcp_mnb_rec = recall_score(ysrcp_y_test,ysrcp_mnb_pred,average='macro',zero_division=0.0)\n",
    "ysrcp_mnb_f1  = f1_score(ysrcp_y_test,ysrcp_mnb_pred,average='macro',zero_division=0.0)\n",
    "print('Accuracy by MNB  : ', ysrcp_mnb_acc)\n",
    "print('Precision by MNB : ', ysrcp_mnb_pr)\n",
    "print('Recall by MNB    : ', ysrcp_mnb_rec)\n",
    "print('F1 score by MNB  : ', ysrcp_mnb_f1)"
   ]
  },
  {
   "cell_type": "code",
   "execution_count": 59,
   "id": "f8d4f973",
   "metadata": {},
   "outputs": [],
   "source": [
    "from sklearn.metrics import classification_report, confusion_matrix"
   ]
  },
  {
   "cell_type": "code",
   "execution_count": 60,
   "id": "8583e1e9",
   "metadata": {},
   "outputs": [
    {
     "name": "stdout",
     "output_type": "stream",
     "text": [
      "[[  5  38   0]\n",
      " [  0 100   0]\n",
      " [  0   7   0]]\n",
      "              precision    recall  f1-score   support\n",
      "\n",
      "         0.0       1.00      0.12      0.21        43\n",
      "         1.0       0.69      1.00      0.82       100\n",
      "         2.0       0.00      0.00      0.00         7\n",
      "\n",
      "    accuracy                           0.70       150\n",
      "   macro avg       0.56      0.37      0.34       150\n",
      "weighted avg       0.75      0.70      0.60       150\n",
      "\n"
     ]
    },
    {
     "name": "stderr",
     "output_type": "stream",
     "text": [
      "C:\\Users\\posah\\anacondap\\lib\\site-packages\\sklearn\\metrics\\_classification.py:1318: UndefinedMetricWarning: Precision and F-score are ill-defined and being set to 0.0 in labels with no predicted samples. Use `zero_division` parameter to control this behavior.\n",
      "  _warn_prf(average, modifier, msg_start, len(result))\n",
      "C:\\Users\\posah\\anacondap\\lib\\site-packages\\sklearn\\metrics\\_classification.py:1318: UndefinedMetricWarning: Precision and F-score are ill-defined and being set to 0.0 in labels with no predicted samples. Use `zero_division` parameter to control this behavior.\n",
      "  _warn_prf(average, modifier, msg_start, len(result))\n",
      "C:\\Users\\posah\\anacondap\\lib\\site-packages\\sklearn\\metrics\\_classification.py:1318: UndefinedMetricWarning: Precision and F-score are ill-defined and being set to 0.0 in labels with no predicted samples. Use `zero_division` parameter to control this behavior.\n",
      "  _warn_prf(average, modifier, msg_start, len(result))\n"
     ]
    }
   ],
   "source": [
    "print(confusion_matrix(ysrcp_y_test,ysrcp_mnb_pred))\n",
    "print(classification_report(ysrcp_y_test,ysrcp_mnb_pred))"
   ]
  },
  {
   "cell_type": "markdown",
   "id": "99c00cc1",
   "metadata": {},
   "source": [
    "2. `Gaussian Navies Bayes`"
   ]
  },
  {
   "cell_type": "code",
   "execution_count": 61,
   "id": "a3a656ed",
   "metadata": {},
   "outputs": [],
   "source": [
    "from sklearn.naive_bayes import GaussianNB"
   ]
  },
  {
   "cell_type": "code",
   "execution_count": 62,
   "id": "6f375cef",
   "metadata": {},
   "outputs": [
    {
     "data": {
      "text/plain": [
       "GaussianNB()"
      ]
     },
     "execution_count": 62,
     "metadata": {},
     "output_type": "execute_result"
    }
   ],
   "source": [
    "ysrcp_gnb = GaussianNB()\n",
    "ysrcp_gnb.fit(ysrcp_x_train,ysrcp_y_train)"
   ]
  },
  {
   "cell_type": "code",
   "execution_count": 63,
   "id": "cd28ba8d",
   "metadata": {},
   "outputs": [
    {
     "data": {
      "text/plain": [
       "array([0., 1., 0., 1., 0., 1., 0., 1., 0., 1., 0., 1., 1., 1., 0., 1., 0.,\n",
       "       1., 1., 0., 1., 1., 2., 0., 0., 0., 1., 0., 1., 0., 1., 0., 1., 0.,\n",
       "       1., 1., 0., 0., 0., 1., 1., 1., 1., 1., 1., 0., 1., 0., 0., 2., 1.,\n",
       "       1., 0., 2., 2., 0., 0., 0., 1., 1., 0., 0., 1., 2., 1., 0., 1., 1.,\n",
       "       0., 2., 1., 0., 0., 0., 2., 0., 1., 1., 0., 1., 0., 0., 0., 0., 0.,\n",
       "       1., 1., 1., 1., 0., 0., 1., 1., 0., 0., 0., 1., 0., 0., 1., 2., 0.,\n",
       "       1., 1., 0., 1., 0., 1., 0., 1., 1., 1., 1., 2., 0., 0., 1., 2., 1.,\n",
       "       1., 0., 1., 0., 0., 1., 1., 0., 1., 0., 0., 1., 0., 1., 2., 1., 0.,\n",
       "       1., 1., 2., 0., 0., 0., 1., 1., 0., 1., 1., 1., 0., 1.])"
      ]
     },
     "execution_count": 63,
     "metadata": {},
     "output_type": "execute_result"
    }
   ],
   "source": [
    "ysrcp_gnb_pred = ysrcp_gnb.predict(ysrcp_x_test)\n",
    "ysrcp_gnb_pred"
   ]
  },
  {
   "cell_type": "code",
   "execution_count": 64,
   "id": "cbafb541",
   "metadata": {},
   "outputs": [
    {
     "name": "stdout",
     "output_type": "stream",
     "text": [
      "Training Score :  0.7723214285714286\n",
      "Testing Score  :  0.44666666666666666\n"
     ]
    }
   ],
   "source": [
    "print(\"Training Score : \",ysrcp_gnb.score(ysrcp_x_train,ysrcp_y_train))\n",
    "print(\"Testing Score  : \",ysrcp_gnb.score(ysrcp_x_test,ysrcp_y_test))"
   ]
  },
  {
   "cell_type": "code",
   "execution_count": 65,
   "id": "cc5f6092",
   "metadata": {},
   "outputs": [
    {
     "name": "stdout",
     "output_type": "stream",
     "text": [
      "Accuracy by MNB  :  0.44666666666666666\n",
      "Precision by MNB :  0.364057239057239\n",
      "Recall by MNB    :  0.3914396456256921\n",
      "F1 score by MNB  :  0.36243772435141614\n"
     ]
    }
   ],
   "source": [
    "ysrcp_gnb_acc = accuracy_score(ysrcp_y_test,ysrcp_gnb_pred)\n",
    "ysrcp_gnb_pr  = precision_score(ysrcp_y_test,ysrcp_gnb_pred,average='macro')\n",
    "ysrcp_gnb_rec = recall_score(ysrcp_y_test,ysrcp_gnb_pred,average='macro')\n",
    "ysrcp_gnb_f1  = f1_score(ysrcp_y_test,ysrcp_gnb_pred,average='macro')\n",
    "print('Accuracy by MNB  : ', ysrcp_gnb_acc)\n",
    "print('Precision by MNB : ', ysrcp_gnb_pr)\n",
    "print('Recall by MNB    : ', ysrcp_gnb_rec)\n",
    "print('F1 score by MNB  : ', ysrcp_gnb_f1)"
   ]
  },
  {
   "cell_type": "code",
   "execution_count": 66,
   "id": "ad3aa6ec",
   "metadata": {},
   "outputs": [
    {
     "name": "stdout",
     "output_type": "stream",
     "text": [
      "[[18 21  4]\n",
      " [47 47  6]\n",
      " [ 1  4  2]]\n",
      "              precision    recall  f1-score   support\n",
      "\n",
      "         0.0       0.27      0.42      0.33        43\n",
      "         1.0       0.65      0.47      0.55       100\n",
      "         2.0       0.17      0.29      0.21         7\n",
      "\n",
      "    accuracy                           0.45       150\n",
      "   macro avg       0.36      0.39      0.36       150\n",
      "weighted avg       0.52      0.45      0.47       150\n",
      "\n"
     ]
    }
   ],
   "source": [
    "print(confusion_matrix(ysrcp_y_test,ysrcp_gnb_pred))\n",
    "print(classification_report(ysrcp_y_test,ysrcp_gnb_pred))"
   ]
  },
  {
   "cell_type": "markdown",
   "id": "540722e7",
   "metadata": {},
   "source": [
    "3. `Logistic Regression`"
   ]
  },
  {
   "cell_type": "code",
   "execution_count": 67,
   "id": "7df5b0f7",
   "metadata": {},
   "outputs": [],
   "source": [
    "from sklearn.linear_model import LogisticRegression"
   ]
  },
  {
   "cell_type": "code",
   "execution_count": 68,
   "id": "8f98daab",
   "metadata": {},
   "outputs": [
    {
     "data": {
      "text/plain": [
       "LogisticRegression()"
      ]
     },
     "execution_count": 68,
     "metadata": {},
     "output_type": "execute_result"
    }
   ],
   "source": [
    "ysrcp_lr = LogisticRegression()\n",
    "ysrcp_lr.fit(ysrcp_x_train,ysrcp_y_train)"
   ]
  },
  {
   "cell_type": "code",
   "execution_count": 69,
   "id": "1310f5e7",
   "metadata": {},
   "outputs": [
    {
     "data": {
      "text/plain": [
       "array([1., 1., 1., 1., 1., 1., 1., 1., 0., 1., 1., 1., 1., 1., 1., 1., 1.,\n",
       "       1., 1., 1., 1., 1., 1., 1., 1., 1., 1., 1., 1., 1., 0., 1., 1., 1.,\n",
       "       1., 1., 1., 1., 1., 1., 1., 1., 1., 1., 1., 1., 1., 1., 1., 1., 1.,\n",
       "       1., 1., 1., 1., 1., 1., 1., 1., 1., 0., 1., 1., 1., 1., 1., 1., 1.,\n",
       "       1., 1., 1., 1., 1., 1., 1., 1., 1., 1., 1., 1., 1., 1., 1., 1., 1.,\n",
       "       1., 1., 1., 1., 1., 0., 1., 1., 1., 1., 1., 1., 1., 1., 1., 1., 1.,\n",
       "       1., 1., 0., 1., 1., 1., 0., 1., 1., 1., 1., 1., 1., 1., 1., 1., 1.,\n",
       "       1., 1., 1., 1., 1., 1., 1., 1., 1., 0., 1., 1., 1., 1., 1., 1., 1.,\n",
       "       1., 1., 1., 1., 1., 1., 1., 1., 1., 1., 1., 1., 1., 1.])"
      ]
     },
     "execution_count": 69,
     "metadata": {},
     "output_type": "execute_result"
    }
   ],
   "source": [
    "ysrcp_lr_pred = ysrcp_lr.predict(ysrcp_x_test)\n",
    "ysrcp_lr_pred"
   ]
  },
  {
   "cell_type": "code",
   "execution_count": 70,
   "id": "d2c255c2",
   "metadata": {},
   "outputs": [
    {
     "name": "stdout",
     "output_type": "stream",
     "text": [
      "Training Score :  0.9017857142857143\n",
      "Testing Score  :  0.7133333333333334\n"
     ]
    }
   ],
   "source": [
    "print(\"Training Score : \",ysrcp_lr.score(ysrcp_x_train,ysrcp_y_train))\n",
    "print(\"Testing Score  : \",ysrcp_lr.score(ysrcp_x_test,ysrcp_y_test))"
   ]
  },
  {
   "cell_type": "code",
   "execution_count": 71,
   "id": "fcc20771",
   "metadata": {},
   "outputs": [
    {
     "name": "stdout",
     "output_type": "stream",
     "text": [
      "Accuracy by MNB  :  0.7133333333333334\n",
      "Precision by MNB :  0.5664335664335663\n",
      "Recall by MNB    :  0.3875968992248062\n",
      "F1 score by MNB  :  0.367681755829904\n"
     ]
    }
   ],
   "source": [
    "ysrcp_lr_acc = accuracy_score(ysrcp_y_test,ysrcp_lr_pred)\n",
    "ysrcp_lr_pr  = precision_score(ysrcp_y_test,ysrcp_lr_pred,average='macro',zero_division=0.0)\n",
    "ysrcp_lr_rec = recall_score(ysrcp_y_test,ysrcp_lr_pred,average='macro',zero_division=0.0)\n",
    "ysrcp_lr_f1  = f1_score(ysrcp_y_test,ysrcp_lr_pred,average='macro',zero_division=0.0)\n",
    "print('Accuracy by MNB  : ', ysrcp_lr_acc)\n",
    "print('Precision by MNB : ', ysrcp_lr_pr)\n",
    "print('Recall by MNB    : ', ysrcp_lr_rec)\n",
    "print('F1 score by MNB  : ', ysrcp_lr_f1)"
   ]
  },
  {
   "cell_type": "code",
   "execution_count": 72,
   "id": "a04b10c4",
   "metadata": {},
   "outputs": [
    {
     "name": "stdout",
     "output_type": "stream",
     "text": [
      "[[  7  36   0]\n",
      " [  0 100   0]\n",
      " [  0   7   0]]\n",
      "              precision    recall  f1-score   support\n",
      "\n",
      "         0.0       1.00      0.16      0.28        43\n",
      "         1.0       0.70      1.00      0.82       100\n",
      "         2.0       0.00      0.00      0.00         7\n",
      "\n",
      "    accuracy                           0.71       150\n",
      "   macro avg       0.57      0.39      0.37       150\n",
      "weighted avg       0.75      0.71      0.63       150\n",
      "\n"
     ]
    },
    {
     "name": "stderr",
     "output_type": "stream",
     "text": [
      "C:\\Users\\posah\\anacondap\\lib\\site-packages\\sklearn\\metrics\\_classification.py:1318: UndefinedMetricWarning: Precision and F-score are ill-defined and being set to 0.0 in labels with no predicted samples. Use `zero_division` parameter to control this behavior.\n",
      "  _warn_prf(average, modifier, msg_start, len(result))\n",
      "C:\\Users\\posah\\anacondap\\lib\\site-packages\\sklearn\\metrics\\_classification.py:1318: UndefinedMetricWarning: Precision and F-score are ill-defined and being set to 0.0 in labels with no predicted samples. Use `zero_division` parameter to control this behavior.\n",
      "  _warn_prf(average, modifier, msg_start, len(result))\n",
      "C:\\Users\\posah\\anacondap\\lib\\site-packages\\sklearn\\metrics\\_classification.py:1318: UndefinedMetricWarning: Precision and F-score are ill-defined and being set to 0.0 in labels with no predicted samples. Use `zero_division` parameter to control this behavior.\n",
      "  _warn_prf(average, modifier, msg_start, len(result))\n"
     ]
    }
   ],
   "source": [
    "print(confusion_matrix(ysrcp_y_test,ysrcp_lr_pred))\n",
    "print(classification_report(ysrcp_y_test,ysrcp_lr_pred))"
   ]
  },
  {
   "cell_type": "markdown",
   "id": "31bebc1d",
   "metadata": {},
   "source": [
    "4. `Linear Discriminant Analysis`"
   ]
  },
  {
   "cell_type": "code",
   "execution_count": 73,
   "id": "5864f496",
   "metadata": {},
   "outputs": [],
   "source": [
    "from sklearn.discriminant_analysis import LinearDiscriminantAnalysis"
   ]
  },
  {
   "cell_type": "code",
   "execution_count": 74,
   "id": "f33e6100",
   "metadata": {},
   "outputs": [
    {
     "data": {
      "text/plain": [
       "LinearDiscriminantAnalysis()"
      ]
     },
     "execution_count": 74,
     "metadata": {},
     "output_type": "execute_result"
    }
   ],
   "source": [
    "ysrcp_lda = LinearDiscriminantAnalysis()\n",
    "ysrcp_lda.fit(ysrcp_x_train,ysrcp_y_train)"
   ]
  },
  {
   "cell_type": "code",
   "execution_count": 75,
   "id": "3631ce39",
   "metadata": {},
   "outputs": [
    {
     "data": {
      "text/plain": [
       "array([1., 1., 1., 0., 1., 1., 0., 1., 0., 0., 1., 1., 1., 1., 1., 1., 1.,\n",
       "       1., 1., 1., 0., 1., 1., 1., 1., 1., 1., 1., 1., 1., 0., 1., 1., 0.,\n",
       "       1., 1., 1., 1., 1., 1., 1., 1., 1., 1., 1., 1., 1., 0., 1., 1., 1.,\n",
       "       1., 1., 1., 1., 1., 1., 1., 1., 1., 0., 1., 1., 1., 1., 1., 1., 1.,\n",
       "       1., 1., 1., 1., 1., 0., 0., 1., 1., 1., 1., 1., 1., 1., 1., 0., 1.,\n",
       "       1., 1., 1., 1., 1., 0., 1., 1., 1., 0., 1., 1., 1., 0., 1., 1., 0.,\n",
       "       1., 1., 0., 1., 1., 0., 0., 1., 1., 1., 1., 1., 1., 1., 1., 1., 1.,\n",
       "       1., 1., 1., 1., 1., 1., 1., 1., 1., 0., 0., 1., 1., 1., 1., 1., 1.,\n",
       "       1., 1., 1., 1., 1., 1., 1., 1., 1., 1., 1., 1., 1., 1.])"
      ]
     },
     "execution_count": 75,
     "metadata": {},
     "output_type": "execute_result"
    }
   ],
   "source": [
    "ysrcp_lda_pred = ysrcp_lda.predict(ysrcp_x_test)\n",
    "ysrcp_lda_pred"
   ]
  },
  {
   "cell_type": "code",
   "execution_count": 76,
   "id": "5227f5b5",
   "metadata": {},
   "outputs": [
    {
     "name": "stdout",
     "output_type": "stream",
     "text": [
      "Training Score :  0.9955357142857143\n",
      "Testing Score  :  0.7333333333333333\n"
     ]
    }
   ],
   "source": [
    "print(\"Training Score : \",ysrcp_lda.score(ysrcp_x_train,ysrcp_y_train))\n",
    "print(\"Testing Score  : \",ysrcp_lda.score(ysrcp_x_test,ysrcp_y_test))"
   ]
  },
  {
   "cell_type": "code",
   "execution_count": 77,
   "id": "ed548549",
   "metadata": {},
   "outputs": [
    {
     "name": "stdout",
     "output_type": "stream",
     "text": [
      "Accuracy by lda  :  0.7333333333333333\n",
      "Precision by lda :  0.4835732742709487\n",
      "Recall by lda    :  0.4329457364341085\n",
      "F1 score by lda  :  0.43281477438136823\n"
     ]
    }
   ],
   "source": [
    "ysrcp_lda_acc = accuracy_score(ysrcp_y_test,ysrcp_lda_pred)\n",
    "ysrcp_lda_pr  = precision_score(ysrcp_y_test,ysrcp_lda_pred,average='macro',zero_division=0.0)\n",
    "ysrcp_lda_rec = recall_score(ysrcp_y_test,ysrcp_lda_pred,average='macro',zero_division=0.0)\n",
    "ysrcp_lda_f1  = f1_score(ysrcp_y_test,ysrcp_lda_pred,average='macro',zero_division=0.0)\n",
    "print('Accuracy by lda  : ', ysrcp_lda_acc)\n",
    "print('Precision by lda : ', ysrcp_lda_pr)\n",
    "print('Recall by lda    : ', ysrcp_lda_rec)\n",
    "print('F1 score by lda  : ', ysrcp_lda_f1)"
   ]
  },
  {
   "cell_type": "code",
   "execution_count": 78,
   "id": "e514b6d5",
   "metadata": {},
   "outputs": [
    {
     "name": "stdout",
     "output_type": "stream",
     "text": [
      "[[15 28  0]\n",
      " [ 5 95  0]\n",
      " [ 1  6  0]]\n",
      "              precision    recall  f1-score   support\n",
      "\n",
      "         0.0       0.71      0.35      0.47        43\n",
      "         1.0       0.74      0.95      0.83       100\n",
      "         2.0       0.00      0.00      0.00         7\n",
      "\n",
      "    accuracy                           0.73       150\n",
      "   macro avg       0.48      0.43      0.43       150\n",
      "weighted avg       0.70      0.73      0.69       150\n",
      "\n"
     ]
    },
    {
     "name": "stderr",
     "output_type": "stream",
     "text": [
      "C:\\Users\\posah\\anacondap\\lib\\site-packages\\sklearn\\metrics\\_classification.py:1318: UndefinedMetricWarning: Precision and F-score are ill-defined and being set to 0.0 in labels with no predicted samples. Use `zero_division` parameter to control this behavior.\n",
      "  _warn_prf(average, modifier, msg_start, len(result))\n",
      "C:\\Users\\posah\\anacondap\\lib\\site-packages\\sklearn\\metrics\\_classification.py:1318: UndefinedMetricWarning: Precision and F-score are ill-defined and being set to 0.0 in labels with no predicted samples. Use `zero_division` parameter to control this behavior.\n",
      "  _warn_prf(average, modifier, msg_start, len(result))\n",
      "C:\\Users\\posah\\anacondap\\lib\\site-packages\\sklearn\\metrics\\_classification.py:1318: UndefinedMetricWarning: Precision and F-score are ill-defined and being set to 0.0 in labels with no predicted samples. Use `zero_division` parameter to control this behavior.\n",
      "  _warn_prf(average, modifier, msg_start, len(result))\n"
     ]
    }
   ],
   "source": [
    "print(confusion_matrix(ysrcp_y_test,ysrcp_lda_pred))\n",
    "print(classification_report(ysrcp_y_test,ysrcp_lda_pred))"
   ]
  },
  {
   "cell_type": "markdown",
   "id": "2ed23f18",
   "metadata": {},
   "source": [
    "5. `Decision Tree`"
   ]
  },
  {
   "cell_type": "code",
   "execution_count": 79,
   "id": "42a0939b",
   "metadata": {},
   "outputs": [],
   "source": [
    "from sklearn.tree import DecisionTreeClassifier"
   ]
  },
  {
   "cell_type": "code",
   "execution_count": 80,
   "id": "ade5c0d4",
   "metadata": {},
   "outputs": [
    {
     "data": {
      "text/plain": [
       "DecisionTreeClassifier()"
      ]
     },
     "execution_count": 80,
     "metadata": {},
     "output_type": "execute_result"
    }
   ],
   "source": [
    "ysrcp_dt = DecisionTreeClassifier()\n",
    "ysrcp_dt.fit(ysrcp_x_train,ysrcp_y_train)"
   ]
  },
  {
   "cell_type": "code",
   "execution_count": 81,
   "id": "2874dc12",
   "metadata": {},
   "outputs": [
    {
     "data": {
      "text/plain": [
       "array([1., 1., 1., 0., 1., 1., 0., 1., 0., 1., 1., 1., 0., 0., 1., 1., 1.,\n",
       "       1., 1., 1., 0., 1., 1., 1., 1., 1., 2., 1., 1., 1., 1., 1., 1., 1.,\n",
       "       1., 1., 1., 1., 1., 1., 1., 1., 0., 1., 1., 1., 1., 0., 1., 1., 1.,\n",
       "       1., 1., 1., 1., 1., 1., 1., 1., 1., 0., 1., 1., 1., 1., 1., 1., 1.,\n",
       "       0., 1., 0., 0., 1., 1., 2., 1., 1., 1., 1., 0., 1., 1., 1., 1., 1.,\n",
       "       1., 1., 1., 1., 1., 0., 2., 1., 1., 1., 1., 1., 1., 1., 1., 1., 1.,\n",
       "       1., 1., 0., 2., 1., 0., 0., 1., 1., 1., 1., 1., 1., 1., 1., 1., 1.,\n",
       "       1., 1., 1., 1., 1., 1., 1., 1., 2., 0., 1., 1., 1., 1., 1., 1., 1.,\n",
       "       1., 1., 1., 1., 1., 1., 1., 1., 1., 1., 1., 0., 1., 1.])"
      ]
     },
     "execution_count": 81,
     "metadata": {},
     "output_type": "execute_result"
    }
   ],
   "source": [
    "ysrcp_dt_pred = ysrcp_dt.predict(ysrcp_x_test)\n",
    "ysrcp_dt_pred"
   ]
  },
  {
   "cell_type": "code",
   "execution_count": 82,
   "id": "ae36e74d",
   "metadata": {},
   "outputs": [
    {
     "name": "stdout",
     "output_type": "stream",
     "text": [
      "Training Score :  0.9977678571428571\n",
      "Testing Score  :  0.7466666666666667\n"
     ]
    }
   ],
   "source": [
    "print(\"Training Score : \",ysrcp_dt.score(ysrcp_x_train,ysrcp_y_train))\n",
    "print(\"Testing Score  : \",ysrcp_dt.score(ysrcp_x_test,ysrcp_y_test))"
   ]
  },
  {
   "cell_type": "code",
   "execution_count": 83,
   "id": "17b320ce",
   "metadata": {},
   "outputs": [
    {
     "name": "stdout",
     "output_type": "stream",
     "text": [
      "Accuracy by dt  :  0.7466666666666667\n",
      "Precision by dt :  0.6329156223893065\n",
      "Recall by dt    :  0.523765227021041\n",
      "F1 score by dt  :  0.5448345862276778\n"
     ]
    }
   ],
   "source": [
    "ysrcp_dt_acc = accuracy_score(ysrcp_y_test,ysrcp_dt_pred)\n",
    "ysrcp_dt_pr  = precision_score(ysrcp_y_test,ysrcp_dt_pred,average='macro')\n",
    "ysrcp_dt_rec = recall_score(ysrcp_y_test,ysrcp_dt_pred,average='macro')\n",
    "ysrcp_dt_f1  = f1_score(ysrcp_y_test,ysrcp_dt_pred,average='macro')\n",
    "print('Accuracy by dt  : ', ysrcp_dt_acc)\n",
    "print('Precision by dt : ', ysrcp_dt_pr)\n",
    "print('Recall by dt    : ', ysrcp_dt_rec)\n",
    "print('F1 score by dt  : ', ysrcp_dt_f1)"
   ]
  },
  {
   "cell_type": "code",
   "execution_count": 84,
   "id": "c346e35d",
   "metadata": {},
   "outputs": [
    {
     "name": "stdout",
     "output_type": "stream",
     "text": [
      "[[14 26  3]\n",
      " [ 4 96  0]\n",
      " [ 1  4  2]]\n",
      "              precision    recall  f1-score   support\n",
      "\n",
      "         0.0       0.74      0.33      0.45        43\n",
      "         1.0       0.76      0.96      0.85       100\n",
      "         2.0       0.40      0.29      0.33         7\n",
      "\n",
      "    accuracy                           0.75       150\n",
      "   macro avg       0.63      0.52      0.54       150\n",
      "weighted avg       0.74      0.75      0.71       150\n",
      "\n"
     ]
    }
   ],
   "source": [
    "print(confusion_matrix(ysrcp_y_test,ysrcp_dt_pred))\n",
    "print(classification_report(ysrcp_y_test,ysrcp_dt_pred))"
   ]
  },
  {
   "cell_type": "markdown",
   "id": "de5bc29d",
   "metadata": {},
   "source": [
    "6. `Random Forest`"
   ]
  },
  {
   "cell_type": "code",
   "execution_count": 85,
   "id": "600e5e4d",
   "metadata": {},
   "outputs": [],
   "source": [
    "from sklearn.ensemble import RandomForestClassifier"
   ]
  },
  {
   "cell_type": "code",
   "execution_count": 86,
   "id": "eca71f1f",
   "metadata": {},
   "outputs": [
    {
     "data": {
      "text/plain": [
       "RandomForestClassifier(random_state=42)"
      ]
     },
     "execution_count": 86,
     "metadata": {},
     "output_type": "execute_result"
    }
   ],
   "source": [
    "ysrcp_rf = RandomForestClassifier(n_estimators=100, random_state=42)\n",
    "ysrcp_rf.fit(ysrcp_x_train,ysrcp_y_train)"
   ]
  },
  {
   "cell_type": "code",
   "execution_count": 87,
   "id": "aaaf658c",
   "metadata": {},
   "outputs": [
    {
     "data": {
      "text/plain": [
       "array([1., 1., 1., 0., 1., 1., 0., 1., 0., 1., 1., 1., 1., 1., 1., 1., 1.,\n",
       "       1., 1., 1., 0., 1., 1., 1., 1., 1., 1., 1., 1., 1., 1., 1., 1., 1.,\n",
       "       1., 1., 1., 1., 1., 1., 1., 1., 1., 1., 1., 1., 1., 1., 1., 1., 1.,\n",
       "       1., 1., 1., 1., 1., 1., 1., 1., 1., 0., 1., 1., 1., 1., 1., 1., 1.,\n",
       "       1., 1., 1., 1., 1., 1., 1., 1., 1., 1., 1., 1., 1., 1., 1., 1., 1.,\n",
       "       1., 1., 1., 1., 1., 0., 1., 1., 1., 1., 1., 1., 1., 1., 1., 1., 1.,\n",
       "       1., 1., 0., 2., 1., 1., 0., 1., 1., 1., 1., 1., 1., 1., 1., 1., 1.,\n",
       "       1., 1., 1., 1., 1., 1., 1., 1., 2., 0., 1., 1., 1., 1., 1., 1., 1.,\n",
       "       1., 1., 1., 1., 1., 1., 1., 1., 1., 1., 1., 1., 1., 1.])"
      ]
     },
     "execution_count": 87,
     "metadata": {},
     "output_type": "execute_result"
    }
   ],
   "source": [
    "ysrcp_rf_pred = ysrcp_rf.predict(ysrcp_x_test)\n",
    "ysrcp_rf_pred"
   ]
  },
  {
   "cell_type": "code",
   "execution_count": 88,
   "id": "52800f87",
   "metadata": {},
   "outputs": [
    {
     "name": "stdout",
     "output_type": "stream",
     "text": [
      "Training Score :  0.9977678571428571\n",
      "Testing Score  :  0.74\n"
     ]
    }
   ],
   "source": [
    "print(\"Training Score : \",ysrcp_rf.score(ysrcp_x_train,ysrcp_y_train))\n",
    "print(\"Testing Score  : \",ysrcp_rf.score(ysrcp_x_test,ysrcp_y_test))"
   ]
  },
  {
   "cell_type": "code",
   "execution_count": 89,
   "id": "52ef7ddc",
   "metadata": {},
   "outputs": [
    {
     "name": "stdout",
     "output_type": "stream",
     "text": [
      "Accuracy by rf  :  0.74\n",
      "Precision by rf :  0.9064748201438849\n",
      "Recall by rf    :  0.4983388704318936\n",
      "F1 score by rf  :  0.5424727914267663\n"
     ]
    }
   ],
   "source": [
    "ysrcp_rf_acc = accuracy_score(ysrcp_y_test,ysrcp_rf_pred)\n",
    "ysrcp_rf_pr  = precision_score(ysrcp_y_test,ysrcp_rf_pred,average='macro')\n",
    "ysrcp_rf_rec = recall_score(ysrcp_y_test,ysrcp_rf_pred,average='macro')\n",
    "ysrcp_rf_f1  = f1_score(ysrcp_y_test,ysrcp_rf_pred,average='macro')\n",
    "print('Accuracy by rf  : ', ysrcp_rf_acc)\n",
    "print('Precision by rf : ', ysrcp_rf_pr)\n",
    "print('Recall by rf    : ', ysrcp_rf_rec)\n",
    "print('F1 score by rf  : ', ysrcp_rf_f1)"
   ]
  },
  {
   "cell_type": "code",
   "execution_count": 90,
   "id": "2c7ae5aa",
   "metadata": {},
   "outputs": [
    {
     "name": "stdout",
     "output_type": "stream",
     "text": [
      "[[  9  34   0]\n",
      " [  0 100   0]\n",
      " [  0   5   2]]\n",
      "              precision    recall  f1-score   support\n",
      "\n",
      "         0.0       1.00      0.21      0.35        43\n",
      "         1.0       0.72      1.00      0.84       100\n",
      "         2.0       1.00      0.29      0.44         7\n",
      "\n",
      "    accuracy                           0.74       150\n",
      "   macro avg       0.91      0.50      0.54       150\n",
      "weighted avg       0.81      0.74      0.68       150\n",
      "\n"
     ]
    }
   ],
   "source": [
    "print(confusion_matrix(ysrcp_y_test,ysrcp_rf_pred))\n",
    "print(classification_report(ysrcp_y_test,ysrcp_rf_pred))"
   ]
  },
  {
   "cell_type": "markdown",
   "id": "b9e8d6c8",
   "metadata": {},
   "source": [
    "7. `Support Vector machine`"
   ]
  },
  {
   "cell_type": "code",
   "execution_count": 91,
   "id": "ee9b4b44",
   "metadata": {},
   "outputs": [],
   "source": [
    "from sklearn.svm import SVC"
   ]
  },
  {
   "cell_type": "code",
   "execution_count": 92,
   "id": "fa731bf7",
   "metadata": {},
   "outputs": [
    {
     "data": {
      "text/plain": [
       "SVC(kernel='linear', random_state=42)"
      ]
     },
     "execution_count": 92,
     "metadata": {},
     "output_type": "execute_result"
    }
   ],
   "source": [
    "ysrcp_svm = SVC(kernel='linear', C=1.0, random_state=42)\n",
    "ysrcp_svm.fit(ysrcp_x_train,ysrcp_y_train)"
   ]
  },
  {
   "cell_type": "code",
   "execution_count": 93,
   "id": "d1ba4b16",
   "metadata": {},
   "outputs": [
    {
     "data": {
      "text/plain": [
       "array([1., 1., 1., 0., 1., 1., 0., 1., 0., 1., 1., 1., 1., 1., 1., 1., 0.,\n",
       "       1., 1., 1., 0., 1., 1., 1., 1., 1., 1., 1., 1., 1., 0., 1., 1., 1.,\n",
       "       1., 1., 1., 1., 1., 1., 1., 1., 1., 1., 1., 1., 1., 0., 1., 1., 1.,\n",
       "       1., 1., 1., 1., 1., 1., 1., 1., 1., 0., 1., 1., 1., 1., 1., 1., 1.,\n",
       "       1., 1., 1., 1., 1., 1., 1., 1., 1., 1., 1., 1., 1., 1., 1., 1., 1.,\n",
       "       1., 1., 1., 1., 1., 0., 1., 1., 1., 1., 1., 1., 1., 0., 1., 1., 1.,\n",
       "       1., 1., 0., 1., 1., 1., 0., 1., 1., 1., 1., 1., 1., 1., 1., 1., 1.,\n",
       "       1., 1., 0., 1., 1., 1., 1., 1., 1., 0., 1., 0., 1., 1., 1., 1., 1.,\n",
       "       1., 1., 1., 1., 1., 1., 1., 1., 1., 1., 1., 1., 1., 1.])"
      ]
     },
     "execution_count": 93,
     "metadata": {},
     "output_type": "execute_result"
    }
   ],
   "source": [
    "ysrcp_svm_pred = ysrcp_svm.predict(ysrcp_x_test)\n",
    "ysrcp_svm_pred"
   ]
  },
  {
   "cell_type": "code",
   "execution_count": 94,
   "id": "cbcb301a",
   "metadata": {},
   "outputs": [
    {
     "name": "stdout",
     "output_type": "stream",
     "text": [
      "Training Score :  0.9754464285714286\n",
      "Testing Score  :  0.7466666666666667\n"
     ]
    }
   ],
   "source": [
    "print(\"Training Score : \",ysrcp_svm.score(ysrcp_x_train,ysrcp_y_train))\n",
    "print(\"Testing Score  : \",ysrcp_svm.score(ysrcp_x_test,ysrcp_y_test))"
   ]
  },
  {
   "cell_type": "code",
   "execution_count": 95,
   "id": "b4e4f8f6",
   "metadata": {},
   "outputs": [
    {
     "name": "stdout",
     "output_type": "stream",
     "text": [
      "Accuracy by svm  :  0.7466666666666667\n",
      "Precision by svm :  0.5333333333333333\n",
      "Recall by svm    :  0.4307751937984496\n",
      "F1 score by svm  :  0.43027635118610913\n"
     ]
    }
   ],
   "source": [
    "ysrcp_svm_acc = accuracy_score(ysrcp_y_test,ysrcp_svm_pred)\n",
    "ysrcp_svm_pr  = precision_score(ysrcp_y_test,ysrcp_svm_pred,average='macro',zero_division=0.0)\n",
    "ysrcp_svm_rec = recall_score(ysrcp_y_test,ysrcp_svm_pred,average='macro',zero_division=0.0)\n",
    "ysrcp_svm_f1  = f1_score(ysrcp_y_test,ysrcp_svm_pred,average='macro',zero_division=0.0)\n",
    "print('Accuracy by svm  : ', ysrcp_svm_acc)\n",
    "print('Precision by svm : ', ysrcp_svm_pr)\n",
    "print('Recall by svm    : ', ysrcp_svm_rec)\n",
    "print('F1 score by svm  : ', ysrcp_svm_f1)"
   ]
  },
  {
   "cell_type": "code",
   "execution_count": 96,
   "id": "cfac87f0",
   "metadata": {},
   "outputs": [
    {
     "name": "stdout",
     "output_type": "stream",
     "text": [
      "[[13 30  0]\n",
      " [ 1 99  0]\n",
      " [ 1  6  0]]\n",
      "              precision    recall  f1-score   support\n",
      "\n",
      "         0.0       0.87      0.30      0.45        43\n",
      "         1.0       0.73      0.99      0.84       100\n",
      "         2.0       0.00      0.00      0.00         7\n",
      "\n",
      "    accuracy                           0.75       150\n",
      "   macro avg       0.53      0.43      0.43       150\n",
      "weighted avg       0.74      0.75      0.69       150\n",
      "\n"
     ]
    },
    {
     "name": "stderr",
     "output_type": "stream",
     "text": [
      "C:\\Users\\posah\\anacondap\\lib\\site-packages\\sklearn\\metrics\\_classification.py:1318: UndefinedMetricWarning: Precision and F-score are ill-defined and being set to 0.0 in labels with no predicted samples. Use `zero_division` parameter to control this behavior.\n",
      "  _warn_prf(average, modifier, msg_start, len(result))\n",
      "C:\\Users\\posah\\anacondap\\lib\\site-packages\\sklearn\\metrics\\_classification.py:1318: UndefinedMetricWarning: Precision and F-score are ill-defined and being set to 0.0 in labels with no predicted samples. Use `zero_division` parameter to control this behavior.\n",
      "  _warn_prf(average, modifier, msg_start, len(result))\n",
      "C:\\Users\\posah\\anacondap\\lib\\site-packages\\sklearn\\metrics\\_classification.py:1318: UndefinedMetricWarning: Precision and F-score are ill-defined and being set to 0.0 in labels with no predicted samples. Use `zero_division` parameter to control this behavior.\n",
      "  _warn_prf(average, modifier, msg_start, len(result))\n"
     ]
    }
   ],
   "source": [
    "print(confusion_matrix(ysrcp_y_test,ysrcp_svm_pred))\n",
    "print(classification_report(ysrcp_y_test,ysrcp_svm_pred))"
   ]
  },
  {
   "cell_type": "markdown",
   "id": "7f551cad",
   "metadata": {},
   "source": [
    "8. `KNN`"
   ]
  },
  {
   "cell_type": "code",
   "execution_count": 97,
   "id": "50bfa56f",
   "metadata": {},
   "outputs": [],
   "source": [
    "from sklearn.neighbors import KNeighborsClassifier"
   ]
  },
  {
   "cell_type": "code",
   "execution_count": 98,
   "id": "fafb3db7",
   "metadata": {},
   "outputs": [
    {
     "data": {
      "text/plain": [
       "KNeighborsClassifier()"
      ]
     },
     "execution_count": 98,
     "metadata": {},
     "output_type": "execute_result"
    }
   ],
   "source": [
    "ysrcp_knn = KNeighborsClassifier(n_neighbors=5)\n",
    "ysrcp_knn.fit(ysrcp_x_train,ysrcp_y_train)"
   ]
  },
  {
   "cell_type": "code",
   "execution_count": 99,
   "id": "1b4bb384",
   "metadata": {},
   "outputs": [
    {
     "data": {
      "text/plain": [
       "array([1., 1., 1., 0., 1., 1., 1., 1., 0., 1., 1., 1., 1., 1., 1., 1., 0.,\n",
       "       1., 1., 1., 0., 1., 1., 1., 1., 1., 1., 1., 1., 1., 0., 1., 1., 1.,\n",
       "       1., 1., 1., 1., 1., 1., 1., 1., 1., 1., 1., 1., 1., 0., 1., 0., 1.,\n",
       "       1., 1., 1., 1., 1., 1., 1., 1., 1., 0., 1., 1., 1., 1., 1., 1., 1.,\n",
       "       0., 1., 1., 0., 1., 1., 1., 1., 1., 1., 0., 1., 1., 1., 1., 1., 1.,\n",
       "       1., 1., 1., 1., 1., 0., 1., 1., 1., 1., 1., 1., 1., 0., 1., 1., 1.,\n",
       "       1., 1., 0., 1., 1., 1., 0., 1., 1., 1., 1., 1., 1., 1., 1., 1., 1.,\n",
       "       1., 1., 1., 1., 1., 1., 1., 1., 1., 0., 1., 1., 1., 1., 1., 1., 1.,\n",
       "       1., 1., 1., 1., 1., 1., 1., 1., 0., 1., 1., 1., 1., 1.])"
      ]
     },
     "execution_count": 99,
     "metadata": {},
     "output_type": "execute_result"
    }
   ],
   "source": [
    "ysrcp_knn_pred = ysrcp_knn.predict(ysrcp_x_test)\n",
    "ysrcp_knn_pred"
   ]
  },
  {
   "cell_type": "code",
   "execution_count": 100,
   "id": "f3a16a03",
   "metadata": {},
   "outputs": [
    {
     "name": "stdout",
     "output_type": "stream",
     "text": [
      "Training Score :  0.8102678571428571\n",
      "Testing Score  :  0.7466666666666667\n"
     ]
    }
   ],
   "source": [
    "print(\"Training Score : \",ysrcp_knn.score(ysrcp_x_train,ysrcp_y_train))\n",
    "print(\"Testing Score  : \",ysrcp_knn.score(ysrcp_x_test,ysrcp_y_test))"
   ]
  },
  {
   "cell_type": "code",
   "execution_count": 101,
   "id": "047f0643",
   "metadata": {},
   "outputs": [
    {
     "name": "stdout",
     "output_type": "stream",
     "text": [
      "Accuracy by knn  :  0.7466666666666667\n",
      "Precision by knn :  0.5201238390092878\n",
      "Recall by knn    :  0.4351937984496124\n",
      "F1 score by knn  :  0.43595612780162135\n"
     ]
    }
   ],
   "source": [
    "ysrcp_knn_acc = accuracy_score(ysrcp_y_test,ysrcp_knn_pred)\n",
    "ysrcp_knn_pr  = precision_score(ysrcp_y_test,ysrcp_knn_pred,average='macro',zero_division=0.0)\n",
    "ysrcp_knn_rec = recall_score(ysrcp_y_test,ysrcp_knn_pred,average='macro',zero_division=0.0)\n",
    "ysrcp_knn_f1  = f1_score(ysrcp_y_test,ysrcp_knn_pred,average='macro',zero_division=0.0)\n",
    "print('Accuracy by knn  : ', ysrcp_knn_acc)\n",
    "print('Precision by knn : ', ysrcp_knn_pr)\n",
    "print('Recall by knn    : ', ysrcp_knn_rec)\n",
    "print('F1 score by knn  : ', ysrcp_knn_f1)"
   ]
  },
  {
   "cell_type": "code",
   "execution_count": 102,
   "id": "307d2d63",
   "metadata": {},
   "outputs": [
    {
     "name": "stdout",
     "output_type": "stream",
     "text": [
      "[[14 29  0]\n",
      " [ 2 98  0]\n",
      " [ 1  6  0]]\n",
      "              precision    recall  f1-score   support\n",
      "\n",
      "         0.0       0.82      0.33      0.47        43\n",
      "         1.0       0.74      0.98      0.84       100\n",
      "         2.0       0.00      0.00      0.00         7\n",
      "\n",
      "    accuracy                           0.75       150\n",
      "   macro avg       0.52      0.44      0.44       150\n",
      "weighted avg       0.73      0.75      0.69       150\n",
      "\n"
     ]
    },
    {
     "name": "stderr",
     "output_type": "stream",
     "text": [
      "C:\\Users\\posah\\anacondap\\lib\\site-packages\\sklearn\\metrics\\_classification.py:1318: UndefinedMetricWarning: Precision and F-score are ill-defined and being set to 0.0 in labels with no predicted samples. Use `zero_division` parameter to control this behavior.\n",
      "  _warn_prf(average, modifier, msg_start, len(result))\n",
      "C:\\Users\\posah\\anacondap\\lib\\site-packages\\sklearn\\metrics\\_classification.py:1318: UndefinedMetricWarning: Precision and F-score are ill-defined and being set to 0.0 in labels with no predicted samples. Use `zero_division` parameter to control this behavior.\n",
      "  _warn_prf(average, modifier, msg_start, len(result))\n",
      "C:\\Users\\posah\\anacondap\\lib\\site-packages\\sklearn\\metrics\\_classification.py:1318: UndefinedMetricWarning: Precision and F-score are ill-defined and being set to 0.0 in labels with no predicted samples. Use `zero_division` parameter to control this behavior.\n",
      "  _warn_prf(average, modifier, msg_start, len(result))\n"
     ]
    }
   ],
   "source": [
    "print(confusion_matrix(ysrcp_y_test,ysrcp_knn_pred))\n",
    "print(classification_report(ysrcp_y_test,ysrcp_knn_pred))"
   ]
  },
  {
   "cell_type": "markdown",
   "id": "3dacb76a",
   "metadata": {},
   "source": [
    "9. `LSTM`"
   ]
  },
  {
   "cell_type": "code",
   "execution_count": 103,
   "id": "cb79912e",
   "metadata": {},
   "outputs": [],
   "source": [
    "from keras.models import Sequential\n",
    "from keras.layers import Dense, Dropout, Flatten, SpatialDropout1D, Embedding, Bidirectional, LSTM, BatchNormalization\n",
    "from keras.callbacks import ModelCheckpoint, EarlyStopping\n",
    "from keras.utils import pad_sequences\n",
    "import tensorflow as tf\n",
    "from keras.preprocessing.text import Tokenizer"
   ]
  },
  {
   "cell_type": "code",
   "execution_count": 104,
   "id": "9ae42a58",
   "metadata": {},
   "outputs": [],
   "source": [
    "ysrcp_x_trf = [str(i) for i in ysrcp_x_train]\n",
    "tokenizer = Tokenizer(num_words = ysrcp_n_words)\n",
    "tokenizer.fit_on_texts(ysrcp_x_trf)\n",
    "\n",
    "def Tokenization_padSequences(x, maxlen = ysrcp_max_len):\n",
    "    xseq = tokenizer.texts_to_sequences(x)\n",
    "    xpad = pad_sequences(xseq, padding='post', maxlen = ysrcp_max_len)\n",
    "    return xpad\n",
    "\n",
    "ysrcp_x_tef = [str(i) for i in ysrcp_x_test]\n",
    "ysrcp_xtrain_pad = Tokenization_padSequences(ysrcp_x_trf,maxlen=ysrcp_max_len)\n",
    "ysrcp_xtest_pad = Tokenization_padSequences(ysrcp_x_tef,maxlen=ysrcp_max_len)"
   ]
  },
  {
   "cell_type": "code",
   "execution_count": 105,
   "id": "bc18745a",
   "metadata": {},
   "outputs": [
    {
     "data": {
      "text/plain": [
       "array([[1, 1, 1, ..., 0, 0, 0],\n",
       "       [1, 1, 1, ..., 0, 0, 0],\n",
       "       [1, 1, 1, ..., 0, 0, 0],\n",
       "       ...,\n",
       "       [1, 1, 1, ..., 0, 0, 0],\n",
       "       [1, 1, 1, ..., 0, 0, 0],\n",
       "       [1, 1, 1, ..., 0, 0, 0]])"
      ]
     },
     "execution_count": 105,
     "metadata": {},
     "output_type": "execute_result"
    }
   ],
   "source": [
    "ysrcp_xtrain_pad"
   ]
  },
  {
   "cell_type": "code",
   "execution_count": 106,
   "id": "ff08cf1e",
   "metadata": {},
   "outputs": [],
   "source": [
    "Metrics = [ tf.keras.metrics.BinaryAccuracy(name='accuracy'),\n",
    "            tf.keras.metrics.Precision(name = 'precision'),\n",
    "            tf.keras.metrics.Recall(name='recall'),\n",
    "            tf.keras.metrics.F1Score(name='f1-score')]"
   ]
  },
  {
   "cell_type": "code",
   "execution_count": 107,
   "id": "6120aa37",
   "metadata": {},
   "outputs": [
    {
     "name": "stdout",
     "output_type": "stream",
     "text": [
      "Model: \"sequential\"\n",
      "_________________________________________________________________\n",
      " Layer (type)                Output Shape              Param #   \n",
      "=================================================================\n",
      " embedding (Embedding)       (None, 150, 64)           96256     \n",
      "                                                                 \n",
      " spatial_dropout1d (Spatial  (None, 150, 64)           0         \n",
      " Dropout1D)                                                      \n",
      "                                                                 \n",
      " bidirectional (Bidirection  (None, 512)               657408    \n",
      " al)                                                             \n",
      "                                                                 \n",
      " dense (Dense)               (None, 1)                 513       \n",
      "                                                                 \n",
      "=================================================================\n",
      "Total params: 754177 (2.88 MB)\n",
      "Trainable params: 754177 (2.88 MB)\n",
      "Non-trainable params: 0 (0.00 Byte)\n",
      "_________________________________________________________________\n"
     ]
    }
   ],
   "source": [
    "ysrcp_lstm = Sequential()\n",
    "ysrcp_lstm.add(Embedding(ysrcp_n_words, 64, input_length=ysrcp_max_len))\n",
    "ysrcp_lstm.add(SpatialDropout1D(0.2))\n",
    "ysrcp_lstm.add(Bidirectional(LSTM(256, dropout=0.2)))\n",
    "ysrcp_lstm.add(Dense(1, activation ='sigmoid'))\n",
    "ysrcp_lstm.compile(optimizer='Adam', metrics= Metrics, loss = 'binary_crossentropy')\n",
    "ysrcp_lstm.summary()"
   ]
  },
  {
   "cell_type": "code",
   "execution_count": 108,
   "id": "7aaad0ca",
   "metadata": {},
   "outputs": [
    {
     "name": "stdout",
     "output_type": "stream",
     "text": [
      "Epoch 1/5\n",
      "14/14 [==============================] - 14s 796ms/step - loss: 0.6344 - accuracy: 0.7009 - precision: 0.7885 - recall: 0.9266 - f1-score: 0.9126\n",
      "Epoch 2/5\n",
      "14/14 [==============================] - 11s 788ms/step - loss: 0.4486 - accuracy: 0.7411 - precision: 0.7902 - recall: 1.0000 - f1-score: 0.9126\n",
      "Epoch 3/5\n",
      "14/14 [==============================] - 15s 1s/step - loss: 0.4512 - accuracy: 0.7411 - precision: 0.7902 - recall: 1.0000 - f1-score: 0.9126\n",
      "Epoch 4/5\n",
      "14/14 [==============================] - 14s 938ms/step - loss: 0.4446 - accuracy: 0.7411 - precision: 0.7902 - recall: 1.0000 - f1-score: 0.9126\n",
      "Epoch 5/5\n",
      "14/14 [==============================] - 12s 876ms/step - loss: 0.4406 - accuracy: 0.7411 - precision: 0.7902 - recall: 1.0000 - f1-score: 0.9126\n"
     ]
    },
    {
     "data": {
      "text/plain": [
       "<keras.src.callbacks.History at 0x26aa43bcdc0>"
      ]
     },
     "execution_count": 108,
     "metadata": {},
     "output_type": "execute_result"
    }
   ],
   "source": [
    "ysrcp_lstm.fit(ysrcp_xtrain_pad, ysrcp_y_train, epochs=5)"
   ]
  },
  {
   "cell_type": "code",
   "execution_count": 109,
   "id": "ee3b0f65",
   "metadata": {},
   "outputs": [
    {
     "name": "stdout",
     "output_type": "stream",
     "text": [
      "5/5 [==============================] - 1s 97ms/step\n",
      "[[  0  43   0]\n",
      " [  0 100   0]\n",
      " [  0   7   0]]\n",
      "              precision    recall  f1-score   support\n",
      "\n",
      "         0.0       0.00      0.00      0.00        43\n",
      "         1.0       0.67      1.00      0.80       100\n",
      "         2.0       0.00      0.00      0.00         7\n",
      "\n",
      "    accuracy                           0.67       150\n",
      "   macro avg       0.22      0.33      0.27       150\n",
      "weighted avg       0.44      0.67      0.53       150\n",
      "\n"
     ]
    },
    {
     "name": "stderr",
     "output_type": "stream",
     "text": [
      "C:\\Users\\posah\\anacondap\\lib\\site-packages\\sklearn\\metrics\\_classification.py:1318: UndefinedMetricWarning: Precision and F-score are ill-defined and being set to 0.0 in labels with no predicted samples. Use `zero_division` parameter to control this behavior.\n",
      "  _warn_prf(average, modifier, msg_start, len(result))\n",
      "C:\\Users\\posah\\anacondap\\lib\\site-packages\\sklearn\\metrics\\_classification.py:1318: UndefinedMetricWarning: Precision and F-score are ill-defined and being set to 0.0 in labels with no predicted samples. Use `zero_division` parameter to control this behavior.\n",
      "  _warn_prf(average, modifier, msg_start, len(result))\n",
      "C:\\Users\\posah\\anacondap\\lib\\site-packages\\sklearn\\metrics\\_classification.py:1318: UndefinedMetricWarning: Precision and F-score are ill-defined and being set to 0.0 in labels with no predicted samples. Use `zero_division` parameter to control this behavior.\n",
      "  _warn_prf(average, modifier, msg_start, len(result))\n"
     ]
    }
   ],
   "source": [
    "ysrcp_lstm_pred = (ysrcp_lstm.predict(ysrcp_xtest_pad) > 0.5).astype(int)\n",
    "print(confusion_matrix(ysrcp_y_test,ysrcp_lstm_pred))\n",
    "print(classification_report(ysrcp_y_test, ysrcp_lstm_pred))"
   ]
  },
  {
   "cell_type": "code",
   "execution_count": 110,
   "id": "ffcf5da8",
   "metadata": {},
   "outputs": [
    {
     "name": "stdout",
     "output_type": "stream",
     "text": [
      "Accuracy by lstm  :  0.6666666666666666\n",
      "Precision by lstm :  0.2222222222222222\n",
      "Recall by lstm    :  0.3333333333333333\n",
      "F1 score by lstm  :  0.26666666666666666\n"
     ]
    }
   ],
   "source": [
    "ysrcp_lstm_acc = accuracy_score(ysrcp_y_test, ysrcp_lstm_pred)\n",
    "ysrcp_lstm_pr  = precision_score(ysrcp_y_test, ysrcp_lstm_pred,average='macro',zero_division=0.0)\n",
    "ysrcp_lstm_rec = recall_score(ysrcp_y_test, ysrcp_lstm_pred,average='macro',zero_division=0.0)\n",
    "ysrcp_lstm_f1  = f1_score(ysrcp_y_test, ysrcp_lstm_pred,average='macro',zero_division=0.0)\n",
    "print('Accuracy by lstm  : ', ysrcp_lstm_acc)\n",
    "print('Precision by lstm : ', ysrcp_lstm_pr)\n",
    "print('Recall by lstm    : ', ysrcp_lstm_rec)\n",
    "print('F1 score by lstm  : ', ysrcp_lstm_f1)"
   ]
  },
  {
   "cell_type": "markdown",
   "id": "1db506cc",
   "metadata": {},
   "source": [
    "### TDP"
   ]
  },
  {
   "cell_type": "markdown",
   "id": "efb839b4",
   "metadata": {},
   "source": [
    "1. `Multinomial Naive Bayes`"
   ]
  },
  {
   "cell_type": "code",
   "execution_count": 111,
   "id": "e167f5cc",
   "metadata": {},
   "outputs": [
    {
     "data": {
      "text/plain": [
       "MultinomialNB()"
      ]
     },
     "execution_count": 111,
     "metadata": {},
     "output_type": "execute_result"
    }
   ],
   "source": [
    "tdp_mnb = MultinomialNB()\n",
    "tdp_mnb.fit(tdp_x_train,tdp_y_train)"
   ]
  },
  {
   "cell_type": "code",
   "execution_count": 112,
   "id": "f18fd0f0",
   "metadata": {},
   "outputs": [
    {
     "data": {
      "text/plain": [
       "array([0., 0., 1., 0., 0., 0., 0., 0., 0., 0., 0., 0., 0., 0., 0., 0., 0.,\n",
       "       0., 1., 0., 0., 0., 0., 1., 0., 0., 1., 1., 0., 0., 0., 0., 0., 0.,\n",
       "       1., 0., 0., 0., 1., 0., 0., 1., 0., 1., 0., 0., 0., 0., 0., 0., 0.,\n",
       "       0., 1., 0., 0., 0., 1., 0., 1., 0., 1., 1., 0., 1., 0., 1., 0., 0.,\n",
       "       0., 0., 0., 0., 0., 0., 0., 1., 0., 0., 1., 0., 0., 0., 0., 0., 0.,\n",
       "       1., 1., 1., 0., 0., 0., 0., 0., 0., 0., 1., 1., 0., 1., 0., 0., 0.,\n",
       "       0., 1., 0., 0., 1., 1., 1., 0., 0., 0., 0., 0., 1., 0., 1., 0., 0.,\n",
       "       0., 0.])"
      ]
     },
     "execution_count": 112,
     "metadata": {},
     "output_type": "execute_result"
    }
   ],
   "source": [
    "tdp_mnb_pred = tdp_mnb.predict(tdp_x_test)\n",
    "tdp_mnb_pred"
   ]
  },
  {
   "cell_type": "code",
   "execution_count": 113,
   "id": "4c55b52a",
   "metadata": {},
   "outputs": [
    {
     "name": "stdout",
     "output_type": "stream",
     "text": [
      "Training score :  0.8916666666666667\n",
      "Testing score  :  0.743801652892562\n"
     ]
    }
   ],
   "source": [
    "print('Training score : ',tdp_mnb.score(tdp_x_train,tdp_y_train))\n",
    "print('Testing score  : ',tdp_mnb.score(tdp_x_test,tdp_y_test))"
   ]
  },
  {
   "cell_type": "code",
   "execution_count": 114,
   "id": "910bcede",
   "metadata": {},
   "outputs": [
    {
     "name": "stdout",
     "output_type": "stream",
     "text": [
      "Accuracy by mnb  :  0.743801652892562\n",
      "Precision by mnb :  0.5307692307692308\n",
      "Recall by mnb    :  0.5181818181818182\n",
      "F1 score by mnb  :  0.507515923566879\n"
     ]
    }
   ],
   "source": [
    "tdp_mnb_acc = accuracy_score(tdp_y_test,tdp_mnb_pred)\n",
    "tdp_mnb_pr  = precision_score(tdp_y_test,tdp_mnb_pred,average='macro',zero_division=0.0)\n",
    "tdp_mnb_rec = recall_score(tdp_y_test,tdp_mnb_pred,average='macro',zero_division=0.0)\n",
    "tdp_mnb_f1  = f1_score(tdp_y_test,tdp_mnb_pred,average='macro',zero_division=0.0)\n",
    "print('Accuracy by mnb  : ', tdp_mnb_acc)\n",
    "print('Precision by mnb : ', tdp_mnb_pr)\n",
    "print('Recall by mnb    : ', tdp_mnb_rec)\n",
    "print('F1 score by mnb  : ', tdp_mnb_f1)"
   ]
  },
  {
   "cell_type": "code",
   "execution_count": 115,
   "id": "9fbb555e",
   "metadata": {},
   "outputs": [
    {
     "name": "stdout",
     "output_type": "stream",
     "text": [
      "[[63  3  0]\n",
      " [18 27  0]\n",
      " [10  0  0]]\n",
      "              precision    recall  f1-score   support\n",
      "\n",
      "         0.0       0.69      0.95      0.80        66\n",
      "         1.0       0.90      0.60      0.72        45\n",
      "         2.0       0.00      0.00      0.00        10\n",
      "\n",
      "    accuracy                           0.74       121\n",
      "   macro avg       0.53      0.52      0.51       121\n",
      "weighted avg       0.71      0.74      0.71       121\n",
      "\n"
     ]
    },
    {
     "name": "stderr",
     "output_type": "stream",
     "text": [
      "C:\\Users\\posah\\anacondap\\lib\\site-packages\\sklearn\\metrics\\_classification.py:1318: UndefinedMetricWarning: Precision and F-score are ill-defined and being set to 0.0 in labels with no predicted samples. Use `zero_division` parameter to control this behavior.\n",
      "  _warn_prf(average, modifier, msg_start, len(result))\n",
      "C:\\Users\\posah\\anacondap\\lib\\site-packages\\sklearn\\metrics\\_classification.py:1318: UndefinedMetricWarning: Precision and F-score are ill-defined and being set to 0.0 in labels with no predicted samples. Use `zero_division` parameter to control this behavior.\n",
      "  _warn_prf(average, modifier, msg_start, len(result))\n",
      "C:\\Users\\posah\\anacondap\\lib\\site-packages\\sklearn\\metrics\\_classification.py:1318: UndefinedMetricWarning: Precision and F-score are ill-defined and being set to 0.0 in labels with no predicted samples. Use `zero_division` parameter to control this behavior.\n",
      "  _warn_prf(average, modifier, msg_start, len(result))\n"
     ]
    }
   ],
   "source": [
    "print(confusion_matrix(tdp_y_test,tdp_mnb_pred))\n",
    "print(classification_report(tdp_y_test,tdp_mnb_pred))"
   ]
  },
  {
   "cell_type": "markdown",
   "id": "35dc0be2",
   "metadata": {},
   "source": [
    "2. `Gaussian Navies Bayes`"
   ]
  },
  {
   "cell_type": "code",
   "execution_count": 116,
   "id": "e68d4217",
   "metadata": {},
   "outputs": [
    {
     "data": {
      "text/plain": [
       "GaussianNB()"
      ]
     },
     "execution_count": 116,
     "metadata": {},
     "output_type": "execute_result"
    }
   ],
   "source": [
    "tdp_gnb = GaussianNB()\n",
    "tdp_gnb.fit(tdp_x_train,tdp_y_train)"
   ]
  },
  {
   "cell_type": "code",
   "execution_count": 117,
   "id": "62e93a2a",
   "metadata": {},
   "outputs": [
    {
     "data": {
      "text/plain": [
       "array([0., 2., 1., 0., 0., 2., 0., 1., 0., 1., 0., 0., 1., 0., 1., 0., 0.,\n",
       "       1., 1., 2., 2., 2., 1., 1., 0., 0., 1., 1., 1., 1., 0., 0., 2., 1.,\n",
       "       1., 0., 0., 1., 1., 0., 0., 1., 1., 1., 2., 1., 1., 0., 1., 0., 2.,\n",
       "       2., 1., 2., 0., 0., 1., 1., 1., 2., 1., 1., 0., 0., 1., 1., 2., 0.,\n",
       "       0., 0., 1., 0., 0., 1., 1., 1., 1., 1., 1., 0., 1., 0., 0., 0., 0.,\n",
       "       1., 1., 1., 1., 1., 0., 1., 2., 0., 0., 1., 1., 0., 1., 0., 1., 0.,\n",
       "       0., 1., 0., 0., 1., 1., 1., 1., 1., 1., 1., 1., 1., 0., 1., 1., 0.,\n",
       "       1., 0.])"
      ]
     },
     "execution_count": 117,
     "metadata": {},
     "output_type": "execute_result"
    }
   ],
   "source": [
    "tdp_gnb_pred = tdp_gnb.predict(tdp_x_test)\n",
    "tdp_gnb_pred"
   ]
  },
  {
   "cell_type": "code",
   "execution_count": 118,
   "id": "00b6abfd",
   "metadata": {},
   "outputs": [
    {
     "name": "stdout",
     "output_type": "stream",
     "text": [
      "Training Score :  0.925\n",
      "Testing Score  :  0.5289256198347108\n"
     ]
    }
   ],
   "source": [
    "print(\"Training Score : \",tdp_gnb.score(tdp_x_train,tdp_y_train))\n",
    "print(\"Testing Score  : \",tdp_gnb.score(tdp_x_test,tdp_y_test))"
   ]
  },
  {
   "cell_type": "code",
   "execution_count": 119,
   "id": "f3aef030",
   "metadata": {},
   "outputs": [
    {
     "name": "stdout",
     "output_type": "stream",
     "text": [
      "Accuracy by gnb  :  0.5289256198347108\n",
      "Precision by gnb :  0.45911101521199704\n",
      "Recall by gnb    :  0.4835016835016835\n",
      "F1 score by gnb  :  0.4589525163986765\n"
     ]
    }
   ],
   "source": [
    "tdp_gnb_acc = accuracy_score(tdp_y_test,tdp_gnb_pred)\n",
    "tdp_gnb_pr  = precision_score(tdp_y_test,tdp_gnb_pred,average='macro')\n",
    "tdp_gnb_rec = recall_score(tdp_y_test,tdp_gnb_pred,average='macro')\n",
    "tdp_gnb_f1  = f1_score(tdp_y_test,tdp_gnb_pred,average='macro')\n",
    "print('Accuracy by gnb  : ', tdp_gnb_acc)\n",
    "print('Precision by gnb : ', tdp_gnb_pr)\n",
    "print('Recall by gnb    : ', tdp_gnb_rec)\n",
    "print('F1 score by gnb  : ', tdp_gnb_f1)"
   ]
  },
  {
   "cell_type": "code",
   "execution_count": 120,
   "id": "2ea6b3a9",
   "metadata": {},
   "outputs": [
    {
     "name": "stdout",
     "output_type": "stream",
     "text": [
      "[[29 29  8]\n",
      " [11 32  2]\n",
      " [ 6  1  3]]\n",
      "              precision    recall  f1-score   support\n",
      "\n",
      "         0.0       0.63      0.44      0.52        66\n",
      "         1.0       0.52      0.71      0.60        45\n",
      "         2.0       0.23      0.30      0.26        10\n",
      "\n",
      "    accuracy                           0.53       121\n",
      "   macro avg       0.46      0.48      0.46       121\n",
      "weighted avg       0.55      0.53      0.53       121\n",
      "\n"
     ]
    }
   ],
   "source": [
    "print(confusion_matrix(tdp_y_test,tdp_gnb_pred))\n",
    "print(classification_report(tdp_y_test,tdp_gnb_pred))"
   ]
  },
  {
   "cell_type": "markdown",
   "id": "b927668f",
   "metadata": {},
   "source": [
    "3. `Logistic Regression`"
   ]
  },
  {
   "cell_type": "code",
   "execution_count": 121,
   "id": "96976ce6",
   "metadata": {},
   "outputs": [
    {
     "data": {
      "text/plain": [
       "LogisticRegression()"
      ]
     },
     "execution_count": 121,
     "metadata": {},
     "output_type": "execute_result"
    }
   ],
   "source": [
    "tdp_lr = LogisticRegression()\n",
    "tdp_lr.fit(tdp_x_train,tdp_y_train)"
   ]
  },
  {
   "cell_type": "code",
   "execution_count": 122,
   "id": "e8432644",
   "metadata": {},
   "outputs": [
    {
     "data": {
      "text/plain": [
       "array([0., 0., 1., 0., 0., 0., 0., 0., 0., 0., 0., 0., 0., 0., 0., 0., 0.,\n",
       "       0., 1., 0., 0., 0., 0., 1., 0., 0., 1., 0., 0., 0., 0., 0., 0., 0.,\n",
       "       1., 0., 0., 0., 0., 0., 0., 1., 0., 1., 0., 0., 0., 0., 0., 0., 0.,\n",
       "       0., 1., 0., 0., 0., 1., 0., 0., 0., 0., 1., 0., 1., 0., 1., 0., 0.,\n",
       "       0., 0., 0., 0., 0., 0., 0., 1., 0., 0., 0., 0., 0., 0., 0., 0., 0.,\n",
       "       1., 0., 1., 0., 0., 0., 0., 0., 0., 0., 1., 0., 0., 1., 0., 0., 0.,\n",
       "       0., 0., 0., 0., 1., 1., 1., 0., 0., 0., 0., 0., 1., 0., 0., 0., 0.,\n",
       "       0., 0.])"
      ]
     },
     "execution_count": 122,
     "metadata": {},
     "output_type": "execute_result"
    }
   ],
   "source": [
    "tdp_lr_pred = tdp_lr.predict(tdp_x_test)\n",
    "tdp_lr_pred"
   ]
  },
  {
   "cell_type": "code",
   "execution_count": 123,
   "id": "72122670",
   "metadata": {},
   "outputs": [
    {
     "name": "stdout",
     "output_type": "stream",
     "text": [
      "Training Score :  0.8972222222222223\n",
      "Testing Score  :  0.7024793388429752\n"
     ]
    }
   ],
   "source": [
    "print(\"Training Score : \",tdp_lr.score(tdp_x_train,tdp_y_train))\n",
    "print(\"Testing Score  : \",tdp_lr.score(tdp_x_test,tdp_y_test))"
   ]
  },
  {
   "cell_type": "code",
   "execution_count": 124,
   "id": "c4277eb9",
   "metadata": {},
   "outputs": [
    {
     "name": "stdout",
     "output_type": "stream",
     "text": [
      "Accuracy by lr  :  0.7024793388429752\n",
      "Precision by lr :  0.5341269841269841\n",
      "Recall by lr    :  0.4764309764309764\n",
      "F1 score by lr  :  0.46306437872702927\n"
     ]
    }
   ],
   "source": [
    "tdp_lr_acc = accuracy_score(tdp_y_test,tdp_lr_pred)\n",
    "tdp_lr_pr  = precision_score(tdp_y_test,tdp_lr_pred,average='macro',zero_division=0.0)\n",
    "tdp_lr_rec = recall_score(tdp_y_test,tdp_lr_pred,average='macro',zero_division=0.0)\n",
    "tdp_lr_f1  = f1_score(tdp_y_test,tdp_lr_pred,average='macro',zero_division=0.0)\n",
    "print('Accuracy by lr  : ', tdp_lr_acc)\n",
    "print('Precision by lr : ', tdp_lr_pr)\n",
    "print('Recall by lr    : ', tdp_lr_rec)\n",
    "print('F1 score by lr  : ', tdp_lr_f1)"
   ]
  },
  {
   "cell_type": "code",
   "execution_count": 125,
   "id": "cf5d8dc4",
   "metadata": {},
   "outputs": [
    {
     "name": "stdout",
     "output_type": "stream",
     "text": [
      "[[65  1  0]\n",
      " [25 20  0]\n",
      " [10  0  0]]\n",
      "              precision    recall  f1-score   support\n",
      "\n",
      "         0.0       0.65      0.98      0.78        66\n",
      "         1.0       0.95      0.44      0.61        45\n",
      "         2.0       0.00      0.00      0.00        10\n",
      "\n",
      "    accuracy                           0.70       121\n",
      "   macro avg       0.53      0.48      0.46       121\n",
      "weighted avg       0.71      0.70      0.65       121\n",
      "\n"
     ]
    },
    {
     "name": "stderr",
     "output_type": "stream",
     "text": [
      "C:\\Users\\posah\\anacondap\\lib\\site-packages\\sklearn\\metrics\\_classification.py:1318: UndefinedMetricWarning: Precision and F-score are ill-defined and being set to 0.0 in labels with no predicted samples. Use `zero_division` parameter to control this behavior.\n",
      "  _warn_prf(average, modifier, msg_start, len(result))\n",
      "C:\\Users\\posah\\anacondap\\lib\\site-packages\\sklearn\\metrics\\_classification.py:1318: UndefinedMetricWarning: Precision and F-score are ill-defined and being set to 0.0 in labels with no predicted samples. Use `zero_division` parameter to control this behavior.\n",
      "  _warn_prf(average, modifier, msg_start, len(result))\n",
      "C:\\Users\\posah\\anacondap\\lib\\site-packages\\sklearn\\metrics\\_classification.py:1318: UndefinedMetricWarning: Precision and F-score are ill-defined and being set to 0.0 in labels with no predicted samples. Use `zero_division` parameter to control this behavior.\n",
      "  _warn_prf(average, modifier, msg_start, len(result))\n"
     ]
    }
   ],
   "source": [
    "print(confusion_matrix(tdp_y_test,tdp_lr_pred))\n",
    "print(classification_report(tdp_y_test,tdp_lr_pred))"
   ]
  },
  {
   "cell_type": "markdown",
   "id": "f60a8ed7",
   "metadata": {},
   "source": [
    "4. `Linear Discriminant Analysis`"
   ]
  },
  {
   "cell_type": "code",
   "execution_count": 126,
   "id": "70836d25",
   "metadata": {},
   "outputs": [
    {
     "data": {
      "text/plain": [
       "LinearDiscriminantAnalysis()"
      ]
     },
     "execution_count": 126,
     "metadata": {},
     "output_type": "execute_result"
    }
   ],
   "source": [
    "tdp_lda = LinearDiscriminantAnalysis()\n",
    "tdp_lda.fit(tdp_x_train,tdp_y_train)"
   ]
  },
  {
   "cell_type": "code",
   "execution_count": 127,
   "id": "557defe9",
   "metadata": {},
   "outputs": [
    {
     "data": {
      "text/plain": [
       "array([0., 2., 2., 2., 2., 2., 2., 2., 0., 2., 2., 2., 2., 0., 2., 2., 0.,\n",
       "       2., 2., 2., 2., 2., 1., 1., 1., 0., 1., 2., 2., 2., 2., 2., 2., 0.,\n",
       "       1., 0., 2., 2., 2., 2., 0., 1., 2., 1., 2., 2., 2., 2., 0., 0., 2.,\n",
       "       2., 1., 2., 2., 0., 1., 1., 2., 2., 0., 2., 0., 1., 2., 1., 2., 2.,\n",
       "       0., 2., 2., 0., 2., 2., 2., 1., 0., 1., 1., 0., 2., 0., 2., 2., 2.,\n",
       "       1., 2., 1., 2., 1., 2., 0., 2., 2., 2., 1., 2., 0., 2., 0., 0., 0.,\n",
       "       2., 1., 0., 2., 2., 2., 1., 2., 0., 2., 2., 0., 1., 0., 2., 0., 2.,\n",
       "       2., 2.])"
      ]
     },
     "execution_count": 127,
     "metadata": {},
     "output_type": "execute_result"
    }
   ],
   "source": [
    "tdp_lda_pred = tdp_lda.predict(tdp_x_test)\n",
    "tdp_lda_pred"
   ]
  },
  {
   "cell_type": "code",
   "execution_count": 128,
   "id": "0caf33a1",
   "metadata": {},
   "outputs": [
    {
     "name": "stdout",
     "output_type": "stream",
     "text": [
      "Training Score :  0.9944444444444445\n",
      "Testing Score  :  0.371900826446281\n"
     ]
    }
   ],
   "source": [
    "print(\"Training Score : \",tdp_lda.score(tdp_x_train,tdp_y_train))\n",
    "print(\"Testing Score  : \",tdp_lda.score(tdp_x_test,tdp_y_test))"
   ]
  },
  {
   "cell_type": "code",
   "execution_count": 129,
   "id": "19de4ab7",
   "metadata": {},
   "outputs": [
    {
     "name": "stdout",
     "output_type": "stream",
     "text": [
      "Accuracy by lda  :  0.371900826446281\n",
      "Precision by lda :  0.5508962868117798\n",
      "Recall by lda    :  0.43939393939393945\n",
      "F1 score by lda  :  0.377423363874089\n"
     ]
    }
   ],
   "source": [
    "tdp_lda_acc = accuracy_score(tdp_y_test,tdp_lda_pred)\n",
    "tdp_lda_pr  = precision_score(tdp_y_test,tdp_lda_pred,average='macro')\n",
    "tdp_lda_rec = recall_score(tdp_y_test,tdp_lda_pred,average='macro')\n",
    "tdp_lda_f1  = f1_score(tdp_y_test,tdp_lda_pred,average='macro')\n",
    "print('Accuracy by lda  : ', tdp_lda_acc)\n",
    "print('Precision by lda : ', tdp_lda_pr)\n",
    "print('Recall by lda    : ', tdp_lda_rec)\n",
    "print('F1 score by lda  : ', tdp_lda_f1)"
   ]
  },
  {
   "cell_type": "code",
   "execution_count": 130,
   "id": "dd624531",
   "metadata": {},
   "outputs": [
    {
     "name": "stdout",
     "output_type": "stream",
     "text": [
      "[[21  4 41]\n",
      " [ 3 18 24]\n",
      " [ 4  0  6]]\n",
      "              precision    recall  f1-score   support\n",
      "\n",
      "         0.0       0.75      0.32      0.45        66\n",
      "         1.0       0.82      0.40      0.54        45\n",
      "         2.0       0.08      0.60      0.15        10\n",
      "\n",
      "    accuracy                           0.37       121\n",
      "   macro avg       0.55      0.44      0.38       121\n",
      "weighted avg       0.72      0.37      0.46       121\n",
      "\n"
     ]
    }
   ],
   "source": [
    "print(confusion_matrix(tdp_y_test,tdp_lda_pred))\n",
    "print(classification_report(tdp_y_test,tdp_lda_pred))"
   ]
  },
  {
   "cell_type": "markdown",
   "id": "7c48cc22",
   "metadata": {},
   "source": [
    "5. `Decision Tree`"
   ]
  },
  {
   "cell_type": "code",
   "execution_count": 131,
   "id": "94643a54",
   "metadata": {},
   "outputs": [
    {
     "data": {
      "text/plain": [
       "DecisionTreeClassifier()"
      ]
     },
     "execution_count": 131,
     "metadata": {},
     "output_type": "execute_result"
    }
   ],
   "source": [
    "tdp_dt = DecisionTreeClassifier()\n",
    "tdp_dt.fit(tdp_x_train,tdp_y_train)"
   ]
  },
  {
   "cell_type": "code",
   "execution_count": 132,
   "id": "f7792773",
   "metadata": {},
   "outputs": [
    {
     "data": {
      "text/plain": [
       "array([0., 0., 0., 0., 0., 0., 0., 0., 0., 0., 0., 0., 1., 0., 1., 0., 1.,\n",
       "       0., 1., 0., 0., 0., 0., 1., 0., 0., 1., 0., 0., 0., 0., 0., 0., 0.,\n",
       "       1., 1., 0., 0., 0., 1., 0., 1., 0., 1., 0., 0., 0., 0., 0., 1., 0.,\n",
       "       0., 1., 0., 1., 0., 0., 1., 1., 0., 0., 1., 0., 1., 0., 1., 0., 0.,\n",
       "       0., 0., 0., 0., 0., 0., 0., 1., 0., 1., 0., 0., 0., 0., 0., 0., 0.,\n",
       "       1., 0., 1., 0., 2., 0., 0., 0., 0., 0., 1., 1., 1., 1., 0., 0., 0.,\n",
       "       0., 1., 0., 1., 1., 0., 1., 0., 0., 1., 0., 0., 1., 0., 1., 0., 0.,\n",
       "       0., 0.])"
      ]
     },
     "execution_count": 132,
     "metadata": {},
     "output_type": "execute_result"
    }
   ],
   "source": [
    "tdp_dt_pred = tdp_dt.predict(tdp_x_test)\n",
    "tdp_dt_pred"
   ]
  },
  {
   "cell_type": "code",
   "execution_count": 133,
   "id": "08182739",
   "metadata": {},
   "outputs": [
    {
     "name": "stdout",
     "output_type": "stream",
     "text": [
      "Training Score :  0.9944444444444445\n",
      "Testing Score  :  0.6942148760330579\n"
     ]
    }
   ],
   "source": [
    "print(\"Training Score : \",tdp_dt.score(tdp_x_train,tdp_y_train))\n",
    "print(\"Testing Score  : \",tdp_dt.score(tdp_x_test,tdp_y_test))"
   ]
  },
  {
   "cell_type": "code",
   "execution_count": 134,
   "id": "7c82b245",
   "metadata": {},
   "outputs": [
    {
     "name": "stdout",
     "output_type": "stream",
     "text": [
      "Accuracy by dt  :  0.6942148760330579\n",
      "Precision by dt :  0.47970816233470126\n",
      "Recall by dt    :  0.48552188552188547\n",
      "F1 score by dt  :  0.4737952476127026\n"
     ]
    }
   ],
   "source": [
    "tdp_dt_acc = accuracy_score(tdp_y_test,tdp_dt_pred)\n",
    "tdp_dt_pr  = precision_score(tdp_y_test,tdp_dt_pred,average='macro')\n",
    "tdp_dt_rec = recall_score(tdp_y_test,tdp_dt_pred,average='macro')\n",
    "tdp_dt_f1  = f1_score(tdp_y_test,tdp_dt_pred,average='macro')\n",
    "print('Accuracy by dt  : ', tdp_dt_acc)\n",
    "print('Precision by dt : ', tdp_dt_pr)\n",
    "print('Recall by dt    : ', tdp_dt_rec)\n",
    "print('F1 score by dt  : ', tdp_dt_f1)"
   ]
  },
  {
   "cell_type": "code",
   "execution_count": 135,
   "id": "439b473b",
   "metadata": {},
   "outputs": [
    {
     "name": "stdout",
     "output_type": "stream",
     "text": [
      "[[58  7  1]\n",
      " [19 26  0]\n",
      " [ 9  1  0]]\n",
      "              precision    recall  f1-score   support\n",
      "\n",
      "         0.0       0.67      0.88      0.76        66\n",
      "         1.0       0.76      0.58      0.66        45\n",
      "         2.0       0.00      0.00      0.00        10\n",
      "\n",
      "    accuracy                           0.69       121\n",
      "   macro avg       0.48      0.49      0.47       121\n",
      "weighted avg       0.65      0.69      0.66       121\n",
      "\n"
     ]
    }
   ],
   "source": [
    "print(confusion_matrix(tdp_y_test,tdp_dt_pred))\n",
    "print(classification_report(tdp_y_test,tdp_dt_pred))"
   ]
  },
  {
   "cell_type": "markdown",
   "id": "3e0ee985",
   "metadata": {},
   "source": [
    "6. `Random Forest`"
   ]
  },
  {
   "cell_type": "code",
   "execution_count": 136,
   "id": "12e42b04",
   "metadata": {},
   "outputs": [
    {
     "data": {
      "text/plain": [
       "RandomForestClassifier(random_state=42)"
      ]
     },
     "execution_count": 136,
     "metadata": {},
     "output_type": "execute_result"
    }
   ],
   "source": [
    "tdp_rf = RandomForestClassifier(n_estimators=100, random_state=42)\n",
    "tdp_rf.fit(tdp_x_train,tdp_y_train)"
   ]
  },
  {
   "cell_type": "code",
   "execution_count": 137,
   "id": "daa3d35d",
   "metadata": {},
   "outputs": [
    {
     "data": {
      "text/plain": [
       "array([0., 0., 0., 0., 0., 0., 0., 0., 0., 0., 0., 0., 0., 0., 0., 0., 1.,\n",
       "       0., 1., 0., 0., 0., 0., 1., 0., 0., 1., 0., 0., 0., 0., 0., 0., 0.,\n",
       "       1., 1., 0., 0., 0., 0., 0., 1., 0., 1., 0., 0., 0., 1., 0., 0., 0.,\n",
       "       0., 1., 0., 0., 0., 1., 1., 1., 0., 0., 1., 0., 1., 0., 1., 0., 0.,\n",
       "       0., 0., 0., 0., 0., 0., 0., 1., 0., 1., 0., 0., 0., 0., 0., 0., 0.,\n",
       "       1., 0., 1., 0., 0., 0., 0., 0., 0., 0., 1., 0., 0., 1., 0., 0., 0.,\n",
       "       0., 1., 0., 1., 1., 0., 1., 0., 0., 0., 0., 0., 1., 0., 0., 0., 0.,\n",
       "       0., 0.])"
      ]
     },
     "execution_count": 137,
     "metadata": {},
     "output_type": "execute_result"
    }
   ],
   "source": [
    "tdp_rf_pred = tdp_rf.predict(tdp_x_test)\n",
    "tdp_rf_pred"
   ]
  },
  {
   "cell_type": "code",
   "execution_count": 138,
   "id": "dac7a6a5",
   "metadata": {},
   "outputs": [
    {
     "name": "stdout",
     "output_type": "stream",
     "text": [
      "Training Score :  0.9944444444444445\n",
      "Testing Score  :  0.7024793388429752\n"
     ]
    }
   ],
   "source": [
    "print(\"Training Score : \",tdp_rf.score(tdp_x_train,tdp_y_train))\n",
    "print(\"Testing Score  : \",tdp_rf.score(tdp_x_test,tdp_y_test))"
   ]
  },
  {
   "cell_type": "code",
   "execution_count": 139,
   "id": "54f933c4",
   "metadata": {},
   "outputs": [
    {
     "name": "stdout",
     "output_type": "stream",
     "text": [
      "Accuracy by rf  :  0.7024793388429752\n",
      "Precision by rf :  0.5038087733123194\n",
      "Recall by rf    :  0.4835016835016835\n",
      "F1 score by rf  :  0.47129629629629627\n"
     ]
    }
   ],
   "source": [
    "tdp_rf_acc = accuracy_score(tdp_y_test,tdp_rf_pred)\n",
    "tdp_rf_pr  = precision_score(tdp_y_test,tdp_rf_pred,average='macro',zero_division=0.0)\n",
    "tdp_rf_rec = recall_score(tdp_y_test,tdp_rf_pred,average='macro',zero_division=0.0)\n",
    "tdp_rf_f1  = f1_score(tdp_y_test,tdp_rf_pred,average='macro',zero_division=0.0)\n",
    "print('Accuracy by rf  : ', tdp_rf_acc)\n",
    "print('Precision by rf : ', tdp_rf_pr)\n",
    "print('Recall by rf    : ', tdp_rf_rec)\n",
    "print('F1 score by rf  : ', tdp_rf_f1)"
   ]
  },
  {
   "cell_type": "code",
   "execution_count": 140,
   "id": "ba94b946",
   "metadata": {},
   "outputs": [
    {
     "name": "stdout",
     "output_type": "stream",
     "text": [
      "[[62  4  0]\n",
      " [22 23  0]\n",
      " [10  0  0]]\n",
      "              precision    recall  f1-score   support\n",
      "\n",
      "         0.0       0.66      0.94      0.78        66\n",
      "         1.0       0.85      0.51      0.64        45\n",
      "         2.0       0.00      0.00      0.00        10\n",
      "\n",
      "    accuracy                           0.70       121\n",
      "   macro avg       0.50      0.48      0.47       121\n",
      "weighted avg       0.68      0.70      0.66       121\n",
      "\n"
     ]
    },
    {
     "name": "stderr",
     "output_type": "stream",
     "text": [
      "C:\\Users\\posah\\anacondap\\lib\\site-packages\\sklearn\\metrics\\_classification.py:1318: UndefinedMetricWarning: Precision and F-score are ill-defined and being set to 0.0 in labels with no predicted samples. Use `zero_division` parameter to control this behavior.\n",
      "  _warn_prf(average, modifier, msg_start, len(result))\n",
      "C:\\Users\\posah\\anacondap\\lib\\site-packages\\sklearn\\metrics\\_classification.py:1318: UndefinedMetricWarning: Precision and F-score are ill-defined and being set to 0.0 in labels with no predicted samples. Use `zero_division` parameter to control this behavior.\n",
      "  _warn_prf(average, modifier, msg_start, len(result))\n",
      "C:\\Users\\posah\\anacondap\\lib\\site-packages\\sklearn\\metrics\\_classification.py:1318: UndefinedMetricWarning: Precision and F-score are ill-defined and being set to 0.0 in labels with no predicted samples. Use `zero_division` parameter to control this behavior.\n",
      "  _warn_prf(average, modifier, msg_start, len(result))\n"
     ]
    }
   ],
   "source": [
    "print(confusion_matrix(tdp_y_test,tdp_rf_pred))\n",
    "print(classification_report(tdp_y_test,tdp_rf_pred))"
   ]
  },
  {
   "cell_type": "markdown",
   "id": "a4eb6a60",
   "metadata": {},
   "source": [
    "7. `Support Vector machine`"
   ]
  },
  {
   "cell_type": "code",
   "execution_count": 141,
   "id": "a96fc507",
   "metadata": {},
   "outputs": [
    {
     "data": {
      "text/plain": [
       "SVC(kernel='linear', random_state=42)"
      ]
     },
     "execution_count": 141,
     "metadata": {},
     "output_type": "execute_result"
    }
   ],
   "source": [
    "tdp_svm = SVC(kernel='linear', C=1.0, random_state=42)\n",
    "tdp_svm.fit(tdp_x_train,tdp_y_train)"
   ]
  },
  {
   "cell_type": "code",
   "execution_count": 142,
   "id": "f9a2ff93",
   "metadata": {},
   "outputs": [
    {
     "data": {
      "text/plain": [
       "array([0., 0., 1., 0., 0., 0., 0., 0., 0., 0., 0., 0., 0., 0., 0., 0., 0.,\n",
       "       0., 1., 0., 0., 0., 1., 1., 0., 0., 1., 0., 0., 0., 0., 0., 0., 0.,\n",
       "       1., 0., 0., 0., 1., 0., 0., 1., 0., 1., 0., 0., 0., 0., 0., 0., 0.,\n",
       "       0., 1., 0., 0., 0., 1., 0., 1., 0., 0., 1., 0., 1., 0., 1., 0., 0.,\n",
       "       0., 0., 0., 0., 0., 0., 0., 1., 0., 0., 0., 0., 0., 0., 0., 0., 0.,\n",
       "       1., 1., 1., 0., 0., 0., 0., 0., 0., 0., 1., 1., 0., 1., 0., 0., 0.,\n",
       "       0., 1., 0., 0., 1., 1., 1., 0., 0., 0., 0., 0., 1., 0., 1., 0., 0.,\n",
       "       0., 0.])"
      ]
     },
     "execution_count": 142,
     "metadata": {},
     "output_type": "execute_result"
    }
   ],
   "source": [
    "tdp_svm_pred = tdp_svm.predict(tdp_x_test)\n",
    "tdp_svm_pred"
   ]
  },
  {
   "cell_type": "code",
   "execution_count": 143,
   "id": "2364b3db",
   "metadata": {},
   "outputs": [
    {
     "name": "stdout",
     "output_type": "stream",
     "text": [
      "Training Score :  0.95\n",
      "Testing Score  :  0.7603305785123967\n"
     ]
    }
   ],
   "source": [
    "print(\"Training Score : \",tdp_svm.score(tdp_x_train,tdp_y_train))\n",
    "print(\"Testing Score  : \",tdp_svm.score(tdp_x_test,tdp_y_test))"
   ]
  },
  {
   "cell_type": "code",
   "execution_count": 144,
   "id": "d81c3728",
   "metadata": {},
   "outputs": [
    {
     "name": "stdout",
     "output_type": "stream",
     "text": [
      "Accuracy by svm  :  0.7603305785123967\n",
      "Precision by svm :  0.5544034818228366\n",
      "Recall by svm    :  0.5282828282828284\n",
      "F1 score by svm  :  0.5191120300967808\n"
     ]
    }
   ],
   "source": [
    "tdp_svm_acc = accuracy_score(tdp_y_test,tdp_svm_pred)\n",
    "tdp_svm_pr  = precision_score(tdp_y_test,tdp_svm_pred,average='macro',zero_division=0.0)\n",
    "tdp_svm_rec = recall_score(tdp_y_test,tdp_svm_pred,average='macro',zero_division=0.0)\n",
    "tdp_svm_f1  = f1_score(tdp_y_test,tdp_svm_pred,average='macro',zero_division=0.0)\n",
    "print('Accuracy by svm  : ', tdp_svm_acc)\n",
    "print('Precision by svm : ', tdp_svm_pr)\n",
    "print('Recall by svm    : ', tdp_svm_rec)\n",
    "print('F1 score by svm  : ', tdp_svm_f1)"
   ]
  },
  {
   "cell_type": "code",
   "execution_count": 145,
   "id": "4abba817",
   "metadata": {},
   "outputs": [
    {
     "name": "stdout",
     "output_type": "stream",
     "text": [
      "[[65  1  0]\n",
      " [18 27  0]\n",
      " [10  0  0]]\n"
     ]
    },
    {
     "name": "stderr",
     "output_type": "stream",
     "text": [
      "C:\\Users\\posah\\anacondap\\lib\\site-packages\\sklearn\\metrics\\_classification.py:1318: UndefinedMetricWarning: Precision and F-score are ill-defined and being set to 0.0 in labels with no predicted samples. Use `zero_division` parameter to control this behavior.\n",
      "  _warn_prf(average, modifier, msg_start, len(result))\n"
     ]
    },
    {
     "name": "stdout",
     "output_type": "stream",
     "text": [
      "              precision    recall  f1-score   support\n",
      "\n",
      "         0.0       0.70      0.98      0.82        66\n",
      "         1.0       0.96      0.60      0.74        45\n",
      "         2.0       0.00      0.00      0.00        10\n",
      "\n",
      "    accuracy                           0.76       121\n",
      "   macro avg       0.55      0.53      0.52       121\n",
      "weighted avg       0.74      0.76      0.72       121\n",
      "\n"
     ]
    },
    {
     "name": "stderr",
     "output_type": "stream",
     "text": [
      "C:\\Users\\posah\\anacondap\\lib\\site-packages\\sklearn\\metrics\\_classification.py:1318: UndefinedMetricWarning: Precision and F-score are ill-defined and being set to 0.0 in labels with no predicted samples. Use `zero_division` parameter to control this behavior.\n",
      "  _warn_prf(average, modifier, msg_start, len(result))\n",
      "C:\\Users\\posah\\anacondap\\lib\\site-packages\\sklearn\\metrics\\_classification.py:1318: UndefinedMetricWarning: Precision and F-score are ill-defined and being set to 0.0 in labels with no predicted samples. Use `zero_division` parameter to control this behavior.\n",
      "  _warn_prf(average, modifier, msg_start, len(result))\n"
     ]
    }
   ],
   "source": [
    "print(confusion_matrix(tdp_y_test,tdp_svm_pred))\n",
    "print(classification_report(tdp_y_test,tdp_svm_pred))"
   ]
  },
  {
   "cell_type": "markdown",
   "id": "ebb0b570",
   "metadata": {},
   "source": [
    "8. `KNN`"
   ]
  },
  {
   "cell_type": "code",
   "execution_count": 146,
   "id": "1ca48022",
   "metadata": {},
   "outputs": [
    {
     "data": {
      "text/plain": [
       "KNeighborsClassifier()"
      ]
     },
     "execution_count": 146,
     "metadata": {},
     "output_type": "execute_result"
    }
   ],
   "source": [
    "tdp_knn = KNeighborsClassifier(n_neighbors=5)\n",
    "tdp_knn.fit(tdp_x_train,tdp_y_train)"
   ]
  },
  {
   "cell_type": "code",
   "execution_count": 147,
   "id": "fca89c1d",
   "metadata": {},
   "outputs": [
    {
     "data": {
      "text/plain": [
       "array([0., 0., 1., 0., 0., 0., 1., 0., 0., 0., 0., 0., 1., 1., 1., 0., 1.,\n",
       "       0., 1., 0., 0., 0., 1., 1., 0., 0., 1., 1., 1., 0., 0., 0., 0., 0.,\n",
       "       1., 0., 0., 0., 1., 1., 0., 1., 0., 1., 0., 0., 0., 0., 0., 0., 0.,\n",
       "       0., 1., 0., 0., 0., 1., 1., 1., 0., 1., 1., 0., 1., 0., 1., 0., 0.,\n",
       "       0., 1., 0., 0., 0., 0., 0., 1., 0., 1., 1., 1., 1., 1., 0., 0., 0.,\n",
       "       1., 1., 1., 0., 0., 0., 0., 0., 0., 0., 1., 1., 0., 1., 0., 0., 0.,\n",
       "       0., 1., 0., 1., 1., 1., 1., 0., 0., 0., 0., 0., 1., 0., 1., 0., 0.,\n",
       "       1., 0.])"
      ]
     },
     "execution_count": 147,
     "metadata": {},
     "output_type": "execute_result"
    }
   ],
   "source": [
    "tdp_knn_pred = tdp_knn.predict(tdp_x_test)\n",
    "tdp_knn_pred"
   ]
  },
  {
   "cell_type": "code",
   "execution_count": 148,
   "id": "8170b019",
   "metadata": {},
   "outputs": [
    {
     "name": "stdout",
     "output_type": "stream",
     "text": [
      "Training Score :  0.7444444444444445\n",
      "Testing Score  :  0.7355371900826446\n"
     ]
    }
   ],
   "source": [
    "print(\"Training Score : \",tdp_knn.score(tdp_x_train,tdp_y_train))\n",
    "print(\"Testing Score  : \",tdp_knn.score(tdp_x_test,tdp_y_test))"
   ]
  },
  {
   "cell_type": "code",
   "execution_count": 149,
   "id": "e9775750",
   "metadata": {},
   "outputs": [
    {
     "name": "stdout",
     "output_type": "stream",
     "text": [
      "Accuracy by knn  :  0.7355371900826446\n",
      "Precision by knn :  0.4880193236714976\n",
      "Recall by knn    :  0.5272727272727272\n",
      "F1 score by knn  :  0.5065336554698256\n"
     ]
    }
   ],
   "source": [
    "tdp_knn_acc = accuracy_score(tdp_y_test,tdp_knn_pred)\n",
    "tdp_knn_pr  = precision_score(tdp_y_test,tdp_knn_pred,average='macro',zero_division=0.0)\n",
    "tdp_knn_rec = recall_score(tdp_y_test,tdp_knn_pred,average='macro',zero_division=0.0)\n",
    "tdp_knn_f1  = f1_score(tdp_y_test,tdp_knn_pred,average='macro',zero_division=0.0)\n",
    "print('Accuracy by knn  : ', tdp_knn_acc)\n",
    "print('Precision by knn : ', tdp_knn_pr)\n",
    "print('Recall by knn    : ', tdp_knn_rec)\n",
    "print('F1 score by knn  : ', tdp_knn_f1)"
   ]
  },
  {
   "cell_type": "code",
   "execution_count": 150,
   "id": "bd8638d6",
   "metadata": {},
   "outputs": [
    {
     "name": "stdout",
     "output_type": "stream",
     "text": [
      "[[56 10  0]\n",
      " [12 33  0]\n",
      " [ 7  3  0]]\n",
      "              precision    recall  f1-score   support\n",
      "\n",
      "         0.0       0.75      0.85      0.79        66\n",
      "         1.0       0.72      0.73      0.73        45\n",
      "         2.0       0.00      0.00      0.00        10\n",
      "\n",
      "    accuracy                           0.74       121\n",
      "   macro avg       0.49      0.53      0.51       121\n",
      "weighted avg       0.67      0.74      0.70       121\n",
      "\n"
     ]
    },
    {
     "name": "stderr",
     "output_type": "stream",
     "text": [
      "C:\\Users\\posah\\anacondap\\lib\\site-packages\\sklearn\\metrics\\_classification.py:1318: UndefinedMetricWarning: Precision and F-score are ill-defined and being set to 0.0 in labels with no predicted samples. Use `zero_division` parameter to control this behavior.\n",
      "  _warn_prf(average, modifier, msg_start, len(result))\n",
      "C:\\Users\\posah\\anacondap\\lib\\site-packages\\sklearn\\metrics\\_classification.py:1318: UndefinedMetricWarning: Precision and F-score are ill-defined and being set to 0.0 in labels with no predicted samples. Use `zero_division` parameter to control this behavior.\n",
      "  _warn_prf(average, modifier, msg_start, len(result))\n",
      "C:\\Users\\posah\\anacondap\\lib\\site-packages\\sklearn\\metrics\\_classification.py:1318: UndefinedMetricWarning: Precision and F-score are ill-defined and being set to 0.0 in labels with no predicted samples. Use `zero_division` parameter to control this behavior.\n",
      "  _warn_prf(average, modifier, msg_start, len(result))\n"
     ]
    }
   ],
   "source": [
    "print(confusion_matrix(tdp_y_test,tdp_knn_pred))\n",
    "print(classification_report(tdp_y_test,tdp_knn_pred))"
   ]
  },
  {
   "cell_type": "markdown",
   "id": "c59d14cb",
   "metadata": {},
   "source": [
    "9.  `LSTM`"
   ]
  },
  {
   "cell_type": "code",
   "execution_count": 151,
   "id": "b60c8530",
   "metadata": {},
   "outputs": [],
   "source": [
    "tdp_x_trf = [str(i) for i in tdp_x_train]\n",
    "tdp_x_tef = [str(i) for i in tdp_x_test]\n",
    "\n",
    "tokenizer = Tokenizer(num_words = tdp_n_words)\n",
    "tokenizer.fit_on_texts(tdp_x_trf)\n",
    "\n",
    "def Tokenization_padSequences(x, maxlen = tdp_max_len):\n",
    "    xseq = tokenizer.texts_to_sequences(x)\n",
    "    xpad = pad_sequences(xseq, padding='post', maxlen = tdp_max_len)\n",
    "    return xpad\n",
    "\n",
    "\n",
    "tdp_xtrain_pad = Tokenization_padSequences(tdp_x_trf,maxlen=tdp_max_len)\n",
    "tdp_xtest_pad = Tokenization_padSequences(tdp_x_tef,maxlen=tdp_max_len)"
   ]
  },
  {
   "cell_type": "code",
   "execution_count": 152,
   "id": "a27761b0",
   "metadata": {},
   "outputs": [
    {
     "data": {
      "text/plain": [
       "array([[1, 1, 1, ..., 0, 0, 0],\n",
       "       [1, 1, 1, ..., 0, 0, 0],\n",
       "       [1, 1, 1, ..., 0, 0, 0],\n",
       "       ...,\n",
       "       [1, 1, 1, ..., 0, 0, 0],\n",
       "       [1, 1, 1, ..., 0, 0, 0],\n",
       "       [1, 1, 1, ..., 0, 0, 0]])"
      ]
     },
     "execution_count": 152,
     "metadata": {},
     "output_type": "execute_result"
    }
   ],
   "source": [
    "tdp_xtrain_pad"
   ]
  },
  {
   "cell_type": "code",
   "execution_count": 153,
   "id": "20bae1ec",
   "metadata": {},
   "outputs": [
    {
     "name": "stdout",
     "output_type": "stream",
     "text": [
      "Model: \"sequential_1\"\n",
      "_________________________________________________________________\n",
      " Layer (type)                Output Shape              Param #   \n",
      "=================================================================\n",
      " embedding_1 (Embedding)     (None, 47, 64)            73344     \n",
      "                                                                 \n",
      " spatial_dropout1d_1 (Spati  (None, 47, 64)            0         \n",
      " alDropout1D)                                                    \n",
      "                                                                 \n",
      " bidirectional_1 (Bidirecti  (None, 512)               657408    \n",
      " onal)                                                           \n",
      "                                                                 \n",
      " dense_1 (Dense)             (None, 1)                 513       \n",
      "                                                                 \n",
      "=================================================================\n",
      "Total params: 731265 (2.79 MB)\n",
      "Trainable params: 731265 (2.79 MB)\n",
      "Non-trainable params: 0 (0.00 Byte)\n",
      "_________________________________________________________________\n"
     ]
    }
   ],
   "source": [
    "tdp_lstm = Sequential()\n",
    "tdp_lstm.add(Embedding(tdp_n_words, 64, input_length=tdp_max_len))\n",
    "tdp_lstm.add(SpatialDropout1D(0.2))\n",
    "tdp_lstm.add(Bidirectional(LSTM(256, dropout=0.2)))\n",
    "tdp_lstm.add(Dense(1, activation ='sigmoid'))\n",
    "tdp_lstm.compile(optimizer='Adam', metrics= Metrics, loss = 'binary_crossentropy')\n",
    "tdp_lstm.summary()"
   ]
  },
  {
   "cell_type": "code",
   "execution_count": 154,
   "id": "ad1e1b94",
   "metadata": {},
   "outputs": [
    {
     "name": "stdout",
     "output_type": "stream",
     "text": [
      "Epoch 1/10\n",
      "12/12 [==============================] - 5s 106ms/step - loss: 0.7049 - accuracy: 0.6473 - precision: 0.7490 - recall: 0.7328 - f1-score: 0.8178\n",
      "Epoch 2/10\n",
      "12/12 [==============================] - 1s 108ms/step - loss: 0.6942 - accuracy: 0.3528 - precision: 0.4306 - recall: 1.0000 - f1-score: 0.6740\n",
      "Epoch 3/10\n",
      "12/12 [==============================] - 1s 111ms/step - loss: 0.6948 - accuracy: 0.4139 - precision: 0.4170 - recall: 0.6645 - f1-score: 0.6740\n",
      "Epoch 4/10\n",
      "12/12 [==============================] - 1s 112ms/step - loss: 0.6934 - accuracy: 0.3528 - precision: 0.4226 - recall: 0.9161 - f1-score: 0.6740\n",
      "Epoch 5/10\n",
      "12/12 [==============================] - 1s 114ms/step - loss: 0.6936 - accuracy: 0.3500 - precision: 0.4266 - recall: 0.9742 - f1-score: 0.6740\n",
      "Epoch 6/10\n",
      "12/12 [==============================] - 1s 116ms/step - loss: 0.6937 - accuracy: 0.3528 - precision: 0.4306 - recall: 1.0000 - f1-score: 0.6740\n",
      "Epoch 7/10\n",
      "12/12 [==============================] - 2s 145ms/step - loss: 0.6937 - accuracy: 0.3528 - precision: 0.4306 - recall: 1.0000 - f1-score: 0.6740\n",
      "Epoch 8/10\n",
      "12/12 [==============================] - 2s 150ms/step - loss: 0.6948 - accuracy: 0.3528 - precision: 0.4306 - recall: 1.0000 - f1-score: 0.6740\n",
      "Epoch 9/10\n",
      "12/12 [==============================] - 2s 146ms/step - loss: 0.6957 - accuracy: 0.4194 - precision: 0.4245 - recall: 0.6710 - f1-score: 0.6740\n",
      "Epoch 10/10\n",
      "12/12 [==============================] - 2s 154ms/step - loss: 0.6932 - accuracy: 0.4250 - precision: 0.4491 - recall: 0.8258 - f1-score: 0.6740\n"
     ]
    },
    {
     "data": {
      "text/plain": [
       "<keras.src.callbacks.History at 0x26afa029910>"
      ]
     },
     "execution_count": 154,
     "metadata": {},
     "output_type": "execute_result"
    }
   ],
   "source": [
    "tdp_lstm.fit(tdp_xtrain_pad, tdp_y_train, epochs=10)"
   ]
  },
  {
   "cell_type": "code",
   "execution_count": 155,
   "id": "fd0704ec",
   "metadata": {},
   "outputs": [
    {
     "name": "stdout",
     "output_type": "stream",
     "text": [
      "4/4 [==============================] - 1s 38ms/step\n",
      "[[ 0 66  0]\n",
      " [ 0 45  0]\n",
      " [ 0 10  0]]\n",
      "              precision    recall  f1-score   support\n",
      "\n",
      "         0.0       0.00      0.00      0.00        66\n",
      "         1.0       0.37      1.00      0.54        45\n",
      "         2.0       0.00      0.00      0.00        10\n",
      "\n",
      "    accuracy                           0.37       121\n",
      "   macro avg       0.12      0.33      0.18       121\n",
      "weighted avg       0.14      0.37      0.20       121\n",
      "\n"
     ]
    },
    {
     "name": "stderr",
     "output_type": "stream",
     "text": [
      "C:\\Users\\posah\\anacondap\\lib\\site-packages\\sklearn\\metrics\\_classification.py:1318: UndefinedMetricWarning: Precision and F-score are ill-defined and being set to 0.0 in labels with no predicted samples. Use `zero_division` parameter to control this behavior.\n",
      "  _warn_prf(average, modifier, msg_start, len(result))\n",
      "C:\\Users\\posah\\anacondap\\lib\\site-packages\\sklearn\\metrics\\_classification.py:1318: UndefinedMetricWarning: Precision and F-score are ill-defined and being set to 0.0 in labels with no predicted samples. Use `zero_division` parameter to control this behavior.\n",
      "  _warn_prf(average, modifier, msg_start, len(result))\n",
      "C:\\Users\\posah\\anacondap\\lib\\site-packages\\sklearn\\metrics\\_classification.py:1318: UndefinedMetricWarning: Precision and F-score are ill-defined and being set to 0.0 in labels with no predicted samples. Use `zero_division` parameter to control this behavior.\n",
      "  _warn_prf(average, modifier, msg_start, len(result))\n"
     ]
    }
   ],
   "source": [
    "tdp_lstm_pred = (tdp_lstm.predict(tdp_xtest_pad) > 0.5).astype(int)\n",
    "print(confusion_matrix(tdp_y_test,tdp_lstm_pred))\n",
    "print(classification_report(tdp_y_test, tdp_lstm_pred))"
   ]
  },
  {
   "cell_type": "code",
   "execution_count": 156,
   "id": "b10c6161",
   "metadata": {},
   "outputs": [
    {
     "name": "stdout",
     "output_type": "stream",
     "text": [
      "Accuracy by lstm  :  0.371900826446281\n",
      "Precision by lstm :  0.12396694214876032\n",
      "Recall by lstm    :  0.3333333333333333\n",
      "F1 score by lstm  :  0.1807228915662651\n"
     ]
    }
   ],
   "source": [
    "tdp_lstm_acc = accuracy_score(tdp_y_test, tdp_lstm_pred)\n",
    "tdp_lstm_pr  = precision_score(tdp_y_test, tdp_lstm_pred,average='macro',zero_division=0.0)\n",
    "tdp_lstm_rec = recall_score(tdp_y_test, tdp_lstm_pred,average='macro',zero_division=0.0)\n",
    "tdp_lstm_f1  = f1_score(tdp_y_test, tdp_lstm_pred,average='macro',zero_division=0.0)\n",
    "print('Accuracy by lstm  : ', tdp_lstm_acc)\n",
    "print('Precision by lstm : ', tdp_lstm_pr)\n",
    "print('Recall by lstm    : ', tdp_lstm_rec)\n",
    "print('F1 score by lstm  : ', tdp_lstm_f1)"
   ]
  },
  {
   "cell_type": "code",
   "execution_count": 157,
   "id": "7ab053a3",
   "metadata": {},
   "outputs": [
    {
     "data": {
      "text/html": [
       "<div>\n",
       "<style scoped>\n",
       "    .dataframe tbody tr th:only-of-type {\n",
       "        vertical-align: middle;\n",
       "    }\n",
       "\n",
       "    .dataframe tbody tr th {\n",
       "        vertical-align: top;\n",
       "    }\n",
       "\n",
       "    .dataframe thead th {\n",
       "        text-align: right;\n",
       "    }\n",
       "</style>\n",
       "<table border=\"1\" class=\"dataframe\">\n",
       "  <thead>\n",
       "    <tr style=\"text-align: right;\">\n",
       "      <th></th>\n",
       "      <th>Accuracy</th>\n",
       "      <th>Precision (mean)</th>\n",
       "      <th>Recall (mean)</th>\n",
       "      <th>F1-Score (mean)</th>\n",
       "    </tr>\n",
       "  </thead>\n",
       "  <tbody>\n",
       "    <tr>\n",
       "      <th>Multinomial Navies Bayes</th>\n",
       "      <td>0.700000</td>\n",
       "      <td>0.563218</td>\n",
       "      <td>0.372093</td>\n",
       "      <td>0.341553</td>\n",
       "    </tr>\n",
       "    <tr>\n",
       "      <th>Gaussian Navies Bayes</th>\n",
       "      <td>0.446667</td>\n",
       "      <td>0.364057</td>\n",
       "      <td>0.391440</td>\n",
       "      <td>0.362438</td>\n",
       "    </tr>\n",
       "    <tr>\n",
       "      <th>Logistic Regression</th>\n",
       "      <td>0.713333</td>\n",
       "      <td>0.566434</td>\n",
       "      <td>0.387597</td>\n",
       "      <td>0.367682</td>\n",
       "    </tr>\n",
       "    <tr>\n",
       "      <th>Linear Discriminant Analysis</th>\n",
       "      <td>0.733333</td>\n",
       "      <td>0.483573</td>\n",
       "      <td>0.432946</td>\n",
       "      <td>0.432815</td>\n",
       "    </tr>\n",
       "    <tr>\n",
       "      <th>Decision Tree</th>\n",
       "      <td>0.746667</td>\n",
       "      <td>0.632916</td>\n",
       "      <td>0.523765</td>\n",
       "      <td>0.544835</td>\n",
       "    </tr>\n",
       "    <tr>\n",
       "      <th>Random Forest</th>\n",
       "      <td>0.740000</td>\n",
       "      <td>0.906475</td>\n",
       "      <td>0.498339</td>\n",
       "      <td>0.542473</td>\n",
       "    </tr>\n",
       "    <tr>\n",
       "      <th>Support Vector Machine</th>\n",
       "      <td>0.746667</td>\n",
       "      <td>0.533333</td>\n",
       "      <td>0.430775</td>\n",
       "      <td>0.430276</td>\n",
       "    </tr>\n",
       "    <tr>\n",
       "      <th>K-NearestNeighbors</th>\n",
       "      <td>0.746667</td>\n",
       "      <td>0.520124</td>\n",
       "      <td>0.435194</td>\n",
       "      <td>0.435956</td>\n",
       "    </tr>\n",
       "    <tr>\n",
       "      <th>Long Short Term Memory</th>\n",
       "      <td>0.666667</td>\n",
       "      <td>0.222222</td>\n",
       "      <td>0.333333</td>\n",
       "      <td>0.266667</td>\n",
       "    </tr>\n",
       "  </tbody>\n",
       "</table>\n",
       "</div>"
      ],
      "text/plain": [
       "                              Accuracy  Precision (mean)  Recall (mean)  \\\n",
       "Multinomial Navies Bayes      0.700000          0.563218       0.372093   \n",
       "Gaussian Navies Bayes         0.446667          0.364057       0.391440   \n",
       "Logistic Regression           0.713333          0.566434       0.387597   \n",
       "Linear Discriminant Analysis  0.733333          0.483573       0.432946   \n",
       "Decision Tree                 0.746667          0.632916       0.523765   \n",
       "Random Forest                 0.740000          0.906475       0.498339   \n",
       "Support Vector Machine        0.746667          0.533333       0.430775   \n",
       "K-NearestNeighbors            0.746667          0.520124       0.435194   \n",
       "Long Short Term Memory        0.666667          0.222222       0.333333   \n",
       "\n",
       "                              F1-Score (mean)  \n",
       "Multinomial Navies Bayes             0.341553  \n",
       "Gaussian Navies Bayes                0.362438  \n",
       "Logistic Regression                  0.367682  \n",
       "Linear Discriminant Analysis         0.432815  \n",
       "Decision Tree                        0.544835  \n",
       "Random Forest                        0.542473  \n",
       "Support Vector Machine               0.430276  \n",
       "K-NearestNeighbors                   0.435956  \n",
       "Long Short Term Memory               0.266667  "
      ]
     },
     "execution_count": 157,
     "metadata": {},
     "output_type": "execute_result"
    }
   ],
   "source": [
    "ysrcp_x1 = {'Accuracy':[ysrcp_mnb_acc,ysrcp_gnb_acc,ysrcp_lr_acc,ysrcp_lda_acc,\n",
    "                        ysrcp_dt_acc,ysrcp_rf_acc,ysrcp_svm_acc,ysrcp_knn_acc,ysrcp_lstm_acc],\n",
    "      'Precision (mean)':[ysrcp_mnb_pr,ysrcp_gnb_pr,ysrcp_lr_pr,ysrcp_lda_pr,\n",
    "                          ysrcp_dt_pr,ysrcp_rf_pr,ysrcp_svm_pr,ysrcp_knn_pr,ysrcp_lstm_pr],\n",
    "      'Recall (mean)':[ysrcp_mnb_rec,ysrcp_gnb_rec,ysrcp_lr_rec,ysrcp_lda_rec,\n",
    "                       ysrcp_dt_rec,ysrcp_rf_rec,ysrcp_svm_rec,ysrcp_knn_rec,ysrcp_lstm_rec],\n",
    "      'F1-Score (mean)':[ysrcp_mnb_f1,ysrcp_gnb_f1,ysrcp_lr_f1,ysrcp_lda_f1,\n",
    "                         ysrcp_dt_f1,ysrcp_rf_f1,ysrcp_svm_f1,ysrcp_knn_f1,ysrcp_lstm_f1]}\n",
    "ysrcp_x2 = ['Multinomial Navies Bayes','Gaussian Navies Bayes','Logistic Regression',\n",
    "            'Linear Discriminant Analysis','Decision Tree','Random Forest',\n",
    "            'Support Vector Machine','K-NearestNeighbors','Long Short Term Memory']\n",
    "ysrcp_df = pd.DataFrame(ysrcp_x1,ysrcp_x2)\n",
    "ysrcp_df"
   ]
  },
  {
   "cell_type": "code",
   "execution_count": 158,
   "id": "d968a99d",
   "metadata": {},
   "outputs": [
    {
     "data": {
      "text/html": [
       "<div>\n",
       "<style scoped>\n",
       "    .dataframe tbody tr th:only-of-type {\n",
       "        vertical-align: middle;\n",
       "    }\n",
       "\n",
       "    .dataframe tbody tr th {\n",
       "        vertical-align: top;\n",
       "    }\n",
       "\n",
       "    .dataframe thead th {\n",
       "        text-align: right;\n",
       "    }\n",
       "</style>\n",
       "<table border=\"1\" class=\"dataframe\">\n",
       "  <thead>\n",
       "    <tr style=\"text-align: right;\">\n",
       "      <th></th>\n",
       "      <th>Accuracy</th>\n",
       "      <th>Precision (mean)</th>\n",
       "      <th>Recall (mean)</th>\n",
       "      <th>F1-Score (mean)</th>\n",
       "    </tr>\n",
       "  </thead>\n",
       "  <tbody>\n",
       "    <tr>\n",
       "      <th>Multinomial Navies Bayes</th>\n",
       "      <td>0.743802</td>\n",
       "      <td>0.530769</td>\n",
       "      <td>0.518182</td>\n",
       "      <td>0.507516</td>\n",
       "    </tr>\n",
       "    <tr>\n",
       "      <th>Gaussian Navies Bayes</th>\n",
       "      <td>0.528926</td>\n",
       "      <td>0.459111</td>\n",
       "      <td>0.483502</td>\n",
       "      <td>0.458953</td>\n",
       "    </tr>\n",
       "    <tr>\n",
       "      <th>Logistic Regression</th>\n",
       "      <td>0.702479</td>\n",
       "      <td>0.534127</td>\n",
       "      <td>0.476431</td>\n",
       "      <td>0.463064</td>\n",
       "    </tr>\n",
       "    <tr>\n",
       "      <th>Linear Discriminant Analysis</th>\n",
       "      <td>0.371901</td>\n",
       "      <td>0.550896</td>\n",
       "      <td>0.439394</td>\n",
       "      <td>0.377423</td>\n",
       "    </tr>\n",
       "    <tr>\n",
       "      <th>Decision Tree</th>\n",
       "      <td>0.694215</td>\n",
       "      <td>0.479708</td>\n",
       "      <td>0.485522</td>\n",
       "      <td>0.473795</td>\n",
       "    </tr>\n",
       "    <tr>\n",
       "      <th>Random Forest</th>\n",
       "      <td>0.702479</td>\n",
       "      <td>0.503809</td>\n",
       "      <td>0.483502</td>\n",
       "      <td>0.471296</td>\n",
       "    </tr>\n",
       "    <tr>\n",
       "      <th>Support Vector Machine</th>\n",
       "      <td>0.760331</td>\n",
       "      <td>0.554403</td>\n",
       "      <td>0.528283</td>\n",
       "      <td>0.519112</td>\n",
       "    </tr>\n",
       "    <tr>\n",
       "      <th>K-NearestNeighbors</th>\n",
       "      <td>0.735537</td>\n",
       "      <td>0.488019</td>\n",
       "      <td>0.527273</td>\n",
       "      <td>0.506534</td>\n",
       "    </tr>\n",
       "    <tr>\n",
       "      <th>Long Short Term Memory</th>\n",
       "      <td>0.371901</td>\n",
       "      <td>0.123967</td>\n",
       "      <td>0.333333</td>\n",
       "      <td>0.180723</td>\n",
       "    </tr>\n",
       "  </tbody>\n",
       "</table>\n",
       "</div>"
      ],
      "text/plain": [
       "                              Accuracy  Precision (mean)  Recall (mean)  \\\n",
       "Multinomial Navies Bayes      0.743802          0.530769       0.518182   \n",
       "Gaussian Navies Bayes         0.528926          0.459111       0.483502   \n",
       "Logistic Regression           0.702479          0.534127       0.476431   \n",
       "Linear Discriminant Analysis  0.371901          0.550896       0.439394   \n",
       "Decision Tree                 0.694215          0.479708       0.485522   \n",
       "Random Forest                 0.702479          0.503809       0.483502   \n",
       "Support Vector Machine        0.760331          0.554403       0.528283   \n",
       "K-NearestNeighbors            0.735537          0.488019       0.527273   \n",
       "Long Short Term Memory        0.371901          0.123967       0.333333   \n",
       "\n",
       "                              F1-Score (mean)  \n",
       "Multinomial Navies Bayes             0.507516  \n",
       "Gaussian Navies Bayes                0.458953  \n",
       "Logistic Regression                  0.463064  \n",
       "Linear Discriminant Analysis         0.377423  \n",
       "Decision Tree                        0.473795  \n",
       "Random Forest                        0.471296  \n",
       "Support Vector Machine               0.519112  \n",
       "K-NearestNeighbors                   0.506534  \n",
       "Long Short Term Memory               0.180723  "
      ]
     },
     "execution_count": 158,
     "metadata": {},
     "output_type": "execute_result"
    }
   ],
   "source": [
    "tdp_x1 = {'Accuracy':[tdp_mnb_acc,tdp_gnb_acc,tdp_lr_acc,tdp_lda_acc,\n",
    "                      tdp_dt_acc,tdp_rf_acc,tdp_svm_acc,tdp_knn_acc,tdp_lstm_acc],\n",
    "      'Precision (mean)':[tdp_mnb_pr,tdp_gnb_pr,tdp_lr_pr,tdp_lda_pr,\n",
    "                          tdp_dt_pr,tdp_rf_pr,tdp_svm_pr,tdp_knn_pr,tdp_lstm_pr],\n",
    "      'Recall (mean)':[tdp_mnb_rec,tdp_gnb_rec,tdp_lr_rec,tdp_lda_rec,\n",
    "                       tdp_dt_rec,tdp_rf_rec,tdp_svm_rec,tdp_knn_rec,tdp_lstm_rec],\n",
    "      'F1-Score (mean)':[tdp_mnb_f1,tdp_gnb_f1,tdp_lr_f1,tdp_lda_f1,\n",
    "                         tdp_dt_f1,tdp_rf_f1,tdp_svm_f1,tdp_knn_f1,tdp_lstm_f1]}\n",
    "tdp_x2 = ['Multinomial Navies Bayes','Gaussian Navies Bayes','Logistic Regression',\n",
    "          'Linear Discriminant Analysis','Decision Tree','Random Forest',\n",
    "          'Support Vector Machine','K-NearestNeighbors','Long Short Term Memory']\n",
    "tdp_df = pd.DataFrame(tdp_x1,tdp_x2)\n",
    "tdp_df"
   ]
  },
  {
   "cell_type": "code",
   "execution_count": null,
   "id": "f07d5403",
   "metadata": {},
   "outputs": [],
   "source": []
  },
  {
   "cell_type": "raw",
   "id": "b57cba73",
   "metadata": {},
   "source": [
    "YSRCP:\n",
    "    DT, SVM, KNN\n",
    "TDP:\n",
    "    MNB, SVM, KNN"
   ]
  },
  {
   "cell_type": "markdown",
   "id": "271fafe8",
   "metadata": {},
   "source": [
    "# TESTING"
   ]
  },
  {
   "cell_type": "code",
   "execution_count": 171,
   "id": "35ac9f80",
   "metadata": {},
   "outputs": [],
   "source": [
    "ysrcp_test = pd.read_csv(r\"dataset\\campagin_speeches\\ysrcp_camp_test.csv\")\n",
    "tdp_test = pd.read_csv(r\"dataset\\campagin_speeches\\tdp_camp_test.csv\")"
   ]
  },
  {
   "cell_type": "code",
   "execution_count": 172,
   "id": "497eff55",
   "metadata": {},
   "outputs": [],
   "source": [
    "ysrcp_test = ysrcp_test.dropna()\n",
    "tdp_test = tdp_test.dropna()\n",
    "ysrcp_test = ysrcp_test.drop_duplicates()\n",
    "tdp_test = tdp_test.drop_duplicates()"
   ]
  },
  {
   "cell_type": "markdown",
   "id": "d33b0cd1",
   "metadata": {},
   "source": [
    "## YSRCP"
   ]
  },
  {
   "cell_type": "code",
   "execution_count": 163,
   "id": "1f4da0ed",
   "metadata": {},
   "outputs": [],
   "source": [
    "def ysrcp_test_pred(comment):\n",
    "    \n",
    "    res = [0]*3         #neg:0,pos:1,neu:2\n",
    "    \n",
    "    dt = ysrcp_dt.predict(comment)\n",
    "    if dt[0] == 2.0:\n",
    "        return 2\n",
    "    res[int(dt[0])] = res[int(dt[0])] + 1\n",
    "        \n",
    "    svm = ysrcp_svm.predict(comment)\n",
    "    if svm[0] == 0.0:\n",
    "        return 0\n",
    "    res[int(svm[0])] = res[int(svm[0])] + 1\n",
    "        \n",
    "    knn = ysrcp_knn.predict(comment)\n",
    "    res[int(knn[0])] = res[int(knn[0])] + 1\n",
    "    \n",
    "    return res.index(max(res))"
   ]
  },
  {
   "cell_type": "code",
   "execution_count": 177,
   "id": "cec06248",
   "metadata": {},
   "outputs": [
    {
     "name": "stdout",
     "output_type": "stream",
     "text": [
      "DONE\n"
     ]
    }
   ],
   "source": [
    "ysrcp_pro_comments = []\n",
    "ysrcp_pred_test = []\n",
    "ysrcp_le = ysrcp_features[0].shape\n",
    "\n",
    "for i in ysrcp_test['Comments']:\n",
    "    p = re.sub(r'http\\S+|www\\S+|@\\w+', ' ', i)\n",
    "    p = re.sub(r'[^a-z]',' ',p)\n",
    "    p = re.sub('[.+|,+]',' ',p)\n",
    "    p = word_tokenize(p)\n",
    "    p = [k for k in p if k not in sw]\n",
    "    p = [lm.lemmatize(k) for k in p]\n",
    "    p = ' '.join(p)\n",
    "    if p=='':\n",
    "        ysrcp_pro_comments.append(np.nan)\n",
    "    else:\n",
    "        ysrcp_pro_comments.append(p)\n",
    "    \n",
    "    if p!='':\n",
    "        tf_comment_features = tf_idf.fit_transform([ysrcp_pro_comments[-1]]).toarray()\n",
    "        ysrcp_re = np.empty((0,ysrcp_le[0]), float)\n",
    "        for i in tf_comment_features:\n",
    "            zeros_array = np.zeros(ysrcp_le[0]-tf_comment_features[0].shape[0])\n",
    "            resize_ysrcp = np.concatenate((i, zeros_array))\n",
    "            ysrcp_re = np.vstack((ysrcp_re, resize_ysrcp))\n",
    "\n",
    "\n",
    "        for i in ysrcp_re:\n",
    "            pred = ysrcp_test_pred(i.reshape(1,-1))\n",
    "            if pred==0:\n",
    "                ysrcp_pred_test.append('Negative')\n",
    "            elif pred==1:\n",
    "                ysrcp_pred_test.append('Positive')\n",
    "            else:\n",
    "                ysrcp_pred_test.append('Neutral')\n",
    "    \n",
    "print('DONE')"
   ]
  },
  {
   "cell_type": "code",
   "execution_count": 184,
   "id": "6b914624",
   "metadata": {},
   "outputs": [
    {
     "name": "stdout",
     "output_type": "stream",
     "text": [
      "Excel in downloads\n",
      "30-10-2023 23:54:15\n"
     ]
    }
   ],
   "source": [
    "import datetime\n",
    "now = datetime.datetime.now()\n",
    "k = now.strftime(\"%d_%m_%Y_%H_%M_%S\")\n",
    "df = {'Comments':ysrcp_test['Comments'],'Emotion_predicted':ysrcp_pred_test}\n",
    "pd.DataFrame(df).to_csv(fr\"dataset\\campagin_speeches\\camp_ysrcp_{str(k)}.csv\")\n",
    "print(\"Excel in downloads\")\n",
    "print(now.strftime(\"%d-%m-%Y %H:%M:%S\"))"
   ]
  },
  {
   "cell_type": "markdown",
   "id": "24e2bc18",
   "metadata": {},
   "source": [
    "## TDP"
   ]
  },
  {
   "cell_type": "code",
   "execution_count": 179,
   "id": "5e744a2d",
   "metadata": {},
   "outputs": [],
   "source": [
    "tdp_test = tdp_test.dropna()\n",
    "def tdp_test_pred(comment):\n",
    "    \n",
    "    res = [0]*3         #neg:0,pos:1,neu:2\n",
    "    \n",
    "    mnb = tdp_mnb.predict(comment)\n",
    "    res[int(mnb[0])] = res[int(mnb[0])] + 1\n",
    "        \n",
    "    svm = tdp_svm.predict(comment)\n",
    "    if svm[0] == 1.0:\n",
    "        return 1\n",
    "    res[int(svm[0])] = res[int(svm[0])] + 1\n",
    "        \n",
    "    knn = tdp_knn.predict(comment)\n",
    "    res[int(knn[0])] = res[int(knn[0])] + 1\n",
    "    \n",
    "    return res.index(max(res))"
   ]
  },
  {
   "cell_type": "code",
   "execution_count": 182,
   "id": "3daf2f7a",
   "metadata": {},
   "outputs": [
    {
     "name": "stdout",
     "output_type": "stream",
     "text": [
      "DONE\n"
     ]
    }
   ],
   "source": [
    "tdp_pred_test = []\n",
    "tdp_le = tdp_features[0].shape\n",
    "\n",
    "for i in tdp_test['Comments']:\n",
    "    p = re.sub(r'http\\S+|www\\S+|@\\w+', ' ', i)\n",
    "    p = re.sub(r'[^a-z]',' ',p)\n",
    "    p = re.sub('[.+|,+]',' ',p)\n",
    "    p = word_tokenize(p)\n",
    "    p = [k for k in p if k not in sw]\n",
    "    p = [lm.lemmatize(k) for k in p]\n",
    "    p = ' '.join(p)\n",
    "    \n",
    "    if p!='':\n",
    "        tdp_comment_features = tf_idf.fit_transform([p]).toarray()\n",
    "        tdp_re = np.empty((0,tdp_le[0]), float)\n",
    "        for i in tdp_comment_features:\n",
    "            zeros_array = np.zeros(tdp_le[0]-tdp_comment_features[0].shape[0])\n",
    "            resize_tdp = np.concatenate((i, zeros_array))\n",
    "            tdp_re = np.vstack((tdp_re, resize_tdp))\n",
    "        \n",
    "        for i in tdp_re:\n",
    "            pred = tdp_test_pred(i.reshape(1,-1))\n",
    "            if pred==0:\n",
    "                tdp_pred_test.append('Negative')\n",
    "            elif pred==1:\n",
    "                tdp_pred_test.append('Positive')\n",
    "            else:\n",
    "                tdp_pred_test.append('Neutral')\n",
    "    else:\n",
    "        tdp_pred_test.append('Neutral')\n",
    "        \n",
    "print('DONE')"
   ]
  },
  {
   "cell_type": "code",
   "execution_count": 185,
   "id": "ba99c287",
   "metadata": {},
   "outputs": [
    {
     "name": "stdout",
     "output_type": "stream",
     "text": [
      "Excel in downloads\n",
      "30-10-2023 23:54:25\n"
     ]
    }
   ],
   "source": [
    "now = datetime.datetime.now()\n",
    "k = now.strftime(\"%d%m%Y_%H_%M_%S\")\n",
    "df = {'Comments':tdp_test['Comments'],'Emotion_predicted':tdp_pred_test}\n",
    "pd.DataFrame(df).to_csv(fr\"dataset\\campagin_speeches\\camp_tdp_{str(k)}.csv\")\n",
    "print(\"Excel in downloads\")\n",
    "print(now.strftime(\"%d-%m-%Y %H:%M:%S\"))"
   ]
  }
 ],
 "metadata": {
  "kernelspec": {
   "display_name": "Python 3 (ipykernel)",
   "language": "python",
   "name": "python3"
  },
  "language_info": {
   "codemirror_mode": {
    "name": "ipython",
    "version": 3
   },
   "file_extension": ".py",
   "mimetype": "text/x-python",
   "name": "python",
   "nbconvert_exporter": "python",
   "pygments_lexer": "ipython3",
   "version": "3.9.12"
  }
 },
 "nbformat": 4,
 "nbformat_minor": 5
}
